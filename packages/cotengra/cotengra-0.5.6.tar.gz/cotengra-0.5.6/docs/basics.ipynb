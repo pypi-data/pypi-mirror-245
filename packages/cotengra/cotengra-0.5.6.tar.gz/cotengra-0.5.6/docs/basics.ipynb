{
 "cells": [
  {
   "cell_type": "markdown",
   "id": "9c8e1ba6-6b35-4dec-830e-686299698e2b",
   "metadata": {},
   "source": [
    "# Basics"
   ]
  },
  {
   "cell_type": "markdown",
   "id": "ebe10c20-484e-4299-bd2d-255724be621b",
   "metadata": {},
   "source": [
    "This page describes the basic ways to set up a contraction and an explicit optimizer and defines some common terms.\n",
    "The focus of `cotengra` is *exact contraction*. That is, taking a collection of tensors with indices described by a tensor network or einsum equation and then:\n",
    "\n",
    "1. finding the best sequence of pairwise contractions that reduces them to a single output tensor\n",
    "2. performing this contraction using a mix of `tensordot` and potentially `einsum` calls\n",
    "\n",
    "```{note}\n",
    "`cotengra` doesn't involve itself with building, modifying, simplifying or decomposing tensors and tensor networks etc.\n",
    "```\n",
    "\n",
    "The minimal information you need to describe such a contraction is:\n",
    "\n",
    "* the index labels for each tensor\n",
    "* the output index labels\n",
    "* the size of each index\n",
    "\n",
    "Here's a very small example of such information involving 4 tensors:"
   ]
  },
  {
   "cell_type": "code",
   "execution_count": 2,
   "id": "bafad29a-5ba0-471a-a3e9-5e91847fe02c",
   "metadata": {},
   "outputs": [],
   "source": [
    "%config InlineBackend.figure_formats = ['svg']\n",
    "import cotengra as ctg\n",
    "\n",
    "inputs = [\n",
    "    ('a', 'b', 'x'), \n",
    "    ('b', 'c', 'd'), \n",
    "    ('c', 'e', 'y'), \n",
    "    ('e', 'a', 'd'),\n",
    "]\n",
    "\n",
    "output = ('x', 'y')\n",
    "\n",
    "size_dict = {'x': 2, 'y': 3, 'a': 4, 'b': 5, 'c': 6, 'd': 7, 'e': 8}"
   ]
  },
  {
   "cell_type": "markdown",
   "id": "878b0d5b-1daa-4644-add0-e38bc2a8873f",
   "metadata": {},
   "source": [
    "This is equivalent to describing an einsum equation and array shapes (such as for `numpy.einsum` or `opt_einsum.contract`):"
   ]
  },
  {
   "cell_type": "code",
   "execution_count": 3,
   "id": "e0b47b06-0a19-494c-b639-6104daf8d309",
   "metadata": {},
   "outputs": [],
   "source": [
    "import numpy as np\n",
    "\n",
    "eq = 'abx,bcd,cey,ead->xy'\n",
    "shapes = [(4, 5, 2), (5, 6, 7), (6, 8, 3), (8, 4, 7)]\n",
    "arrays = [np.ones(s) for s in shapes]"
   ]
  },
  {
   "cell_type": "markdown",
   "id": "904673db-bf08-4abc-ae47-84776ea8565e",
   "metadata": {},
   "source": [
    "The actual names of indices here are only relevant for defining the *geometry*\n",
    "within this contraction. \n",
    "\n",
    "```{note}\n",
    "For readability, generally a single unicode character is used per index.\n",
    "See `ctg.get_symbol(i)` if you need to generate a usable set of these. \n",
    "```\n",
    "\n",
    "Each index can be thought of as an ***edge*** in a tensor network, \n",
    "with each tensor being a ***node***. If every index appears exactly twice in either\n",
    "the inputs or output, then the underlying geometry is described as a \n",
    "[***graph***](https://en.wikipedia.org/wiki/Graph_(discrete_mathematics)), \n",
    "otherwise it is a [***hypergraph***](https://en.wikipedia.org/wiki/Hypergraph). \n",
    "You can visualize an input contraction with:"
   ]
  },
  {
   "cell_type": "code",
   "execution_count": 4,
   "id": "1bb0f0ef-00ba-46dd-b845-1166f45caa31",
   "metadata": {},
   "outputs": [
    {
     "data": {
      "image/svg+xml": [
       "<?xml version=\"1.0\" encoding=\"utf-8\" standalone=\"no\"?>\n",
       "<!DOCTYPE svg PUBLIC \"-//W3C//DTD SVG 1.1//EN\"\n",
       "  \"http://www.w3.org/Graphics/SVG/1.1/DTD/svg11.dtd\">\n",
       "<svg height=\"83.397174pt\" version=\"1.1\" viewBox=\"0 0 293.4 83.397174\" width=\"293.4pt\" xmlns=\"http://www.w3.org/2000/svg\" xmlns:xlink=\"http://www.w3.org/1999/xlink\">\n",
       " <metadata>\n",
       "  <rdf:RDF xmlns:cc=\"http://creativecommons.org/ns#\" xmlns:dc=\"http://purl.org/dc/elements/1.1/\" xmlns:rdf=\"http://www.w3.org/1999/02/22-rdf-syntax-ns#\">\n",
       "   <cc:Work>\n",
       "    <dc:type rdf:resource=\"http://purl.org/dc/dcmitype/StillImage\"/>\n",
       "    <dc:date>2021-12-22T16:30:51.286199</dc:date>\n",
       "    <dc:format>image/svg+xml</dc:format>\n",
       "    <dc:creator>\n",
       "     <cc:Agent>\n",
       "      <dc:title>Matplotlib v3.4.3, https://matplotlib.org/</dc:title>\n",
       "     </cc:Agent>\n",
       "    </dc:creator>\n",
       "   </cc:Work>\n",
       "  </rdf:RDF>\n",
       " </metadata>\n",
       " <defs>\n",
       "  <style type=\"text/css\">*{stroke-linecap:butt;stroke-linejoin:round;}</style>\n",
       " </defs>\n",
       " <g id=\"figure_1\">\n",
       "  <g id=\"patch_1\">\n",
       "   <path d=\"M 0 83.397174 \n",
       "L 293.4 83.397174 \n",
       "L 293.4 0 \n",
       "L 0 0 \n",
       "z\n",
       "\" style=\"fill:none;\"/>\n",
       "  </g>\n",
       "  <g id=\"axes_1\">\n",
       "   <g id=\"LineCollection_1\">\n",
       "    <path clip-path=\"url(#p62890962ea)\" d=\"M 91.923783 44.948503 \n",
       "L 148.391536 70.209816 \n",
       "\" style=\"fill:none;stroke:#808080;stroke-opacity:0.333333;stroke-width:2;\"/>\n",
       "    <path clip-path=\"url(#p62890962ea)\" d=\"M 91.923783 44.948503 \n",
       "L 145.008373 13.187358 \n",
       "\" style=\"fill:none;stroke:#808080;stroke-opacity:0.333333;stroke-width:2.321928;\"/>\n",
       "    <path clip-path=\"url(#p62890962ea)\" d=\"M 91.923783 44.948503 \n",
       "L 31.410744 48.53939 \n",
       "\" style=\"fill:none;stroke:#808080;stroke-dasharray:3.7,1.6;stroke-dashoffset:0;stroke-opacity:0.333333;\"/>\n",
       "    <path clip-path=\"url(#p62890962ea)\" d=\"M 148.391536 70.209816 \n",
       "L 145.008373 13.187358 \n",
       "\" style=\"fill:none;stroke:#808080;stroke-opacity:0.333333;stroke-width:2.807355;\"/>\n",
       "    <path clip-path=\"url(#p62890962ea)\" d=\"M 148.391536 70.209816 \n",
       "L 201.476125 38.448585 \n",
       "\" style=\"fill:none;stroke:#808080;stroke-opacity:0.333333;stroke-width:3;\"/>\n",
       "    <path clip-path=\"url(#p62890962ea)\" d=\"M 145.008373 13.187358 \n",
       "L 201.476125 38.448585 \n",
       "\" style=\"fill:none;stroke:#808080;stroke-opacity:0.333333;stroke-width:2.584963;\"/>\n",
       "    <path clip-path=\"url(#p62890962ea)\" d=\"M 201.476125 38.448585 \n",
       "L 261.989256 34.859649 \n",
       "\" style=\"fill:none;stroke:#808080;stroke-dasharray:5.864361,2.53594;stroke-dashoffset:0;stroke-opacity:0.333333;stroke-width:1.584963;\"/>\n",
       "   </g>\n",
       "   <g id=\"text_1\">\n",
       "    <g id=\"patch_2\">\n",
       "     <path clip-path=\"url(#p62890962ea)\" d=\"M 110.130728 55.900982 \n",
       "L 116.455896 67.047664 \n",
       "L 130.18459 59.257337 \n",
       "L 123.859422 48.110655 \n",
       "z\n",
       "\" style=\"fill:none;opacity:0;\"/>\n",
       "    </g>\n",
       "    <g clip-path=\"url(#p62890962ea)\">\n",
       "     <!-- a -->\n",
       "     <g style=\"fill:#808080;opacity:0.5;\" transform=\"translate(117.030773 56.584689)rotate(-299.572677)scale(0.08 -0.08)\">\n",
       "      <defs>\n",
       "       <path d=\"M 2194 1759 \n",
       "L 2003 1759 \n",
       "Q 1500 1759 1245 1582 \n",
       "Q 991 1406 991 1056 \n",
       "Q 991 741 1181 566 \n",
       "Q 1372 391 1709 391 \n",
       "Q 2184 391 2456 720 \n",
       "Q 2728 1050 2731 1631 \n",
       "L 2731 1759 \n",
       "L 2194 1759 \n",
       "z\n",
       "M 3309 1997 \n",
       "L 3309 0 \n",
       "L 2731 0 \n",
       "L 2731 519 \n",
       "Q 2547 206 2267 57 \n",
       "Q 1988 -91 1588 -91 \n",
       "Q 1053 -91 734 211 \n",
       "Q 416 513 416 1019 \n",
       "Q 416 1603 808 1906 \n",
       "Q 1200 2209 1959 2209 \n",
       "L 2731 2209 \n",
       "L 2731 2300 \n",
       "Q 2728 2719 2518 2908 \n",
       "Q 2309 3097 1850 3097 \n",
       "Q 1556 3097 1256 3012 \n",
       "Q 956 2928 672 2766 \n",
       "L 672 3341 \n",
       "Q 991 3463 1283 3523 \n",
       "Q 1575 3584 1850 3584 \n",
       "Q 2284 3584 2592 3456 \n",
       "Q 2900 3328 3091 3072 \n",
       "Q 3209 2916 3259 2686 \n",
       "Q 3309 2456 3309 1997 \n",
       "z\n",
       "\" id=\"DejaVuSansMono-61\" transform=\"scale(0.015625)\"/>\n",
       "      </defs>\n",
       "      <use xlink:href=\"#DejaVuSansMono-61\"/>\n",
       "     </g>\n",
       "    </g>\n",
       "   </g>\n",
       "   <g id=\"text_2\">\n",
       "    <g id=\"patch_3\">\n",
       "     <path clip-path=\"url(#p62890962ea)\" d=\"M 123.22878 38.049706 \n",
       "L 128.234556 26.251466 \n",
       "L 113.703377 20.086155 \n",
       "L 108.697601 31.884395 \n",
       "z\n",
       "\" style=\"fill:none;opacity:0;\"/>\n",
       "    </g>\n",
       "    <g clip-path=\"url(#p62890962ea)\">\n",
       "     <!-- b -->\n",
       "     <g style=\"fill:#808080;opacity:0.5;\" transform=\"translate(119.577229 32.155281)rotate(-67.009382)scale(0.08 -0.08)\">\n",
       "      <defs>\n",
       "       <path d=\"M 2869 1747 \n",
       "Q 2869 2416 2656 2756 \n",
       "Q 2444 3097 2028 3097 \n",
       "Q 1609 3097 1393 2755 \n",
       "Q 1178 2413 1178 1747 \n",
       "Q 1178 1084 1393 740 \n",
       "Q 1609 397 2028 397 \n",
       "Q 2444 397 2656 737 \n",
       "Q 2869 1078 2869 1747 \n",
       "z\n",
       "M 1178 3053 \n",
       "Q 1316 3309 1558 3446 \n",
       "Q 1800 3584 2119 3584 \n",
       "Q 2750 3584 3112 3098 \n",
       "Q 3475 2613 3475 1759 \n",
       "Q 3475 894 3111 401 \n",
       "Q 2747 -91 2113 -91 \n",
       "Q 1800 -91 1561 45 \n",
       "Q 1322 181 1178 441 \n",
       "L 1178 0 \n",
       "L 603 0 \n",
       "L 603 4863 \n",
       "L 1178 4863 \n",
       "L 1178 3053 \n",
       "z\n",
       "\" id=\"DejaVuSansMono-62\" transform=\"scale(0.015625)\"/>\n",
       "      </defs>\n",
       "      <use xlink:href=\"#DejaVuSansMono-62\"/>\n",
       "     </g>\n",
       "    </g>\n",
       "   </g>\n",
       "   <g id=\"text_3\">\n",
       "    <g id=\"patch_4\">\n",
       "     <path clip-path=\"url(#p62890962ea)\" d=\"M 138.711847 35.410046 \n",
       "L 138.904852 48.224842 \n",
       "L 154.688062 47.987129 \n",
       "L 154.495057 35.172332 \n",
       "z\n",
       "\" style=\"fill:none;opacity:0;\"/>\n",
       "    </g>\n",
       "    <g clip-path=\"url(#p62890962ea)\">\n",
       "     <!-- d -->\n",
       "     <g style=\"fill:#808080;opacity:0.5;\" transform=\"translate(144.435192 39.324299)rotate(-270.862876)scale(0.08 -0.08)\">\n",
       "      <defs>\n",
       "       <path d=\"M 2681 3053 \n",
       "L 2681 4863 \n",
       "L 3256 4863 \n",
       "L 3256 0 \n",
       "L 2681 0 \n",
       "L 2681 441 \n",
       "Q 2538 181 2298 45 \n",
       "Q 2059 -91 1747 -91 \n",
       "Q 1113 -91 748 401 \n",
       "Q 384 894 384 1759 \n",
       "Q 384 2613 750 3098 \n",
       "Q 1116 3584 1747 3584 \n",
       "Q 2063 3584 2303 3448 \n",
       "Q 2544 3313 2681 3053 \n",
       "z\n",
       "M 991 1747 \n",
       "Q 991 1078 1203 737 \n",
       "Q 1416 397 1831 397 \n",
       "Q 2247 397 2464 740 \n",
       "Q 2681 1084 2681 1747 \n",
       "Q 2681 2413 2464 2755 \n",
       "Q 2247 3097 1831 3097 \n",
       "Q 1416 3097 1203 2756 \n",
       "Q 991 2416 991 1747 \n",
       "z\n",
       "\" id=\"DejaVuSansMono-64\" transform=\"scale(0.015625)\"/>\n",
       "      </defs>\n",
       "      <use xlink:href=\"#DejaVuSansMono-64\"/>\n",
       "     </g>\n",
       "    </g>\n",
       "   </g>\n",
       "   <g id=\"text_4\">\n",
       "    <g id=\"patch_5\">\n",
       "     <path clip-path=\"url(#p62890962ea)\" d=\"M 179.696541 63.310972 \n",
       "L 184.702305 51.512727 \n",
       "L 170.17112 45.347429 \n",
       "L 165.165356 57.145675 \n",
       "z\n",
       "\" style=\"fill:none;opacity:0;\"/>\n",
       "    </g>\n",
       "    <g clip-path=\"url(#p62890962ea)\">\n",
       "     <!-- e -->\n",
       "     <g style=\"fill:#808080;opacity:0.5;\" transform=\"translate(176.044985 57.41655)rotate(-67.009439)scale(0.08 -0.08)\">\n",
       "      <defs>\n",
       "       <path d=\"M 3475 1894 \n",
       "L 3475 1613 \n",
       "L 984 1613 \n",
       "L 984 1594 \n",
       "Q 984 1022 1282 709 \n",
       "Q 1581 397 2125 397 \n",
       "Q 2400 397 2700 484 \n",
       "Q 3000 572 3341 750 \n",
       "L 3341 178 \n",
       "Q 3013 44 2708 -23 \n",
       "Q 2403 -91 2119 -91 \n",
       "Q 1303 -91 843 398 \n",
       "Q 384 888 384 1747 \n",
       "Q 384 2584 834 3084 \n",
       "Q 1284 3584 2034 3584 \n",
       "Q 2703 3584 3089 3131 \n",
       "Q 3475 2678 3475 1894 \n",
       "z\n",
       "M 2900 2063 \n",
       "Q 2888 2569 2661 2833 \n",
       "Q 2434 3097 2009 3097 \n",
       "Q 1594 3097 1325 2822 \n",
       "Q 1056 2547 1006 2059 \n",
       "L 2900 2063 \n",
       "z\n",
       "\" id=\"DejaVuSansMono-65\" transform=\"scale(0.015625)\"/>\n",
       "      </defs>\n",
       "      <use xlink:href=\"#DejaVuSansMono-65\"/>\n",
       "     </g>\n",
       "    </g>\n",
       "   </g>\n",
       "   <g id=\"text_5\">\n",
       "    <g id=\"patch_6\">\n",
       "     <path clip-path=\"url(#p62890962ea)\" d=\"M 163.215316 24.139808 \n",
       "L 169.5405 35.286481 \n",
       "L 183.269182 27.496135 \n",
       "L 176.943998 16.349462 \n",
       "z\n",
       "\" style=\"fill:none;opacity:0;\"/>\n",
       "    </g>\n",
       "    <g clip-path=\"url(#p62890962ea)\">\n",
       "     <!-- c -->\n",
       "     <g style=\"fill:#808080;opacity:0.5;\" transform=\"translate(170.115361 24.823505)rotate(-299.572761)scale(0.08 -0.08)\">\n",
       "      <defs>\n",
       "       <path d=\"M 3316 178 \n",
       "Q 3084 44 2839 -23 \n",
       "Q 2594 -91 2338 -91 \n",
       "Q 1525 -91 1067 396 \n",
       "Q 609 884 609 1747 \n",
       "Q 609 2609 1067 3096 \n",
       "Q 1525 3584 2338 3584 \n",
       "Q 2591 3584 2831 3518 \n",
       "Q 3072 3453 3316 3316 \n",
       "L 3316 2713 \n",
       "Q 3088 2916 2858 3006 \n",
       "Q 2628 3097 2338 3097 \n",
       "Q 1797 3097 1506 2747 \n",
       "Q 1216 2397 1216 1747 \n",
       "Q 1216 1100 1508 748 \n",
       "Q 1800 397 2338 397 \n",
       "Q 2638 397 2875 489 \n",
       "Q 3113 581 3316 775 \n",
       "L 3316 178 \n",
       "z\n",
       "\" id=\"DejaVuSansMono-63\" transform=\"scale(0.015625)\"/>\n",
       "      </defs>\n",
       "      <use xlink:href=\"#DejaVuSansMono-63\"/>\n",
       "     </g>\n",
       "    </g>\n",
       "   </g>\n",
       "   <g id=\"PathCollection_1\">\n",
       "    <defs>\n",
       "     <path d=\"M 0 9.733051 \n",
       "C 2.581235 9.733051 5.057097 8.707516 6.882306 6.882306 \n",
       "C 8.707516 5.057097 9.733051 2.581235 9.733051 -0 \n",
       "C 9.733051 -2.581235 8.707516 -5.057097 6.882306 -6.882306 \n",
       "C 5.057097 -8.707516 2.581235 -9.733051 0 -9.733051 \n",
       "C -2.581235 -9.733051 -5.057097 -8.707516 -6.882306 -6.882306 \n",
       "C -8.707516 -5.057097 -9.733051 -2.581235 -9.733051 0 \n",
       "C -9.733051 2.581235 -8.707516 5.057097 -6.882306 6.882306 \n",
       "C -5.057097 8.707516 -2.581235 9.733051 0 9.733051 \n",
       "z\n",
       "\" id=\"C0_0_9d934a7c76\"/>\n",
       "    </defs>\n",
       "    <g clip-path=\"url(#p62890962ea)\">\n",
       "     <use style=\"fill:#0d0887;stroke:#0a066c;stroke-width:3;\" x=\"91.923783\" xlink:href=\"#C0_0_9d934a7c76\" y=\"44.948503\"/>\n",
       "    </g>\n",
       "    <g clip-path=\"url(#p62890962ea)\">\n",
       "     <use style=\"fill:#f0f921;stroke:#c0c71b;stroke-width:3;\" x=\"148.391536\" xlink:href=\"#C0_0_9d934a7c76\" y=\"70.209816\"/>\n",
       "    </g>\n",
       "    <g clip-path=\"url(#p62890962ea)\">\n",
       "     <use style=\"fill:#f0f921;stroke:#c0c71b;stroke-width:3;\" x=\"145.008373\" xlink:href=\"#C0_0_9d934a7c76\" y=\"13.187358\"/>\n",
       "    </g>\n",
       "    <g clip-path=\"url(#p62890962ea)\">\n",
       "     <use style=\"fill:none;\" x=\"31.410744\" xlink:href=\"#C0_0_9d934a7c76\" y=\"48.53939\"/>\n",
       "    </g>\n",
       "    <g clip-path=\"url(#p62890962ea)\">\n",
       "     <use style=\"fill:#0d0887;stroke:#0a066c;stroke-width:3;\" x=\"201.476125\" xlink:href=\"#C0_0_9d934a7c76\" y=\"38.448585\"/>\n",
       "    </g>\n",
       "    <g clip-path=\"url(#p62890962ea)\">\n",
       "     <use style=\"fill:none;\" x=\"261.989256\" xlink:href=\"#C0_0_9d934a7c76\" y=\"34.859649\"/>\n",
       "    </g>\n",
       "   </g>\n",
       "   <g id=\"text_6\">\n",
       "    <g id=\"patch_7\">\n",
       "     <path clip-path=\"url(#p62890962ea)\" d=\"M 85.515658 52.841003 \n",
       "L 98.331908 52.841003 \n",
       "L 98.331908 37.056003 \n",
       "L 85.515658 37.056003 \n",
       "z\n",
       "\" style=\"fill:none;opacity:0;\"/>\n",
       "    </g>\n",
       "    <g clip-path=\"url(#p62890962ea)\">\n",
       "     <!-- 0 -->\n",
       "     <g style=\"fill:#808080;opacity:0.5;\" transform=\"translate(89.515658 47.177253)scale(0.08 -0.08)\">\n",
       "      <defs>\n",
       "       <path d=\"M 1509 2344 \n",
       "Q 1509 2516 1629 2641 \n",
       "Q 1750 2766 1919 2766 \n",
       "Q 2094 2766 2219 2641 \n",
       "Q 2344 2516 2344 2344 \n",
       "Q 2344 2169 2220 2047 \n",
       "Q 2097 1925 1919 1925 \n",
       "Q 1744 1925 1626 2044 \n",
       "Q 1509 2163 1509 2344 \n",
       "z\n",
       "M 1925 4250 \n",
       "Q 1484 4250 1267 3775 \n",
       "Q 1050 3300 1050 2328 \n",
       "Q 1050 1359 1267 884 \n",
       "Q 1484 409 1925 409 \n",
       "Q 2369 409 2586 884 \n",
       "Q 2803 1359 2803 2328 \n",
       "Q 2803 3300 2586 3775 \n",
       "Q 2369 4250 1925 4250 \n",
       "z\n",
       "M 1925 4750 \n",
       "Q 2672 4750 3055 4137 \n",
       "Q 3438 3525 3438 2328 \n",
       "Q 3438 1134 3055 521 \n",
       "Q 2672 -91 1925 -91 \n",
       "Q 1178 -91 797 521 \n",
       "Q 416 1134 416 2328 \n",
       "Q 416 3525 797 4137 \n",
       "Q 1178 4750 1925 4750 \n",
       "z\n",
       "\" id=\"DejaVuSansMono-30\" transform=\"scale(0.015625)\"/>\n",
       "      </defs>\n",
       "      <use xlink:href=\"#DejaVuSansMono-30\"/>\n",
       "     </g>\n",
       "    </g>\n",
       "   </g>\n",
       "   <g id=\"text_7\">\n",
       "    <g id=\"patch_8\">\n",
       "     <path clip-path=\"url(#p62890962ea)\" d=\"M 141.983411 78.102316 \n",
       "L 154.799661 78.102316 \n",
       "L 154.799661 62.317316 \n",
       "L 141.983411 62.317316 \n",
       "z\n",
       "\" style=\"fill:none;opacity:0;\"/>\n",
       "    </g>\n",
       "    <g clip-path=\"url(#p62890962ea)\">\n",
       "     <!-- 3 -->\n",
       "     <g style=\"fill:#808080;opacity:0.5;\" transform=\"translate(145.983411 72.438566)scale(0.08 -0.08)\">\n",
       "      <defs>\n",
       "       <path d=\"M 2425 2497 \n",
       "Q 2884 2375 3128 2064 \n",
       "Q 3372 1753 3372 1288 \n",
       "Q 3372 644 2939 276 \n",
       "Q 2506 -91 1741 -91 \n",
       "Q 1419 -91 1084 -31 \n",
       "Q 750 28 428 141 \n",
       "L 428 769 \n",
       "Q 747 603 1056 522 \n",
       "Q 1366 441 1672 441 \n",
       "Q 2191 441 2469 675 \n",
       "Q 2747 909 2747 1350 \n",
       "Q 2747 1756 2469 1995 \n",
       "Q 2191 2234 1716 2234 \n",
       "L 1234 2234 \n",
       "L 1234 2753 \n",
       "L 1716 2753 \n",
       "Q 2150 2753 2394 2943 \n",
       "Q 2638 3134 2638 3475 \n",
       "Q 2638 3834 2411 4026 \n",
       "Q 2184 4219 1766 4219 \n",
       "Q 1488 4219 1191 4156 \n",
       "Q 894 4094 569 3969 \n",
       "L 569 4550 \n",
       "Q 947 4650 1242 4700 \n",
       "Q 1538 4750 1766 4750 \n",
       "Q 2447 4750 2855 4408 \n",
       "Q 3263 4066 3263 3500 \n",
       "Q 3263 3116 3048 2859 \n",
       "Q 2834 2603 2425 2497 \n",
       "z\n",
       "\" id=\"DejaVuSansMono-33\" transform=\"scale(0.015625)\"/>\n",
       "      </defs>\n",
       "      <use xlink:href=\"#DejaVuSansMono-33\"/>\n",
       "     </g>\n",
       "    </g>\n",
       "   </g>\n",
       "   <g id=\"text_8\">\n",
       "    <g id=\"patch_9\">\n",
       "     <path clip-path=\"url(#p62890962ea)\" d=\"M 138.600248 21.079858 \n",
       "L 151.416498 21.079858 \n",
       "L 151.416498 5.294858 \n",
       "L 138.600248 5.294858 \n",
       "z\n",
       "\" style=\"fill:none;opacity:0;\"/>\n",
       "    </g>\n",
       "    <g clip-path=\"url(#p62890962ea)\">\n",
       "     <!-- 1 -->\n",
       "     <g style=\"fill:#808080;opacity:0.5;\" transform=\"translate(142.600248 15.416108)scale(0.08 -0.08)\">\n",
       "      <defs>\n",
       "       <path d=\"M 844 531 \n",
       "L 1825 531 \n",
       "L 1825 4097 \n",
       "L 769 3859 \n",
       "L 769 4434 \n",
       "L 1819 4666 \n",
       "L 2450 4666 \n",
       "L 2450 531 \n",
       "L 3419 531 \n",
       "L 3419 0 \n",
       "L 844 0 \n",
       "L 844 531 \n",
       "z\n",
       "\" id=\"DejaVuSansMono-31\" transform=\"scale(0.015625)\"/>\n",
       "      </defs>\n",
       "      <use xlink:href=\"#DejaVuSansMono-31\"/>\n",
       "     </g>\n",
       "    </g>\n",
       "   </g>\n",
       "   <g id=\"text_9\">\n",
       "    <g id=\"patch_10\">\n",
       "     <path clip-path=\"url(#p62890962ea)\" d=\"M 25.002619 56.43189 \n",
       "L 37.818869 56.43189 \n",
       "L 37.818869 40.64689 \n",
       "L 25.002619 40.64689 \n",
       "z\n",
       "\" style=\"fill:none;opacity:0;\"/>\n",
       "    </g>\n",
       "    <g clip-path=\"url(#p62890962ea)\">\n",
       "     <!-- x -->\n",
       "     <g style=\"fill:#808080;opacity:0.5;\" transform=\"translate(29.002619 50.76814)scale(0.08 -0.08)\">\n",
       "      <defs>\n",
       "       <path d=\"M 3494 3500 \n",
       "L 2241 1825 \n",
       "L 3616 0 \n",
       "L 2950 0 \n",
       "L 1925 1403 \n",
       "L 903 0 \n",
       "L 238 0 \n",
       "L 1613 1825 \n",
       "L 359 3500 \n",
       "L 997 3500 \n",
       "L 1925 2234 \n",
       "L 2847 3500 \n",
       "L 3494 3500 \n",
       "z\n",
       "\" id=\"DejaVuSansMono-78\" transform=\"scale(0.015625)\"/>\n",
       "      </defs>\n",
       "      <use xlink:href=\"#DejaVuSansMono-78\"/>\n",
       "     </g>\n",
       "    </g>\n",
       "   </g>\n",
       "   <g id=\"text_10\">\n",
       "    <g id=\"patch_11\">\n",
       "     <path clip-path=\"url(#p62890962ea)\" d=\"M 195.068 46.341085 \n",
       "L 207.88425 46.341085 \n",
       "L 207.88425 30.556085 \n",
       "L 195.068 30.556085 \n",
       "z\n",
       "\" style=\"fill:none;opacity:0;\"/>\n",
       "    </g>\n",
       "    <g clip-path=\"url(#p62890962ea)\">\n",
       "     <!-- 2 -->\n",
       "     <g style=\"fill:#808080;opacity:0.5;\" transform=\"translate(199.068 40.677335)scale(0.08 -0.08)\">\n",
       "      <defs>\n",
       "       <path d=\"M 1166 531 \n",
       "L 3309 531 \n",
       "L 3309 0 \n",
       "L 475 0 \n",
       "L 475 531 \n",
       "Q 1059 1147 1496 1619 \n",
       "Q 1934 2091 2100 2284 \n",
       "Q 2413 2666 2522 2902 \n",
       "Q 2631 3138 2631 3384 \n",
       "Q 2631 3775 2401 3997 \n",
       "Q 2172 4219 1772 4219 \n",
       "Q 1488 4219 1175 4116 \n",
       "Q 863 4013 513 3803 \n",
       "L 513 4441 \n",
       "Q 834 4594 1145 4672 \n",
       "Q 1456 4750 1759 4750 \n",
       "Q 2444 4750 2861 4386 \n",
       "Q 3278 4022 3278 3431 \n",
       "Q 3278 3131 3139 2831 \n",
       "Q 3000 2531 2688 2169 \n",
       "Q 2513 1966 2180 1606 \n",
       "Q 1847 1247 1166 531 \n",
       "z\n",
       "\" id=\"DejaVuSansMono-32\" transform=\"scale(0.015625)\"/>\n",
       "      </defs>\n",
       "      <use xlink:href=\"#DejaVuSansMono-32\"/>\n",
       "     </g>\n",
       "    </g>\n",
       "   </g>\n",
       "   <g id=\"text_11\">\n",
       "    <g id=\"patch_12\">\n",
       "     <path clip-path=\"url(#p62890962ea)\" d=\"M 255.581131 42.752149 \n",
       "L 268.397381 42.752149 \n",
       "L 268.397381 26.967149 \n",
       "L 255.581131 26.967149 \n",
       "z\n",
       "\" style=\"fill:none;opacity:0;\"/>\n",
       "    </g>\n",
       "    <g clip-path=\"url(#p62890962ea)\">\n",
       "     <!-- y -->\n",
       "     <g style=\"fill:#808080;opacity:0.5;\" transform=\"translate(259.581131 37.088399)scale(0.08 -0.08)\">\n",
       "      <defs>\n",
       "       <path d=\"M 2681 1125 \n",
       "Q 2538 759 2316 163 \n",
       "Q 2006 -663 1900 -844 \n",
       "Q 1756 -1088 1540 -1209 \n",
       "Q 1325 -1331 1038 -1331 \n",
       "L 575 -1331 \n",
       "L 575 -850 \n",
       "L 916 -850 \n",
       "Q 1169 -850 1312 -703 \n",
       "Q 1456 -556 1678 56 \n",
       "L 325 3500 \n",
       "L 934 3500 \n",
       "L 1972 763 \n",
       "L 2994 3500 \n",
       "L 3603 3500 \n",
       "L 2681 1125 \n",
       "z\n",
       "\" id=\"DejaVuSansMono-79\" transform=\"scale(0.015625)\"/>\n",
       "      </defs>\n",
       "      <use xlink:href=\"#DejaVuSansMono-79\"/>\n",
       "     </g>\n",
       "    </g>\n",
       "   </g>\n",
       "  </g>\n",
       " </g>\n",
       " <defs>\n",
       "  <clipPath id=\"p62890962ea\">\n",
       "   <rect height=\"68.997174\" width=\"279\" x=\"7.2\" y=\"7.2\"/>\n",
       "  </clipPath>\n",
       " </defs>\n",
       "</svg>\n"
      ],
      "text/plain": [
       "<Figure size 360x360 with 1 Axes>"
      ]
     },
     "metadata": {},
     "output_type": "display_data"
    }
   ],
   "source": [
    "ctg.HyperGraph(inputs, output, size_dict).plot()"
   ]
  },
  {
   "cell_type": "markdown",
   "id": "748b5ef2-02a0-4397-94be-80d0359b7b56",
   "metadata": {},
   "source": [
    "Usually one of these representations is very easy to produce, or a library like `quimb` will do it for you. In any case, the next step is to create an *optimizer*."
   ]
  },
  {
   "cell_type": "markdown",
   "id": "d5ec1d35-8e66-4444-8adc-abec97400b61",
   "metadata": {},
   "source": [
    "## `HyperOptimizer`\n",
    "\n",
    "The main driver is the [`HyperOptimizer`](cotengra.hyper.HyperOptimizer) class, which optimizes a single contraction: "
   ]
  },
  {
   "cell_type": "code",
   "execution_count": 5,
   "id": "0fcf5b6b-fe3a-44ac-ab41-9efb6dd9e02a",
   "metadata": {},
   "outputs": [],
   "source": [
    "opt = ctg.HyperOptimizer()"
   ]
  },
  {
   "cell_type": "markdown",
   "id": "4c45918f-b2ae-4285-a69d-7f2ce1137845",
   "metadata": {},
   "source": [
    "The most flexible way to use this is to call the [`search`](cotengra.hyper.HyperOptimizer.search) method which directly returns a\n",
    "[`ContractionTree`](cotengra.core.ContractionTree). This is a ***rooted \n",
    "binary tree***:"
   ]
  },
  {
   "cell_type": "code",
   "execution_count": 6,
   "id": "e586ea8d-5da3-43d6-9685-8a2f08b6a1a3",
   "metadata": {},
   "outputs": [
    {
     "data": {
      "text/plain": [
       "<ContractionTree(N=4, branches=3, complete=True)>"
      ]
     },
     "execution_count": 6,
     "metadata": {},
     "output_type": "execute_result"
    }
   ],
   "source": [
    "# direct use \n",
    "tree = opt.search(inputs, output, size_dict)\n",
    "tree"
   ]
  },
  {
   "cell_type": "markdown",
   "id": "f2ec336e-1db6-434e-be91-d116c1f784d2",
   "metadata": {},
   "source": [
    "The tree (which also has the mathematical name, \n",
    "['carving decomposition'](https://en.wikipedia.org/wiki/Branch-decomposition#Carving_width)) contains all the crucial information about costs and sizes of\n",
    "intermediate tensors:"
   ]
  },
  {
   "cell_type": "code",
   "execution_count": 7,
   "id": "9c06c75f-464e-492b-a1d2-20c8c3b63aab",
   "metadata": {},
   "outputs": [
    {
     "data": {
      "text/plain": [
       "(8.39231742277876, 4656.0)"
      ]
     },
     "execution_count": 7,
     "metadata": {},
     "output_type": "execute_result"
    }
   ],
   "source": [
    "tree.contraction_width(), tree.contraction_cost()"
   ]
  },
  {
   "cell_type": "markdown",
   "id": "dbeb57ba-a73b-4d8e-b7e8-6b69b6fdcf6d",
   "metadata": {},
   "source": [
    "* the ***contraction width***, $W$, is $log_2$ the size of the largest intermediate tensor\n",
    "* the ***contraction cost***, $C$, is the total number of scalar multiplications\n",
    "\n",
    "The tree can be used to perform the actual contraction too:"
   ]
  },
  {
   "cell_type": "code",
   "execution_count": 8,
   "id": "cbf3ec5a-d204-4ff4-843a-c17f6c7879ec",
   "metadata": {},
   "outputs": [
    {
     "data": {
      "text/plain": [
       "array([[6720., 6720., 6720.],\n",
       "       [6720., 6720., 6720.]])"
      ]
     },
     "execution_count": 8,
     "metadata": {},
     "output_type": "execute_result"
    }
   ],
   "source": [
    "tree.contract(arrays)"
   ]
  },
  {
   "cell_type": "markdown",
   "id": "98e7a525-f979-4433-aa5f-12b90264f9f6",
   "metadata": {},
   "source": [
    "A tree combined with a specific traversal ordering is known as a ***path***: "
   ]
  },
  {
   "cell_type": "code",
   "execution_count": 9,
   "id": "d0aa12c6-b61d-427b-87b6-ebd81cf4803d",
   "metadata": {},
   "outputs": [
    {
     "data": {
      "text/plain": [
       "((0, 1), (1, 2), (0, 1))"
      ]
     },
     "execution_count": 9,
     "metadata": {},
     "output_type": "execute_result"
    }
   ],
   "source": [
    "path = tree.get_path()\n",
    "path"
   ]
  },
  {
   "cell_type": "markdown",
   "id": "074140f1-f095-4671-b227-adba4dcba382",
   "metadata": {},
   "source": [
    "Such paths can be supplied to `opt_einsum` and `quimb` functions, *or*\n",
    "you can supply the [`HyperOptimizer`](cotengra.hyper.HyperOptimizer) \n",
    "itself, in which case it will first run a search and then pass on a path."
   ]
  },
  {
   "cell_type": "markdown",
   "id": "7a784d01-fc8b-44e3-8204-ee11db4f924f",
   "metadata": {
    "tags": []
   },
   "source": [
    "#### With ``quimb``"
   ]
  },
  {
   "cell_type": "code",
   "execution_count": 10,
   "id": "42aa390b-65c5-4779-bb0f-df1f2c592e05",
   "metadata": {},
   "outputs": [
    {
     "data": {
      "text/plain": [
       "Tensor(shape=(2, 3), inds=('x', 'y'), tags=oset([]))"
      ]
     },
     "execution_count": 10,
     "metadata": {},
     "output_type": "execute_result"
    }
   ],
   "source": [
    "import quimb.tensor as qtn\n",
    "\n",
    "tn = qtn.TensorNetwork([\n",
    "    qtn.Tensor(array, inds)\n",
    "    for array, inds in zip(arrays, inputs)\n",
    "])\n",
    "\n",
    "tn.contract(..., optimize=ctg.HyperOptimizer())"
   ]
  },
  {
   "cell_type": "markdown",
   "id": "839765b6-8451-499b-85cd-f753f556ea64",
   "metadata": {},
   "source": [
    "Note for non-hyper graphs `quimb` will figure out the output indices for you,\n",
    "else you will need to supply `output_inds`. `quimb` also knows how to return\n",
    "the [`ContractionTree`](cotengra.core.ContractionTree) directly with:"
   ]
  },
  {
   "cell_type": "code",
   "execution_count": 11,
   "id": "31bfd2a9-9128-4c74-98a2-064179e13d37",
   "metadata": {},
   "outputs": [
    {
     "data": {
      "text/plain": [
       "<ContractionTree(N=4, branches=3, complete=True)>"
      ]
     },
     "execution_count": 11,
     "metadata": {},
     "output_type": "execute_result"
    }
   ],
   "source": [
    "tn.contraction_tree(path)"
   ]
  },
  {
   "cell_type": "markdown",
   "id": "b858c274-1dc7-428a-95f5-bbd741bdb023",
   "metadata": {},
   "source": [
    "And many other methods and algorithms take a `optimize=path_or_optimizer` option."
   ]
  },
  {
   "cell_type": "markdown",
   "id": "cf9fec71-71f8-4394-87c7-a3336c91af41",
   "metadata": {},
   "source": [
    "#### With `opt_einsum`"
   ]
  },
  {
   "cell_type": "markdown",
   "id": "28c7ea55-c4d2-4d2d-a65c-db982b766bc5",
   "metadata": {},
   "source": [
    "You can supply a `path` or `HyperOptimizer` to all the functions of `opt_einsum`\n",
    "which take an `optimize` kwarg:"
   ]
  },
  {
   "cell_type": "code",
   "execution_count": 12,
   "id": "c4235c8d-47c5-4a15-ab25-e58ab98ac559",
   "metadata": {},
   "outputs": [
    {
     "data": {
      "text/plain": [
       "array([[6720., 6720., 6720.],\n",
       "       [6720., 6720., 6720.]])"
      ]
     },
     "execution_count": 12,
     "metadata": {},
     "output_type": "execute_result"
    }
   ],
   "source": [
    "import opt_einsum as oe\n",
    "\n",
    "oe.contract(eq, *arrays, optimize=path)"
   ]
  },
  {
   "cell_type": "markdown",
   "id": "476158f6-4dfb-488e-9df9-e9e0be1c10a0",
   "metadata": {},
   "source": [
    "```{hint}\n",
    "For convenience `cotengra` also registers a few presets which can be used like `optimize='hyper'`, these can also be created.\n",
    "```"
   ]
  },
  {
   "cell_type": "markdown",
   "id": "9cded446-465a-4ced-a133-6dc55d1eebf7",
   "metadata": {},
   "source": [
    "A single [`HyperOptimizer`](cotengra.hyper.HyperOptimizer) instance can only be used for a single contraction - everytime you supply it, as long as the contraction matches, it will simply continue it's search."
   ]
  },
  {
   "cell_type": "markdown",
   "id": "d77aee38-47b8-4197-93f1-8b4ba41e5869",
   "metadata": {},
   "source": [
    "## `ReusableHyperOptimizer`\n",
    "\n",
    "Often, instead you want a single optimizer with maybe customized settings to use for many different contractions - the answer is to use a [`ReusableHyperOptimizer`](cotengra.hyper.ReusableHyperOptimizer).\n",
    "Everytime this is supplied to a *new* contraction it runs a search and stores the resulting path. The next time it sees this contraction it simply returns this cached path."
   ]
  },
  {
   "cell_type": "code",
   "execution_count": 13,
   "id": "74a31688-7048-44f2-8c2c-e860689ef295",
   "metadata": {},
   "outputs": [],
   "source": [
    "opt = ctg.ReusableHyperOptimizer(progbar=True)"
   ]
  },
  {
   "cell_type": "code",
   "execution_count": 14,
   "id": "029f66c6-76e4-490c-8db1-27f737fd6308",
   "metadata": {},
   "outputs": [
    {
     "name": "stderr",
     "output_type": "stream",
     "text": [
      "log2[SIZE]: 8.39 log10[FLOPs]: 3.97: 100%|██████████████████████| 128/128 [00:01<00:00, 84.50it/s]\n"
     ]
    },
    {
     "data": {
      "text/plain": [
       "<ContractionTree(N=4, branches=3, complete=True)>"
      ]
     },
     "execution_count": 14,
     "metadata": {},
     "output_type": "execute_result"
    }
   ],
   "source": [
    "opt.search(inputs, output, size_dict)"
   ]
  },
  {
   "cell_type": "code",
   "execution_count": 15,
   "id": "cfb5758d-dccd-41bb-842a-ce69274815a4",
   "metadata": {},
   "outputs": [
    {
     "data": {
      "text/plain": [
       "<ContractionTree(N=4, branches=3, complete=True)>"
      ]
     },
     "execution_count": 15,
     "metadata": {},
     "output_type": "execute_result"
    }
   ],
   "source": [
    "opt.search(inputs, output, size_dict)"
   ]
  },
  {
   "cell_type": "markdown",
   "id": "44b3e161-f06e-47ed-a7b4-ef10a2dabc6f",
   "metadata": {},
   "source": [
    "Note how the second call didn't display a progress bar as it used the cached result.\n",
    "\n",
    "```{hint}\n",
    "The contractions are not cached using full (hyper) graph isomoprhism, which would not be scalable. Instead, the inputs have to be in the same order to produce the same hash key.\n",
    "```"
   ]
  },
  {
   "cell_type": "markdown",
   "id": "2274aa4f-69db-4f90-b22a-61071872aa95",
   "metadata": {},
   "source": [
    "### Disk persistence\n",
    "\n",
    "If you want to persist contraction paths across python sessions (i.e. don't want to explicitly save the `tree` or `path` objects yourself), then you can supply the `directory` kwarg:"
   ]
  },
  {
   "cell_type": "code",
   "execution_count": 16,
   "id": "cfb5c741-176a-4fe2-bc57-fe80ac6eb112",
   "metadata": {},
   "outputs": [],
   "source": [
    "opt = ctg.ReusableHyperOptimizer(directory='cotengra_cache')"
   ]
  },
  {
   "cell_type": "code",
   "execution_count": 17,
   "id": "74328ba8-826b-44d1-9cd9-d16809b88ab8",
   "metadata": {},
   "outputs": [
    {
     "data": {
      "text/plain": [
       "<ContractionTree(N=4, branches=3, complete=True)>"
      ]
     },
     "execution_count": 17,
     "metadata": {},
     "output_type": "execute_result"
    }
   ],
   "source": [
    "opt.search(inputs, output, size_dict)"
   ]
  },
  {
   "cell_type": "markdown",
   "id": "74b06b17-a7af-4464-8409-729f983d0de5",
   "metadata": {},
   "source": [
    "The directory contains a single pickled file per contraction it has seen:"
   ]
  },
  {
   "cell_type": "code",
   "execution_count": 18,
   "id": "4c7e466e-c7bf-43dd-a198-888fdc7334a0",
   "metadata": {},
   "outputs": [
    {
     "name": "stdout",
     "output_type": "stream",
     "text": [
      "0489b9ab17a455bebcf3cc86c8ea5642f518ae95\n"
     ]
    }
   ],
   "source": [
    "!ls cotengra_cache/"
   ]
  },
  {
   "cell_type": "code",
   "execution_count": 19,
   "id": "0db8e920-1d77-4e15-b729-e1e1d4204584",
   "metadata": {},
   "outputs": [],
   "source": [
    "# clean it up for now\n",
    "!rm -rf cotengra_cache/"
   ]
  },
  {
   "cell_type": "markdown",
   "id": "45f14770",
   "metadata": {},
   "source": [
    "If you supply `directory=True` then the cache name will be generated from a \n",
    "hash of the relevant path finding options supplied to the optimizer, meaning \n",
    "you don't need to manually change the name in order to use different caches \n",
    "for different settings. "
   ]
  },
  {
   "cell_type": "markdown",
   "id": "d9c6309b",
   "metadata": {},
   "source": [
    "## What next?\n",
    "\n",
    "* The ['Advanced'](advanced) page, describes how to customize a [`HyperOptimizer`](cotengra.hyper.HyperOptimizer) in detail, for example to include subtree reconfiguration and dynamic slicing\n",
    "* The ['Visualization'](visualization) page details many functions for plotting the contraction, tree and optimizer trials\n",
    "* The ['Contraction'](contraction) page contains more information about actually performing the contraction, for example using a GPU\n",
    "* The ['Tree Surgery'](trees) page describes the design of the central [`ContractionTree`](cotengra.core.ContractionTree) object and ways to manipulate it\n",
    "\n",
    "## Quick-start\n",
    "\n",
    "If you just want to get going, the following illustrate some common customizations of the optimizers. "
   ]
  },
  {
   "cell_type": "markdown",
   "id": "4dfeec6c",
   "metadata": {},
   "source": [
    "### High quality sliced optimizer\n",
    "\n",
    "The following is an example of a high quality optimizer you might use to search\n",
    "for a single contraction, where you are memory bound to width $W=30$ and thus \n",
    "need to use slicing: "
   ]
  },
  {
   "cell_type": "code",
   "execution_count": 20,
   "id": "e9a47175",
   "metadata": {},
   "outputs": [],
   "source": [
    "opt_hq_W30 = ctg.HyperOptimizer(\n",
    "    # do extra runs\n",
    "    max_repeats=1024,\n",
    "    # use dynamic slicing to target a width of 30\n",
    "    slicing_reconf_opts={'target_size': 2**30},\n",
    "    # use the nevergrad space searcher - good with large trial budget\n",
    "    optlib='nevergrad',\n",
    "    # terminate search if no change for 128 trials\n",
    "    max_time='equil:128',\n",
    "    # show live progress\n",
    "    progbar=True,\n",
    ")"
   ]
  },
  {
   "cell_type": "markdown",
   "id": "2d98d65b",
   "metadata": {},
   "source": [
    "* Everytime you supply this optimizer instance it will *continue* its search, so you \n",
    "can interactively run it until you are happy or it seems to have converged.\n",
    "\n",
    "* While a few hundred runs is usually sufficient when no slicing is needed, very large contractions requiring heavy slicing might benefit from a few thousand runs."
   ]
  },
  {
   "cell_type": "markdown",
   "id": "d4207442",
   "metadata": {},
   "source": [
    "### Economical optimizer\n",
    "\n",
    "The following is an example of a reusable optimizer that is cheap to run and \n",
    "requires no extra depedencies (i.e. `kahypar` or a Bayesian optimizer), \n",
    "but will still yield much better results than simple algorithms. \n",
    "Useful if you have many smallish contractions:"
   ]
  },
  {
   "cell_type": "code",
   "execution_count": 21,
   "id": "1a9b54ea",
   "metadata": {},
   "outputs": [],
   "source": [
    "opt_eco = ctg.ReusableHyperOptimizer(\n",
    "    # just do a few runs\n",
    "    max_repeats=32,\n",
    "    # only use the basic greedy optimizer ...\n",
    "    methods=['greedy'],\n",
    "    # ... but pair it with reconfiguration\n",
    "    reconf_opts={},\n",
    "    # just uniformly sample the space\n",
    "    optlib='random',\n",
    "    # terminate search if contraction is cheap\n",
    "    max_time='rate:1e6',\n",
    "    # account for both flops and write - usually wise for practical performance\n",
    "    minimize='combo-64',\n",
    "    # persist paths found in here\n",
    "    directory='cotengra_cache_eco',\n",
    ")"
   ]
  },
  {
   "cell_type": "code",
   "execution_count": 22,
   "id": "70a1551d-7a15-4f68-b250-79f789a0a095",
   "metadata": {},
   "outputs": [],
   "source": [
    "# clean up the cache for now\n",
    "!rm -rf cotengra_cache_eco"
   ]
  }
 ],
 "metadata": {
  "kernelspec": {
   "display_name": "Python 3 (ipykernel)",
   "language": "python",
   "name": "python3"
  },
  "language_info": {
   "codemirror_mode": {
    "name": "ipython",
    "version": 3
   },
   "file_extension": ".py",
   "mimetype": "text/x-python",
   "name": "python",
   "nbconvert_exporter": "python",
   "pygments_lexer": "ipython3",
   "version": "3.9.7"
  }
 },
 "nbformat": 4,
 "nbformat_minor": 5
}

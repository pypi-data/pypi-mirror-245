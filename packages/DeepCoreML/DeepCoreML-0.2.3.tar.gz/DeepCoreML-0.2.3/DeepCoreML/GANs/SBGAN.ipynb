{
 "cells": [
  {
   "attachments": {
    "%CE%B5%CE%B9%CE%BA%CF%8C%CE%BD%CE%B1-2.png": {
     "image/png": "[encoded data removed]"
    }
   },
   "cell_type": "markdown",
   "id": "6968d86b",
   "metadata": {},
   "source": [
    "# Safe-Borderline GANs\n",
    "\n",
    "## Evaluating the quality of generated class-specific data\n",
    "\n",
    "\n",
    "From:\n",
    "\n",
    "L. Akritidis, A. Fevgas, M. Alamaniotis, P. Bozanis, \"Conditional Data Synthesis with Deep Generative Models for Imbalanced Dataset Oversampling\", In Proceedings of the 35th IEEE International Conference on Tools with Artificial Intelligence (ICTAI), to appear, 2023.\n",
    "\n",
    "![%CE%B5%CE%B9%CE%BA%CF%8C%CE%BD%CE%B1-2.png](attachment:%CE%B5%CE%B9%CE%BA%CF%8C%CE%BD%CE%B1-2.png)\n"
   ]
  },
  {
   "cell_type": "markdown",
   "id": "c283f621",
   "metadata": {},
   "source": [
    "Generative Adversarial Nets (GANs) are among the leading architectures in the area of generative modeling. Inside a GAN, two Neural Networks compete each other with the aim of learning the target distribution and generating artificial\n",
    "data: a Discriminator $D$ and a Generator $G$.\n",
    "\n",
    "The Discriminator $D$ is a binary classifier trained to distinguish whether its input data samples are real or not. For this reason, $D$ trained with both real and fake examples. The real examples are drawn from the original training set $\\mathbf{X}$, whereas the fake ones are synthesized by the Generator $G$. Its loss function penalizes all misclassifications, namely, real data identified as fake, or fake data identified as real. At each iteration, $D$ updates its parameters using backpropagation, thus improving its ability to identify fake data instances.\n",
    "\n",
    "The Generator $G$ learns to synthesize artificial data instances by using the output of $D$. Its goal is to deceive the discriminator $D$, so that its output is classified as real. The training of $G$ takes place simultaneously with that of $D$ and involves the following phases: Initially, a random noise sample is used it to produce the output of $G$. The output of $G$ is fed to $D$ and the discriminator loss is computed. The error is then backpropagated to compute the necessary gradients and update only the weights of $G$.\n",
    "\n",
    "Formally, $D$ and $G$ play the following zero-sum game:\n",
    "\n",
    "$$\\min_G\\max_D V(D,G)=\\mathbb{E}_{\\mathbf{x}\\sim p_{\\mathbf{x}}(\\mathbf{x})}[\\log(D(\\mathbf{x}))]+\n",
    "\\mathbb{E}_{\\mathbf{z}\\sim p_{z}(\\mathbf{z})}[\\log(1-D(G(\\mathbf{z})))]$$\n"
   ]
  },
  {
   "cell_type": "markdown",
   "id": "5fd8e42c",
   "metadata": {},
   "source": [
    "In many cases, the objective is not to simply generate artificial data, but to synthesize data instances belonging to a particular class. Conditional GANs (CGANs) address this requirement by receiving as inputs both the samples and their respective classes $\\mathbf{y}$ \\cite{arxiv2014}. This applies to both Discriminator and Generator, so the aforementioned zero-sum game becomes: \n",
    "\n",
    "$$\\min_G\\max_D V(D,G)=\\mathbb{E}_{\\mathbf{x}\\sim p_{\\mathbf{x}}(\\mathbf{x}|)}[\\log(D(\\mathbf{x}|\\mathbf{y}))]+\n",
    "\\mathbb{E}_{\\mathbf{z}\\sim p_{z}(\\mathbf{z})}[\\log(1-D(G(\\mathbf{z}|\\mathbf{y})))]$$\n",
    "\n",
    "During CGAN training, the one-hot-encoded vectors $\\mathbf{y}$ are fed to both the Discriminator and the Generator, after they have been concatenated with the input feature vectors (either fake, or real ones).\n"
   ]
  },
  {
   "cell_type": "code",
   "execution_count": 3,
   "id": "82cc93c4",
   "metadata": {},
   "outputs": [],
   "source": [
    "import math\n",
    "import numpy as np\n",
    "\n",
    "import matplotlib.pyplot as plt\n",
    "from matplotlib.animation import FuncAnimation, PillowWriter\n",
    "\n",
    "from sklearn.ensemble import RandomForestClassifier\n",
    "from sklearn.metrics import accuracy_score\n",
    "from sklearn.datasets import make_classification\n",
    "\n",
    "import DeepCoreML.DataTools\n",
    "from DeepCoreML.GANs.SBGAN import sbGAN\n",
    "from DeepCoreML.DataAnimator import DataAnimator\n",
    "\n",
    "import os\n",
    "os.environ['KMP_DUPLICATE_LIB_OK'] = 'True'\n",
    "\n",
    "seed = 111\n",
    "DeepCoreML.DataTools.set_random_states(seed)\n"
   ]
  },
  {
   "cell_type": "markdown",
   "id": "f8ca101a",
   "metadata": {},
   "source": [
    "## Data\n",
    "\n",
    "The following code produces a random dataset of `num_samples` samples classified into `num_classes` classes. The dataset is intentinally imbalanced; each class comprises different numbers of samples. The imbalance ratio is controlled by the `class_weights` array.\n"
   ]
  },
  {
   "cell_type": "code",
   "execution_count": null,
   "id": "9f6da345",
   "metadata": {},
   "outputs": [],
   "source": [
    "num_samples = 1000\n",
    "class_weights = [0.50, 0.30, 0.1, 0.1 ]\n",
    "num_classes = len(class_weights)\n",
    "\n",
    "data = make_classification(n_samples=num_samples, n_features=2, n_clusters_per_class=1,\n",
    "                              n_classes=num_classes, weights=class_weights, flip_y=0, class_sep=1.0,\n",
    "                              n_informative=2, n_redundant=0, n_repeated=0, random_state=seed)\n",
    "x_data = data[0]\n",
    "y_data = data[1]\n",
    "\n",
    "min_x = x_data[:,0].min()\n",
    "max_x = x_data[:,0].max()\n",
    "min_y = x_data[:,1].min()\n",
    "max_y = x_data[:,1].max()\n",
    "\n",
    "fig = plt.figure(figsize=(6, 4))\n",
    "\n",
    "ax=fig.add_subplot(111)\n",
    "ax.clear()\n",
    "ax.grid(True)\n",
    "ax.set_xlim(1.1 * min_x, 1.1 * max_x)\n",
    "ax.set_ylim(1.1 * min_y, 1.1 * max_y)\n",
    "\n",
    "for c in range(num_classes):\n",
    "    hcor = [x[0] for n, x in enumerate(x_data) if y_data[n] == c]\n",
    "    vcor = [x[1] for n, x in enumerate(x_data) if y_data[n] == c]\n",
    "    ax.plot(hcor, vcor, 'o')\n",
    "\n",
    "plt.show()\n"
   ]
  },
  {
   "cell_type": "markdown",
   "id": "5cfd6af3",
   "metadata": {},
   "source": [
    "## Discriminator\n",
    "\n",
    "The `Discriminator` $D$ is implemented as a typical fully connected network. The architecture of $D$ and the dimensionality of the input data are passed as paramaters to the constructor of the class. We select the Leaky Rectified Linear Unit as the activation function of all neurons in each layer. Each layer of the network is followed by a `Dropout` layer.\n",
    "\n",
    "A typical GAN discriminator is a binary classifier that produces 0/1 (real/fake) outputs. Thus, there is only a single neuron in the output layer and its activation function is the Logistic `Sigmoid` function.\n"
   ]
  },
  {
   "cell_type": "markdown",
   "id": "e846351a",
   "metadata": {},
   "source": [
    "## Packed Discriminator\n",
    "\n",
    "A packed Discriminator accepts multiple inputs at once. In \\[\\] the authors proved that feeding the Discriminator with multiple input vectors with the same label limits the problem of mode collapse in GANs. The Generator architecture remains the same. This GAN is known as PacGAN\n",
    "\n",
    "The packed Discriminator is implemented on the basis of the original Discriminator, but we also pass a `pac` argument and the input dime\n"
   ]
  },
  {
   "cell_type": "markdown",
   "id": "677c1f34",
   "metadata": {},
   "source": [
    "## Generator\n",
    "\n",
    "The `Generator` $G$ is also a fully connected network comprised of a stack of residual blocks. Its architecture passes as an argument to the constructor of the class. The dimensionality of `Generator`'s input is the dimensionality of the latent (noise) samples. Its output dimensionality is the dimensionality of the real input data.\n",
    "\n",
    "Similarly to $D$, we select the Leaky Rectified Linear Unit as the activation function of all neurons in each layer. `Dropout` is not applied here. In this particular example, batch normalization has a destructive impact on the performance of $G$.\n"
   ]
  },
  {
   "cell_type": "markdown",
   "id": "42d7e50e",
   "metadata": {},
   "source": [
    "## Conditional GAN\n",
    "\n",
    "Conditional GANs (cGANs) can conditionally generate data given a class. In a typical setting, a user requests from a cGAN to generate samples belonging to a particular class and the network outputs samples matching this request.\n",
    "\n",
    "cGANs are trained by providing not only the sample vectors, but also the class labels. In a typical implementation like the following one, the class labels are initially one-hot-encoded; then, the one-hot-encoded class representation is concatenated with the feature vectors and fed to both the Discriminator and the Generator.\n"
   ]
  },
  {
   "cell_type": "markdown",
   "id": "937cdc10",
   "metadata": {},
   "source": [
    "## PacGAN architecture & Training params"
   ]
  },
  {
   "cell_type": "code",
   "execution_count": null,
   "id": "12069262",
   "metadata": {},
   "outputs": [],
   "source": [
    "DISCRIMINATOR = (128, 64, 32)\n",
    "GENERATOR = (32, 32)\n",
    "\n",
    "NUM_EPOCHS = 100\n",
    "BATCH_SIZE = 32\n"
   ]
  },
  {
   "cell_type": "markdown",
   "id": "055f34c2",
   "metadata": {},
   "source": [
    "## PacGAN Training"
   ]
  },
  {
   "cell_type": "code",
   "execution_count": null,
   "id": "9068a9e9",
   "metadata": {},
   "outputs": [],
   "source": [
    "clf = RandomForestClassifier(n_estimators=50, criterion='gini', max_depth=None, max_features='sqrt', random_state=seed)\n",
    "\n",
    "sbgan = sbGAN(discriminator=DISCRIMINATOR, generator=GENERATOR, pac=1, method='knn' k=5, random_state=seed)\n",
    "\n",
    "# c_gan.train(x_data, y_data, epochs=NUM_EPOCHS, batch_size=BATCH_SIZE, loss_function=nn.BCELoss())\n",
    "\n",
    "synthetic_data, mean_costs = sbgan.adaptive_train(x_data, y_data, clf, epochs=NUM_EPOCHS, batch_size=BATCH_SIZE)\n"
   ]
  },
  {
   "cell_type": "markdown",
   "id": "2d7662b7",
   "metadata": {},
   "source": [
    "## IcGAN/Incremental cGAN\n",
    "\n",
    "Notation:\n",
    "\n",
    "|                | Real Data       | Latent Data    | Generated Data  |\n",
    "|--              | ---             | ---            | ---             |\n",
    "| Vector         | $\\mathbf{x}_r$  | $\\mathbf{x}_l$ | $\\mathbf{x}_g$  |\n",
    "| Classes        | $\\mathbf{y}_r$  | $\\mathbf{y}_l$ | $\\mathbf{y}_g$  |\n",
    "| Data           | ---           | ---         | -            |\n",
    "| Labels         | ---           | ---         | -            |\n",
    "\n",
    "Training Process:\n",
    "\n",
    "1. for epoch $e$\n",
    "2.    for batch $b$ of size $s_b$\n",
    "3. $\\mathbf{x}_l \\leftarrow$ randomly take $s_b$ latent samples from a standard distribution.\n",
    "4. $\\mathbf{y}_l \\leftarrow$ randomly take $s_b$ class samples from a uniform distribution in $[0,|C|]$ and encode them with one-hot-encoding.\n",
    "5. Concatenate vectors with one-hot-encoded classes $\\mathbf{d}_l \\leftarrow [\\mathbf{x}_l~~~\\mathbf{y}_l]$\n",
    "6. Generate data $\\mathbf{x}_g \\leftarrow \\mathcal{G}(\\mathbf{d}_l)$, $\\mathbf{y}_g \\leftarrow \\mathbf{y}_l$.\n",
    "7. Concatenate the generated data with the real ones: $\\mathbf{x} \\leftarrow [ \\mathbf{x}_r~~~\\mathbf{x}_g ]$, $\\mathbf{y} \\leftarrow [ \\mathbf{y}_r~~~\\mathbf{y}_g ]$, \n",
    "8. Pass the concatenated data to the Discriminator and get the predictions: $\\hat{\\mathcal{l}} \\leftarrow \\mathcal{D}(\\mathbf{x})$\n",
    "\n",
    "8. $loss_{\\mathcal{D}} \\leftarrow BCE(\\hat{\\mathcal{l}}, )$\n"
   ]
  },
  {
   "cell_type": "code",
   "execution_count": null,
   "id": "aa507025",
   "metadata": {},
   "outputs": [],
   "source": [
    "%matplotlib nbagg\n",
    "\n",
    "Animator = DataAnimator(synthetic_data, num_classes, \"../vizualizations/PacCGAN.gif\")\n",
    "Animator.animate_data(NUM_EPOCHS, min_x, max_x, min_y, max_y)"
   ]
  },
  {
   "cell_type": "code",
   "execution_count": null,
   "id": "e1107af9",
   "metadata": {},
   "outputs": [],
   "source": [
    "fig_final = plt.figure()\n",
    "\n",
    "ax_final = fig_final.add_subplot(111)\n",
    "ax_final.clear()\n",
    "ax_final.grid(True)\n",
    "ax_final.set_xlim(1.1 * min_x, 1.1 * max_x)\n",
    "ax_final.set_ylim(1.1 * min_y, 1.1 * max_y)\n",
    "ax_final.set_title(str(NUM_EPOCHS) + \" epochs\")\n",
    "ax_final.set_xlabel(\"x1\")\n",
    "ax_final.set_ylabel(\"x2\")\n",
    "\n",
    "for c in range(num_classes):\n",
    "    ax_final.plot(synthetic_data[NUM_EPOCHS-1][c][:, 0], synthetic_data[NUM_EPOCHS-1][c][:, 1], 'o')\n",
    "\n",
    "plt.show()\n"
   ]
  },
  {
   "cell_type": "markdown",
   "id": "4dcb1f75",
   "metadata": {},
   "source": [
    "## Interesting snapshots"
   ]
  },
  {
   "cell_type": "code",
   "execution_count": null,
   "id": "cbe7f945",
   "metadata": {},
   "outputs": [],
   "source": [
    "plot_columns = 2\n",
    "plot_rows = math.ceil((5 + ((NUM_EPOCHS - 50) / 50)) / plot_columns)\n",
    "height = plot_rows * 4\n",
    "\n",
    "\n",
    "def plot_snapshot(epoch, pos, fig):\n",
    "    ax_s = fig.add_subplot(plot_rows, 2, pos)\n",
    "    ax_s.grid(True)\n",
    "    ax_s.set_xlim(min_x, max_x)\n",
    "    ax_s.set_ylim(min_y, max_y)\n",
    "    ax_s.set_title(str(epoch+1) + \" epochs\")\n",
    "\n",
    "    for c in range(num_classes):\n",
    "        ax_s.plot(synthetic_data[epoch][c][:, 0], synthetic_data[epoch][c][:, 1], 'o')\n",
    "\n",
    "    plt.show()\n",
    "\n",
    "mfig = plt.figure(figsize=(10, height))\n",
    "\n",
    "\n",
    "plot_snapshot(9, 1, mfig)\n",
    "plot_snapshot(19, 2, mfig)\n",
    "plot_snapshot(29, 3, mfig)\n",
    "plot_snapshot(39, 4, mfig)\n",
    "plot_snapshot(49, 5, mfig)\n",
    "\n",
    "if NUM_EPOCHS > 99:\n",
    "    plot_snapshot(99, 6, mfig)\n",
    "if NUM_EPOCHS > 149:\n",
    "    plot_snapshot(149, 7, mfig)\n",
    "if NUM_EPOCHS > 199:\n",
    "    plot_snapshot(199, 8, mfig)\n",
    "if NUM_EPOCHS > 249:\n",
    "    plot_snapshot(249, 9, mfig)\n"
   ]
  }
 ],
 "metadata": {
  "kernelspec": {
   "display_name": "Python 3 (ipykernel)",
   "language": "python",
   "name": "python3"
  },
  "language_info": {
   "codemirror_mode": {
    "name": "ipython",
    "version": 3
   },
   "file_extension": ".py",
   "mimetype": "text/x-python",
   "name": "python",
   "nbconvert_exporter": "python",
   "pygments_lexer": "ipython3",
   "version": "3.9.12"
  }
 },
 "nbformat": 4,
 "nbformat_minor": 5
}

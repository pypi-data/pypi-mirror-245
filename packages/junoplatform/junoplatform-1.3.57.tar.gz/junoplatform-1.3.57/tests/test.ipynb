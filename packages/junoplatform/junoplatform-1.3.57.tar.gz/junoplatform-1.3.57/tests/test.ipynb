{
 "cells": [
  {
   "cell_type": "code",
   "execution_count": 10,
   "metadata": {},
   "outputs": [],
   "source": [
    "import redis\n",
    "\n",
    "cli = redis.Redis.from_url(\"redis://:myredis@192.168.101.157\")"
   ]
  },
  {
   "cell_type": "code",
   "execution_count": 16,
   "metadata": {},
   "outputs": [
    {
     "data": {
      "text/plain": [
       "b'{\"Level_target\": [[1.0, 3.0, 0.2], [2.0, 2.0, 0.3], [3.0, 3.0, 0.4], [4.0, 3.0, 0.5], [5.0, 3.0, 0.6], [5.0, 3.0, 0.6], [5.0, 3.0, 0.6]], \"paraP\": 5, \"paraI\": 2, \"paraD\": 4, \"updata_value\": 4, \"pump_range\": [10, 100], \"interval_minute\": 10, \"pump_range_single\": [30, 50], \"algo_system_spec\": {\"module_summary\": [{\"enable\": true, \"user_input\": [true, true, true, true, true, true, true], \"ui\": true, \"name\": \"\\xe6\\x8e\\x92\\xe6\\x94\\xbe\\xe6\\xb1\\xa0\", \"tags\": [\"\\xe9\\x80\\x9a\\xe9\\x81\\x93 1.\\xe8\\xae\\xbe\\xe5\\xa4\\x87 1.\\xe9\\x80\\x9a\\xe9\\x81\\x93 1.\\xe8\\xae\\xbe\\xe5\\xa4\\x87 1.@LOCALMACHINE::.\\xe6\\x89\\x80\\xe6\\x9c\\x89\\xe5\\x8f\\x98\\xe9\\x87\\x8f\\xe7\\x9a\\x84\\xe5\\x88\\x97\\xe8\\xa1\\xa8.1#PAC\\xe5\\x90\\xaf\\xe5\\x8a\\xa8\\xe6\\x8c\\x89\\xe9\\x92\\xae\", \"\\xe8\\xbf\\x9b\\xe5\\x8f\\xa3TP\", \"AI-T20802_DIS\", \"AI-T20801_DIS\", \"AI-T30301_DIS\", \"\\xe6\\xa8\\xa1\\xe6\\x8b\\x9f\\xe9\\x87\\x8f\\xe5\\xae\\x9e\\xe9\\x99\\x85\\xe5\\x80\\xbc_AI-P30605_V\", \"\\xe9\\xab\\x98\\xe6\\x95\\x88\\xe5\\x87\\xba\\xe6\\xb0\\xb4TP\"], \"alias\": [\"\\xe8\\xbf\\x9b\\xe6\\xb0\\xb4PHL\", \"\\xe6\\x80\\xbb\\xe8\\xbf\\x9b\\xe6\\xb0\\xb4-TP\", \"\\xe7\\xa3\\x81\\xe6\\xb7\\xb7\\xe5\\x87\\x9d\\xe8\\xbf\\x9b\\xe6\\xb0\\xb4-TP1\", \"\\xe7\\xa3\\x81\\xe6\\xb7\\xb7\\xe5\\x87\\x9d\\xe8\\xbf\\x9b\\xe6\\xb0\\xb4-TP2\", \"\\xe7\\xa3\\x81\\xe6\\xb7\\xb7\\xe5\\x87\\x9d\\xe5\\x87\\xba\\xe6\\xb0\\xb4-SS\", \"\\xe6\\x80\\xbb\\xe5\\x87\\xba\\xe6\\xb0\\xb4-TP1\", \"\\xe6\\x80\\xbb\\xe5\\x87\\xba\\xe6\\xb0\\xb4-TP2\"], \"units\": [\"mg/L\", \"mg/L\", \"mg/L\", \"mg/L\", \"mg/L\", \"mg/L\", \"mg/L\"], \"targets\": \"Level_target\"}], \"MSET_aliases\": {\"MSET_1\": \"\\xe7\\x94\\x9f\\xe5\\x8c\\x96\\xe6\\xb1\\xa01-\\xe9\\x98\\x80\\xe9\\x97\\xa81\", \"MSET_2\": \"\\xe7\\x94\\x9f\\xe5\\x8c\\x96\\xe6\\xb1\\xa01-\\xe9\\x98\\x80\\xe9\\x97\\xa82\"}, \"data_input_zone\": {\"\\xe8\\xb0\\x83\\xe8\\x8a\\x82\\xe6\\xb1\\xa0-TN\": 11, \"\\xe8\\xb0\\x83\\xe8\\x8a\\x82\\xe6\\xb1\\xa0-aa\": 11, \"\\xe8\\xb0\\x83\\xe8\\x8a\\x82\\xe6\\xb1\\xa0-bb\": 11, \"\\xe8\\xb0\\x83\\xe8\\x8a\\x82\\xe6\\xb1\\xa0-cc\": 11}, \"operate_status\": 3}, \"ab_detect\": {\"confirm_len\": 5, \"tags\": [{\"name\": \"\\xe9\\x80\\x9a\\xe9\\x81\\x93 1.\\xe8\\xae\\xbe\\xe5\\xa4\\x87 1.\\xe9\\x80\\x9a\\xe9\\x81\\x93 1.\\xe8\\xae\\xbe\\xe5\\xa4\\x87 1.@LOCALMACHINE::.\\xe6\\x89\\x80\\xe6\\x9c\\x89\\xe5\\x8f\\x98\\xe9\\x87\\x8f\\xe7\\x9a\\x84\\xe5\\x88\\x97\\xe8\\xa1\\xa8.2#PAC\\xe5\\x90\\xaf\\xe5\\x8a\\xa8\\xe6\\x8c\\x89\\xe9\\x92\\xae\", \"work_time\": 5, \"normal_range\": [-100, 100], \"device_type\": [0, 60], \"direction\": 0}, {\"name\": \"\\xe9\\x80\\x9a\\xe9\\x81\\x93 1.\\xe8\\xae\\xbe\\xe5\\xa4\\x87 1.\\xe9\\x80\\x9a\\xe9\\x81\\x93 1.\\xe8\\xae\\xbe\\xe5\\xa4\\x87 1.@LOCALMACHINE::.\\xe6\\x89\\x80\\xe6\\x9c\\x89\\xe5\\x8f\\x98\\xe9\\x87\\x8f\\xe7\\x9a\\x84\\xe5\\x88\\x97\\xe8\\xa1\\xa8.1#PAC\\xe5\\x90\\xaf\\xe5\\x8a\\xa8\\xe6\\x8c\\x89\\xe9\\x92\\xae\", \"work_time\": 5, \"normal_range\": [-100, 100], \"device_type\": [0, 60], \"direction\": 0}]}}'"
      ]
     },
     "execution_count": 16,
     "metadata": {},
     "output_type": "execute_result"
    }
   ],
   "source": [
    "cli.get(f\"system.huaqi.ZENGXIN.reconfig\")"
   ]
  },
  {
   "cell_type": "code",
   "execution_count": 17,
   "metadata": {},
   "outputs": [
    {
     "data": {
      "text/plain": [
       "b'{\"package_id\": \"e3f9ed8e268a427cbce7292fb8ab7fee\", \"username\": \"zengxing\", \"plant\": \"huaqi\", \"module\": \"ZENGXIN\", \"config\": {\"Level_target\": [[1.0, 3.0, 0.2], [2.0, 2.0, 0.3], [3.0, 3.0, 0.4], [4.0, 3.0, 0.5], [5.0, 3.0, 0.6], [5.0, 3.0, 0.6], [5.0, 3.0, 0.6]], \"paraP\": 5, \"paraI\": 2, \"paraD\": 4, \"updata_value\": 4, \"pump_range\": [10, 100], \"interval_minute\": 10, \"pump_range_single\": [30, 50], \"algo_system_spec\": {\"module_summary\": [{\"enable\": true, \"user_input\": [true, true, true, true, true, true, true], \"ui\": true, \"name\": \"\\xe6\\x8e\\x92\\xe6\\x94\\xbe\\xe6\\xb1\\xa0\", \"tags\": [\"\\xe9\\x80\\x9a\\xe9\\x81\\x93 1.\\xe8\\xae\\xbe\\xe5\\xa4\\x87 1.\\xe9\\x80\\x9a\\xe9\\x81\\x93 1.\\xe8\\xae\\xbe\\xe5\\xa4\\x87 1.@LOCALMACHINE::.\\xe6\\x89\\x80\\xe6\\x9c\\x89\\xe5\\x8f\\x98\\xe9\\x87\\x8f\\xe7\\x9a\\x84\\xe5\\x88\\x97\\xe8\\xa1\\xa8.1#PAC\\xe5\\x90\\xaf\\xe5\\x8a\\xa8\\xe6\\x8c\\x89\\xe9\\x92\\xae\", \"\\xe8\\xbf\\x9b\\xe5\\x8f\\xa3TP\", \"AI-T20802_DIS\", \"AI-T20801_DIS\", \"AI-T30301_DIS\", \"\\xe6\\xa8\\xa1\\xe6\\x8b\\x9f\\xe9\\x87\\x8f\\xe5\\xae\\x9e\\xe9\\x99\\x85\\xe5\\x80\\xbc_AI-P30605_V\", \"\\xe9\\xab\\x98\\xe6\\x95\\x88\\xe5\\x87\\xba\\xe6\\xb0\\xb4TP\"], \"alias\": [\"\\xe8\\xbf\\x9b\\xe6\\xb0\\xb4PHL\", \"\\xe6\\x80\\xbb\\xe8\\xbf\\x9b\\xe6\\xb0\\xb4-TP\", \"\\xe7\\xa3\\x81\\xe6\\xb7\\xb7\\xe5\\x87\\x9d\\xe8\\xbf\\x9b\\xe6\\xb0\\xb4-TP1\", \"\\xe7\\xa3\\x81\\xe6\\xb7\\xb7\\xe5\\x87\\x9d\\xe8\\xbf\\x9b\\xe6\\xb0\\xb4-TP2\", \"\\xe7\\xa3\\x81\\xe6\\xb7\\xb7\\xe5\\x87\\x9d\\xe5\\x87\\xba\\xe6\\xb0\\xb4-SS\", \"\\xe6\\x80\\xbb\\xe5\\x87\\xba\\xe6\\xb0\\xb4-TP1\", \"\\xe6\\x80\\xbb\\xe5\\x87\\xba\\xe6\\xb0\\xb4-TP2\"], \"units\": [\"mg/L\", \"mg/L\", \"mg/L\", \"mg/L\", \"mg/L\", \"mg/L\", \"mg/L\"], \"targets\": \"Level_target\"}], \"MSET_aliases\": {\"MSET_1\": \"\\xe7\\x94\\x9f\\xe5\\x8c\\x96\\xe6\\xb1\\xa01-\\xe9\\x98\\x80\\xe9\\x97\\xa81\", \"MSET_2\": \"\\xe7\\x94\\x9f\\xe5\\x8c\\x96\\xe6\\xb1\\xa01-\\xe9\\x98\\x80\\xe9\\x97\\xa82\"}, \"data_input_zone\": {\"\\xe8\\xb0\\x83\\xe8\\x8a\\x82\\xe6\\xb1\\xa0-TN\": 11, \"\\xe8\\xb0\\x83\\xe8\\x8a\\x82\\xe6\\xb1\\xa0-aa\": 11, \"\\xe8\\xb0\\x83\\xe8\\x8a\\x82\\xe6\\xb1\\xa0-bb\": 11, \"\\xe8\\xb0\\x83\\xe8\\x8a\\x82\\xe6\\xb1\\xa0-cc\": 11}, \"operate_status\": 3}, \"ab_detect\": {\"confirm_len\": 5, \"tags\": [{\"name\": \"\\xe9\\x80\\x9a\\xe9\\x81\\x93 1.\\xe8\\xae\\xbe\\xe5\\xa4\\x87 1.\\xe9\\x80\\x9a\\xe9\\x81\\x93 1.\\xe8\\xae\\xbe\\xe5\\xa4\\x87 1.@LOCALMACHINE::.\\xe6\\x89\\x80\\xe6\\x9c\\x89\\xe5\\x8f\\x98\\xe9\\x87\\x8f\\xe7\\x9a\\x84\\xe5\\x88\\x97\\xe8\\xa1\\xa8.2#PAC\\xe5\\x90\\xaf\\xe5\\x8a\\xa8\\xe6\\x8c\\x89\\xe9\\x92\\xae\", \"work_time\": 5, \"normal_range\": [-100, 100], \"device_type\": [0, 60], \"direction\": 0}, {\"name\": \"\\xe9\\x80\\x9a\\xe9\\x81\\x93 1.\\xe8\\xae\\xbe\\xe5\\xa4\\x87 1.\\xe9\\x80\\x9a\\xe9\\x81\\x93 1.\\xe8\\xae\\xbe\\xe5\\xa4\\x87 1.@LOCALMACHINE::.\\xe6\\x89\\x80\\xe6\\x9c\\x89\\xe5\\x8f\\x98\\xe9\\x87\\x8f\\xe7\\x9a\\x84\\xe5\\x88\\x97\\xe8\\xa1\\xa8.1#PAC\\xe5\\x90\\xaf\\xe5\\x8a\\xa8\\xe6\\x8c\\x89\\xe9\\x92\\xae\", \"work_time\": 5, \"normal_range\": [-100, 100], \"device_type\": [0, 60], \"direction\": 0}]}}, \"status\": 1, \"enable\": 1, \"create_time\": \"2023-11-30T10:24:20\", \"update_time\": \"2023-11-30T10:24:20\"}'"
      ]
     },
     "execution_count": 17,
     "metadata": {},
     "output_type": "execute_result"
    }
   ],
   "source": [
    "mkey = f\"huaqi.ZENGXIN\"\n",
    "cli.hget(\"system.ai.modules\", mkey)"
   ]
  },
  {
   "cell_type": "code",
   "execution_count": 2,
   "metadata": {},
   "outputs": [],
   "source": [
    "import requests\n",
    "import logging\n",
    "import json"
   ]
  },
  {
   "cell_type": "code",
   "execution_count": 10,
   "metadata": {},
   "outputs": [
    {
     "name": "stdout",
     "output_type": "stream",
     "text": [
      "write opc success: [{'key': 'aa', 'value': 1.0}]\n"
     ]
    }
   ],
   "source": [
    "api = \"http://localhost:8888/api/write\"\n",
    "data = [{\"key\": \"aa\", \"value\": 1.0}]\n",
    "\n",
    "try:\n",
    "    newdata = {\"batch\": True, \"data\": data}\n",
    "\n",
    "    r = requests.post(api, json=newdata, timeout=5)\n",
    "    if r.status_code != 200:\n",
    "        logging.error(r.text)\n",
    "\n",
    "    print(f\"write opc success: {data}\")\n",
    "except Exception as e:\n",
    "    logging.error(str(e))\n",
    "    raise e"
   ]
  },
  {
   "cell_type": "code",
   "execution_count": 23,
   "metadata": {},
   "outputs": [],
   "source": [
    "import redis\n",
    "\n",
    "cli = redis.Redis.from_url(\"redis://:myredis@192.168.101.158\")"
   ]
  },
  {
   "cell_type": "code",
   "execution_count": 31,
   "metadata": {},
   "outputs": [
    {
     "data": {
      "text/plain": [
       "1"
      ]
     },
     "execution_count": 31,
     "metadata": {},
     "output_type": "execute_result"
    }
   ],
   "source": [
    "cli.delete(\"system.ai.abnormal.confirm.yudai.TEST\")"
   ]
  },
  {
   "cell_type": "code",
   "execution_count": 69,
   "metadata": {},
   "outputs": [
    {
     "data": {
      "text/plain": [
       "[b'{\"COD2\": 1, \"_time_\": \"2023/11/23 14:07:20\"}',\n",
       " b'{\"COD2\": 1, \"_time_\": \"2023/11/23 14:11:20\"}']"
      ]
     },
     "execution_count": 69,
     "metadata": {},
     "output_type": "execute_result"
    }
   ],
   "source": [
    "cli.lrange(\"system.ai.abnormal.confirm.yudai.TEST\", 0, -1)"
   ]
  },
  {
   "cell_type": "code",
   "execution_count": 4,
   "metadata": {},
   "outputs": [
    {
     "name": "stdout",
     "output_type": "stream",
     "text": [
      "[[1, 2], [0, 0], [1, 0], [0, 1]]\n"
     ]
    }
   ],
   "source": [
    "with open(\"ab_detect.mock.json\", \"r\") as f:\n",
    "    x = json.load(f)\n",
    "    print(x)"
   ]
  },
  {
   "cell_type": "code",
   "execution_count": 43,
   "metadata": {},
   "outputs": [
    {
     "name": "stdout",
     "output_type": "stream",
     "text": [
      "True\n",
      "1 2 me\n"
     ]
    }
   ],
   "source": [
    "import inspect\n",
    "\n",
    "\n",
    "def func1(func):\n",
    "    sig = inspect.signature(func)\n",
    "    keys = sig.parameters.keys()\n",
    "\n",
    "    ks = [k for k in sig.parameters.keys()]\n",
    "    print(ks == [\"a\", \"b\", \"user_confirms\"])\n",
    "\n",
    "    if len(sig.parameters) == 2:\n",
    "        func2(1, 2)\n",
    "    elif \"user_confirms\" in sig.parameters:\n",
    "        func(1, 2, \"me\")\n",
    "\n",
    "\n",
    "def func2(a, b, user_confirms):\n",
    "    print(a, b, user_confirms)\n",
    "\n",
    "\n",
    "func1(func2)"
   ]
  },
  {
   "cell_type": "code",
   "execution_count": 4,
   "metadata": {},
   "outputs": [
    {
     "name": "stdout",
     "output_type": "stream",
     "text": [
      "2023-12-01 00:00:00\n",
      "2023-12-01 06:00:00\n"
     ]
    }
   ],
   "source": [
    "from datetime import datetime, timedelta\n",
    "\n",
    "# Get the current date\n",
    "today = datetime.now().date()\n",
    "\n",
    "# Calculate midnight of the next day\n",
    "tomorrow_midnight = datetime.combine(today, datetime.min.time())\n",
    "print(tomorrow_midnight)\n",
    "\n",
    "# Set the time to 24:00\n",
    "today_midnight = tomorrow_midnight + timedelta(hours=6)\n",
    "\n",
    "print(today_midnight)"
   ]
  },
  {
   "cell_type": "code",
   "execution_count": 5,
   "metadata": {},
   "outputs": [
    {
     "data": {
      "text/plain": [
       "'[10]'"
      ]
     },
     "execution_count": 5,
     "metadata": {},
     "output_type": "execute_result"
    }
   ],
   "source": [
    "import numpy as np\n",
    "import json\n",
    "\n",
    "data_dict = {\n",
    "    \"key1\": 123,\n",
    "    \"key2\": np.array([1.23, 4.56], dtype=np.float32),\n",
    "    \"key3\": {\n",
    "        \"nested_key1\": np.array([7, 8, 9], dtype=np.int64),\n",
    "        \"nested_key2\": \"value\",\n",
    "    },\n",
    "    \"key4\": [np.int64(10)],\n",
    "}\n",
    "\n",
    "\n",
    "def convert_json_compatible(obj):\n",
    "    if isinstance(\n",
    "        obj,\n",
    "        (\n",
    "            np.int64,\n",
    "            np.int32,\n",
    "            np.int16,\n",
    "            np.int8,\n",
    "        ),\n",
    "    ):\n",
    "        return int(obj)\n",
    "    elif isinstance(obj, (np.float32, np.float64)):\n",
    "        return float(obj)\n",
    "    elif isinstance(obj, np.ndarray):\n",
    "        return obj.tolist()\n",
    "    elif isinstance(obj, list):\n",
    "        return [convert_json_compatible(v) for v in obj]\n",
    "    elif isinstance(obj, dict):\n",
    "        return {k: convert_json_compatible(v) for k, v in obj.items()}\n",
    "    return obj\n",
    "\n",
    "\n",
    "json_dict = convert_json_compatible([np.int64(10)])\n",
    "\n",
    "json.dumps(json_dict)"
   ]
  }
 ],
 "metadata": {
  "kernelspec": {
   "display_name": "Python 3",
   "language": "python",
   "name": "python3"
  },
  "language_info": {
   "codemirror_mode": {
    "name": "ipython",
    "version": 3
   },
   "file_extension": ".py",
   "mimetype": "text/x-python",
   "name": "python",
   "nbconvert_exporter": "python",
   "pygments_lexer": "ipython3",
   "version": "3.11.6"
  }
 },
 "nbformat": 4,
 "nbformat_minor": 2
}

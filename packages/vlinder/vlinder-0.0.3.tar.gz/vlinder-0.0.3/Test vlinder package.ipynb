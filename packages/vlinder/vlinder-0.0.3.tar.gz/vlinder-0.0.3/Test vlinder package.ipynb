{
 "cells": [
  {
   "cell_type": "code",
   "execution_count": 10,
   "id": "a8cd1356-9f76-44fc-b524-d51bde210892",
   "metadata": {},
   "outputs": [],
   "source": [
    "from pathlib import Path\n",
    "# import vlinder_test without from syntax\n",
    "#from vlinder_test.trbs import TheResponsibleBusinessSimulator\n",
    "#import vlinder_test\n",
    "#from vlinder_test import TheResponsibleBusinessSimulator\n",
    "from vlinder_test import * "
   ]
  },
  {
   "cell_type": "code",
   "execution_count": 14,
   "id": "e71becfd-a3d6-4829-a4dd-99aeb256b87b",
   "metadata": {},
   "outputs": [],
   "source": [
    "path = 'C:/Users/isingh059/PycharmProjects/vlinder_test/Lib/site-packages/vlinder_test/data'\n",
    "file_format = 'xlsx'\n",
    "name = 'beerwiser'\n",
    "\n",
    "case = TheResponsibleBusinessSimulator(path, file_format, name)"
   ]
  },
  {
   "cell_type": "code",
   "execution_count": 15,
   "id": "08ad7584-0781-4dcf-bc37-d4e7f0991712",
   "metadata": {},
   "outputs": [
    {
     "name": "stdout",
     "output_type": "stream",
     "text": [
      "Case: beerwiser (xlsx) \n",
      "Data location: C:/Users/isingh059/PycharmProjects/vlinder_test/Lib/site-packages/vlinder_test/data \n",
      "Input data: \n",
      " First .build() a case to import data\n"
     ]
    }
   ],
   "source": [
    "print(case)"
   ]
  },
  {
   "cell_type": "code",
   "execution_count": 16,
   "id": "8a89b683-3e1f-446d-a33f-8884eff7fae4",
   "metadata": {},
   "outputs": [
    {
     "name": "stdout",
     "output_type": "stream",
     "text": [
      "Creating 'beerwiser'\n",
      "Hierarchy calculated in 5 iterations\n",
      "Case: beerwiser (xlsx) \n",
      "Data location: C:/Users/isingh059/PycharmProjects/vlinder_test/Lib/site-packages/vlinder_test/data \n",
      "Input data: \n",
      " configurations\n",
      "\t['use_theme_weights']\n",
      "\n",
      "configuration_value\n",
      "\t[0]\n",
      "\n",
      "key_outputs\n",
      "\t['Accidents reduction' 'Water use reduction' 'Production cost reduction']\n",
      "\n",
      "key_output_theme\n",
      "\t['People' 'Planet' 'Profit']\n",
      "\n",
      "key_output_monetary\n",
      "\t[0 0 0]\n",
      "\n",
      "key_output_smaller_the_better\n",
      "\t[0 0 0]\n",
      "\n",
      "key_output_linear\n",
      "\t[1 1 0]\n",
      "\n",
      "key_output_automatic\n",
      "\t[1 1 1]\n",
      "\n",
      "key_output_start\n",
      "\t[nan nan nan]\n",
      "\n",
      "key_output_end\n",
      "\t[nan nan nan]\n",
      "\n",
      "key_output_threshold\n",
      "\t[nan nan nan]\n",
      "\n",
      "decision_makers_options\n",
      "\t['Equal spread' 'Focus on training' 'Focus on water recycling']\n",
      "\n",
      "internal_variable_inputs\n",
      "\t['Invest in training of employees' 'Invest in water recycling']\n",
      "\n",
      "decision_makers_option_value\n",
      "\t[[150000 150000]\n",
      " [250000  50000]\n",
      " [ 50000 250000]]\n",
      "\n",
      "scenarios\n",
      "\t['Base case' 'Optimistic' 'Pessimistic']\n",
      "\n",
      "external_variable_inputs\n",
      "\t['Cost of accident' 'Effectiveness water recycling']\n",
      "\n",
      "scenario_value\n",
      "\t[[1.5e+04 9.8e-01]\n",
      " [1.2e+04 1.0e+00]\n",
      " [2.0e+04 9.0e-01]]\n",
      "\n",
      "fixed_inputs\n",
      "\t['# employees' 'Current # accidents' 'Current production cost'\n",
      " 'Current water use' 'Water unit cost']\n",
      "\n",
      "fixed_input_value\n",
      "\t[5.0e+02 5.1e+01 7.5e+06 1.5e+07 5.0e-02]\n",
      "\n",
      "destination\n",
      "\t['Accidents reduction %' 'Water use reduction % when effective'\n",
      " 'Cost of training per employee' 'Water use reduction %'\n",
      " 'Accidents reduction' 'Water use reduction' 'Production cost reduction $'\n",
      " 'New # accidents' 'Production cost reduction $' 'New water use'\n",
      " 'Production cost reduction']\n",
      "\n",
      "argument_1\n",
      "\t['Invest in training of employees' 'Invest in water recycling'\n",
      " 'Invest in training of employees' 'Water use reduction % when effective'\n",
      " 'Current # accidents' 'Water use reduction %' 'Accidents reduction'\n",
      " 'Current # accidents' 'Water use reduction' 'Current water use'\n",
      " 'Production cost reduction $']\n",
      "\n",
      "argument_2\n",
      "\t[nan nan '# employees' 'Effectiveness water recycling'\n",
      " 'Accidents reduction %' 'Current water use' 'Cost of accident'\n",
      " 'Accidents reduction' 'Water unit cost' 'Water use reduction'\n",
      " 'Current production cost']\n",
      "\n",
      "operator\n",
      "\t['squeezed *' 'squeezed *' '/' '*' '*' '*' '*' '-' '*' '-' '/']\n",
      "\n",
      "maximum_effect\n",
      "\t[0.48 0.5   nan  nan  nan  nan  nan  nan  nan  nan  nan]\n",
      "\n",
      "accessibility\n",
      "\t[0.95 1.    nan  nan  nan  nan  nan  nan  nan  nan  nan]\n",
      "\n",
      "probability_of_success\n",
      "\t[0.9 1.  nan nan nan nan nan nan nan nan nan]\n",
      "\n",
      "saturation_point\n",
      "\t[300000. 275000.     nan     nan     nan     nan     nan     nan     nan\n",
      "     nan     nan]\n",
      "\n",
      "hierarchy\n",
      "\t[1 1 1 2 2 3 3 3 4 4 7]\n",
      "\n",
      "dependencies_order\n",
      "\t[ 0  1  8  2  3  4  6  9  5 10  7]\n",
      "\n",
      "themes\n",
      "\t['Planet' 'People' 'Profit']\n",
      "\n",
      "theme_weight\n",
      "\t[1 2 3]\n",
      "\n",
      "key_output_weight\n",
      "\t[2 1 3]\n",
      "\n",
      "scenario_weight\n",
      "\t[2 1 3]\n"
     ]
    }
   ],
   "source": [
    "case.build()\n",
    "print(case)"
   ]
  },
  {
   "cell_type": "code",
   "execution_count": 5,
   "id": "c8c77b00-fb4c-4f59-b4fa-49187aa5d284",
   "metadata": {},
   "outputs": [
    {
     "name": "stdout",
     "output_type": "stream",
     "text": [
      "- Evaluated 'Base case' successfully for all decision makers options!\n",
      "- Evaluated 'Optimistic' successfully for all decision makers options!\n",
      "- Evaluated 'Pessimistic' successfully for all decision makers options!\n"
     ]
    }
   ],
   "source": [
    "case.evaluate()"
   ]
  },
  {
   "cell_type": "code",
   "execution_count": 7,
   "id": "bf89993a-e4f7-41ce-834e-cf8811507d91",
   "metadata": {},
   "outputs": [
    {
     "data": {
      "text/plain": [
       "{'Equal spread': {'key_outputs': {'Accidents reduction': 10.4652,\n",
       "   'Water use reduction': 4009090.909090909,\n",
       "   'Production cost reduction': 0.047657672727272726}},\n",
       " 'Focus on training': {'key_outputs': {'Accidents reduction': 17.442,\n",
       "   'Water use reduction': 1336363.6363636365,\n",
       "   'Production cost reduction': 0.043793090909090907}},\n",
       " 'Focus on water recycling': {'key_outputs': {'Accidents reduction': 3.4883999999999995,\n",
       "   'Water use reduction': 6681818.181818182,\n",
       "   'Production cost reduction': 0.051522254545454546}}}"
      ]
     },
     "execution_count": 7,
     "metadata": {},
     "output_type": "execute_result"
    }
   ],
   "source": [
    "case.output_dict['Base case']"
   ]
  },
  {
   "cell_type": "code",
   "execution_count": 8,
   "id": "bf4e3504-3191-45c7-a795-f1ee1ef1365b",
   "metadata": {},
   "outputs": [
    {
     "name": "stdout",
     "output_type": "stream",
     "text": [
      "Key output values have been processed | Appreciated, weighted & aggregated\n"
     ]
    }
   ],
   "source": [
    "case.appreciate()"
   ]
  },
  {
   "cell_type": "code",
   "execution_count": 9,
   "id": "8d725cd1-1334-4d0c-8090-03e15ca6ded2",
   "metadata": {},
   "outputs": [
    {
     "data": {
      "text/plain": [
       "{'Equal spread': {'key_outputs': {'Accidents reduction': 10.4652,\n",
       "   'Water use reduction': 4009090.909090909,\n",
       "   'Production cost reduction': 0.047657672727272726},\n",
       "  'appreciations': {'Accidents reduction': 49.99999999999999,\n",
       "   'Water use reduction': 49.75609756097561,\n",
       "   'Production cost reduction': 81.12099305063569},\n",
       "  'weighted_appreciations': {'Accidents reduction': 16.666666666666664,\n",
       "   'Water use reduction': 8.292682926829269,\n",
       "   'Production cost reduction': 40.560496525317845},\n",
       "  'decision_makers_option_appreciation': 65.51984611881377},\n",
       " 'Focus on training': {'key_outputs': {'Accidents reduction': 17.442,\n",
       "   'Water use reduction': 1336363.6363636365,\n",
       "   'Production cost reduction': 0.043793090909090907},\n",
       "  'appreciations': {'Accidents reduction': 100.0,\n",
       "   'Water use reduction': 1.9512195121951232,\n",
       "   'Production cost reduction': 56.72564870657221},\n",
       "  'weighted_appreciations': {'Accidents reduction': 33.33333333333333,\n",
       "   'Water use reduction': 0.32520325203252054,\n",
       "   'Production cost reduction': 28.362824353286104},\n",
       "  'decision_makers_option_appreciation': 62.02136093865195},\n",
       " 'Focus on water recycling': {'key_outputs': {'Accidents reduction': 3.4883999999999995,\n",
       "   'Water use reduction': 6681818.181818182,\n",
       "   'Production cost reduction': 0.051522254545454546},\n",
       "  'appreciations': {'Accidents reduction': -0.0,\n",
       "   'Water use reduction': 97.5609756097561,\n",
       "   'Production cost reduction': 96.06313712465332},\n",
       "  'weighted_appreciations': {'Accidents reduction': -0.0,\n",
       "   'Water use reduction': 16.260162601626014,\n",
       "   'Production cost reduction': 48.03156856232666},\n",
       "  'decision_makers_option_appreciation': 64.29173116395268}}"
      ]
     },
     "execution_count": 9,
     "metadata": {},
     "output_type": "execute_result"
    }
   ],
   "source": [
    "case.output_dict['Base case']"
   ]
  },
  {
   "cell_type": "code",
   "execution_count": 10,
   "id": "4c9902f0-1e6d-4205-a236-bdd58c8f544d",
   "metadata": {},
   "outputs": [
    {
     "data": {
      "text/html": [
       "<style type=\"text/css\">\n",
       "#T_2ec4d_row0_col0, #T_2ec4d_row2_col0 {\n",
       "  background-color: #dce9f6;\n",
       "  color: #000000;\n",
       "}\n",
       "#T_2ec4d_row0_col1, #T_2ec4d_row1_col0, #T_2ec4d_row1_col2, #T_2ec4d_row2_col2 {\n",
       "  background-color: #c8dcf0;\n",
       "  color: #000000;\n",
       "}\n",
       "#T_2ec4d_row0_col2, #T_2ec4d_row1_col1, #T_2ec4d_row2_col1 {\n",
       "  background-color: #f7fbff;\n",
       "  color: #000000;\n",
       "}\n",
       "</style>\n",
       "<table id=\"T_2ec4d\">\n",
       "  <caption>Values of key outputs | Base case</caption>\n",
       "  <thead>\n",
       "    <tr>\n",
       "      <th class=\"blank\" >&nbsp;</th>\n",
       "      <th class=\"blank level0\" >&nbsp;</th>\n",
       "      <th id=\"T_2ec4d_level0_col0\" class=\"col_heading level0 col0\" >Equal spread</th>\n",
       "      <th id=\"T_2ec4d_level0_col1\" class=\"col_heading level0 col1\" >Focus on training</th>\n",
       "      <th id=\"T_2ec4d_level0_col2\" class=\"col_heading level0 col2\" >Focus on water recycling</th>\n",
       "    </tr>\n",
       "  </thead>\n",
       "  <tbody>\n",
       "    <tr>\n",
       "      <th id=\"T_2ec4d_level0_row0\" class=\"row_heading level0 row0\" rowspan=\"3\">Base case</th>\n",
       "      <th id=\"T_2ec4d_level1_row0\" class=\"row_heading level1 row0\" >Accidents reduction</th>\n",
       "      <td id=\"T_2ec4d_row0_col0\" class=\"data row0 col0\" >10.47</td>\n",
       "      <td id=\"T_2ec4d_row0_col1\" class=\"data row0 col1\" >17.44</td>\n",
       "      <td id=\"T_2ec4d_row0_col2\" class=\"data row0 col2\" >3.49</td>\n",
       "    </tr>\n",
       "    <tr>\n",
       "      <th id=\"T_2ec4d_level1_row1\" class=\"row_heading level1 row1\" >Production cost reduction</th>\n",
       "      <td id=\"T_2ec4d_row1_col0\" class=\"data row1 col0\" >0.05</td>\n",
       "      <td id=\"T_2ec4d_row1_col1\" class=\"data row1 col1\" >0.04</td>\n",
       "      <td id=\"T_2ec4d_row1_col2\" class=\"data row1 col2\" >0.05</td>\n",
       "    </tr>\n",
       "    <tr>\n",
       "      <th id=\"T_2ec4d_level1_row2\" class=\"row_heading level1 row2\" >Water use reduction</th>\n",
       "      <td id=\"T_2ec4d_row2_col0\" class=\"data row2 col0\" >4.0M</td>\n",
       "      <td id=\"T_2ec4d_row2_col1\" class=\"data row2 col1\" >1.3M</td>\n",
       "      <td id=\"T_2ec4d_row2_col2\" class=\"data row2 col2\" >6.7M</td>\n",
       "    </tr>\n",
       "  </tbody>\n",
       "</table>\n"
      ],
      "text/plain": [
       "<pandas.io.formats.style.Styler at 0x201a2d4f7c0>"
      ]
     },
     "execution_count": 10,
     "metadata": {},
     "output_type": "execute_result"
    }
   ],
   "source": [
    "case.visualize('table', 'key_outputs', scenario='Base case')"
   ]
  },
  {
   "cell_type": "code",
   "execution_count": 11,
   "id": "55ad5027-79db-46f1-bcbb-677419499341",
   "metadata": {},
   "outputs": [
    {
     "data": {
      "text/html": [
       "<style type=\"text/css\">\n",
       "#T_d0844_row0_col0, #T_d0844_row1_col0 {\n",
       "  background-color: #dce9f6;\n",
       "  color: #000000;\n",
       "}\n",
       "#T_d0844_row0_col1, #T_d0844_row1_col2, #T_d0844_row2_col2 {\n",
       "  background-color: #c8dcf0;\n",
       "  color: #000000;\n",
       "}\n",
       "#T_d0844_row0_col2, #T_d0844_row1_col1, #T_d0844_row2_col1 {\n",
       "  background-color: #f7fbff;\n",
       "  color: #000000;\n",
       "}\n",
       "#T_d0844_row2_col0 {\n",
       "  background-color: #e3eef8;\n",
       "  color: #000000;\n",
       "}\n",
       "</style>\n",
       "<table id=\"T_d0844\">\n",
       "  <caption>Values of weighted appreciations | Base case</caption>\n",
       "  <thead>\n",
       "    <tr>\n",
       "      <th class=\"blank\" >&nbsp;</th>\n",
       "      <th class=\"blank level0\" >&nbsp;</th>\n",
       "      <th id=\"T_d0844_level0_col0\" class=\"col_heading level0 col0\" >Equal spread</th>\n",
       "      <th id=\"T_d0844_level0_col1\" class=\"col_heading level0 col1\" >Focus on training</th>\n",
       "      <th id=\"T_d0844_level0_col2\" class=\"col_heading level0 col2\" >Focus on water recycling</th>\n",
       "    </tr>\n",
       "  </thead>\n",
       "  <tbody>\n",
       "    <tr>\n",
       "      <th id=\"T_d0844_level0_row0\" class=\"row_heading level0 row0\" rowspan=\"3\">Base case</th>\n",
       "      <th id=\"T_d0844_level1_row0\" class=\"row_heading level1 row0\" >Accidents reduction</th>\n",
       "      <td id=\"T_d0844_row0_col0\" class=\"data row0 col0\" >16.67</td>\n",
       "      <td id=\"T_d0844_row0_col1\" class=\"data row0 col1\" >33.33</td>\n",
       "      <td id=\"T_d0844_row0_col2\" class=\"data row0 col2\" >-0.00</td>\n",
       "    </tr>\n",
       "    <tr>\n",
       "      <th id=\"T_d0844_level1_row1\" class=\"row_heading level1 row1\" >Production cost reduction</th>\n",
       "      <td id=\"T_d0844_row1_col0\" class=\"data row1 col0\" >40.56</td>\n",
       "      <td id=\"T_d0844_row1_col1\" class=\"data row1 col1\" >28.36</td>\n",
       "      <td id=\"T_d0844_row1_col2\" class=\"data row1 col2\" >48.03</td>\n",
       "    </tr>\n",
       "    <tr>\n",
       "      <th id=\"T_d0844_level1_row2\" class=\"row_heading level1 row2\" >Water use reduction</th>\n",
       "      <td id=\"T_d0844_row2_col0\" class=\"data row2 col0\" >8.29</td>\n",
       "      <td id=\"T_d0844_row2_col1\" class=\"data row2 col1\" >0.33</td>\n",
       "      <td id=\"T_d0844_row2_col2\" class=\"data row2 col2\" >16.26</td>\n",
       "    </tr>\n",
       "  </tbody>\n",
       "</table>\n"
      ],
      "text/plain": [
       "<pandas.io.formats.style.Styler at 0x201a2141d30>"
      ]
     },
     "execution_count": 11,
     "metadata": {},
     "output_type": "execute_result"
    }
   ],
   "source": [
    "case.visualize('table', 'weighted_appreciations', scenario=\"Base case\")"
   ]
  },
  {
   "cell_type": "code",
   "execution_count": 12,
   "id": "6cc21351-90b4-45d8-9b93-bfb554fbd7c8",
   "metadata": {},
   "outputs": [
    {
     "data": {
      "image/png": "[encoded data removed]",
      "text/plain": [
       "<Figure size 1000x500 with 1 Axes>"
      ]
     },
     "metadata": {},
     "output_type": "display_data"
    }
   ],
   "source": [
    "case.visualize('barchart', 'weighted_appreciations', scenario=\"Base case\", stacked=True)"
   ]
  },
  {
   "cell_type": "code",
   "execution_count": 13,
   "id": "339dc842-7015-437f-82cd-08036f6bd6f5",
   "metadata": {},
   "outputs": [
    {
     "data": {
      "image/png": "[encoded data removed]",
      "text/plain": [
       "<Figure size 1000x500 with 1 Axes>"
      ]
     },
     "metadata": {},
     "output_type": "display_data"
    }
   ],
   "source": [
    "case.visualize('barchart', 'decision_makers_option_appreciation', scenario='Base case', show_legend=False)"
   ]
  },
  {
   "cell_type": "code",
   "execution_count": 15,
   "id": "2e741abd-aadb-4819-b298-76eb893b02a4",
   "metadata": {},
   "outputs": [
    {
     "name": "stdout",
     "output_type": "stream",
     "text": [
      "Folder 'json' already exists. \n",
      "Folder 'csv' already exists. \n"
     ]
    }
   ],
   "source": [
    "output_path = Path(path) / name \n",
    "case.transform(output_path, \"json\")\n",
    "# case.transform(output_path, \"xlsx\")\n",
    "case.transform(output_path, \"csv\")"
   ]
  },
  {
   "cell_type": "code",
   "execution_count": null,
   "id": "fe1c6a0d-02e1-448d-862d-b9b760379618",
   "metadata": {},
   "outputs": [],
   "source": []
  }
 ],
 "metadata": {
  "kernelspec": {
   "display_name": "Python 3 (ipykernel)",
   "language": "python",
   "name": "python3"
  },
  "language_info": {
   "codemirror_mode": {
    "name": "ipython",
    "version": 3
   },
   "file_extension": ".py",
   "mimetype": "text/x-python",
   "name": "python",
   "nbconvert_exporter": "python",
   "pygments_lexer": "ipython3",
   "version": "3.9.0"
  }
 },
 "nbformat": 4,
 "nbformat_minor": 5
}

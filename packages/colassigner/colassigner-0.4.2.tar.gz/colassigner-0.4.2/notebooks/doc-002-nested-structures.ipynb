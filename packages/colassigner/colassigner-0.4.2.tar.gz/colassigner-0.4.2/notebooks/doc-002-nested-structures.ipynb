{
 "cells": [
  {
   "cell_type": "markdown",
   "id": "auburn-click",
   "metadata": {},
   "source": [
    "# Nested Structures"
   ]
  },
  {
   "cell_type": "markdown",
   "id": "invisible-nickel",
   "metadata": {},
   "source": [
    "## Nested Accessor"
   ]
  },
  {
   "cell_type": "code",
   "execution_count": 1,
   "id": "antique-illustration",
   "metadata": {},
   "outputs": [],
   "source": [
    "import pandas as pd"
   ]
  },
  {
   "cell_type": "code",
   "execution_count": 2,
   "id": "professional-synthetic",
   "metadata": {},
   "outputs": [],
   "source": [
    "from colassigner import ColAccessor"
   ]
  },
  {
   "cell_type": "code",
   "execution_count": 3,
   "id": "collectible-swedish",
   "metadata": {},
   "outputs": [],
   "source": [
    "class GrandChildCols(ColAccessor):\n",
    "    x = str\n",
    "    y = str\n",
    "\n",
    "\n",
    "class ChildCols(ColAccessor):\n",
    "    a = int\n",
    "    b = float\n",
    "    grandchild_a = GrandChildCols\n",
    "    grandchild_b = GrandChildCols\n",
    "\n",
    "\n",
    "class Cols(ColAccessor):\n",
    "\n",
    "    fing = int\n",
    "    assigned_child = ChildCols\n",
    "\n",
    "    class InheritedChild(ChildCols):\n",
    "        pass"
   ]
  },
  {
   "cell_type": "code",
   "execution_count": 4,
   "id": "satellite-malpractice",
   "metadata": {},
   "outputs": [
    {
     "data": {
      "text/html": [
       "<div>\n",
       "<style scoped>\n",
       "    .dataframe tbody tr th:only-of-type {\n",
       "        vertical-align: middle;\n",
       "    }\n",
       "\n",
       "    .dataframe tbody tr th {\n",
       "        vertical-align: top;\n",
       "    }\n",
       "\n",
       "    .dataframe thead th {\n",
       "        text-align: right;\n",
       "    }\n",
       "</style>\n",
       "<table border=\"1\" class=\"dataframe\">\n",
       "  <thead>\n",
       "    <tr style=\"text-align: right;\">\n",
       "      <th></th>\n",
       "      <th>fing</th>\n",
       "      <th>assigned_child__grandchild_a__y</th>\n",
       "      <th>inherited_child__b</th>\n",
       "    </tr>\n",
       "  </thead>\n",
       "  <tbody>\n",
       "    <tr>\n",
       "      <th>0</th>\n",
       "      <td>2</td>\n",
       "      <td>a</td>\n",
       "      <td>0.1</td>\n",
       "    </tr>\n",
       "    <tr>\n",
       "      <th>1</th>\n",
       "      <td>3</td>\n",
       "      <td>b</td>\n",
       "      <td>0.2</td>\n",
       "    </tr>\n",
       "    <tr>\n",
       "      <th>2</th>\n",
       "      <td>4</td>\n",
       "      <td>c</td>\n",
       "      <td>0.3</td>\n",
       "    </tr>\n",
       "  </tbody>\n",
       "</table>\n",
       "</div>"
      ],
      "text/plain": [
       "   fing assigned_child__grandchild_a__y  inherited_child__b\n",
       "0     2                               a                 0.1\n",
       "1     3                               b                 0.2\n",
       "2     4                               c                 0.3"
      ]
     },
     "execution_count": 4,
     "metadata": {},
     "output_type": "execute_result"
    }
   ],
   "source": [
    "pd.DataFrame(\n",
    "    {\n",
    "        Cols.fing: [2, 3, 4],\n",
    "        Cols.assigned_child.grandchild_a.y: [\"a\", \"b\", \"c\"],\n",
    "        Cols.InheritedChild.b: [0.1, 0.2, 0.3],\n",
    "    }\n",
    ")"
   ]
  },
  {
   "cell_type": "markdown",
   "id": "numerical-symposium",
   "metadata": {},
   "source": [
    "## Nested Assigner"
   ]
  },
  {
   "cell_type": "code",
   "execution_count": 5,
   "id": "burning-sailing",
   "metadata": {},
   "outputs": [],
   "source": [
    "from colassigner import ColAssigner"
   ]
  },
  {
   "cell_type": "code",
   "execution_count": 6,
   "id": "silver-status",
   "metadata": {},
   "outputs": [],
   "source": [
    "class SourceCols(ColAccessor):\n",
    "    \n",
    "    x = float\n",
    "    b = bool\n",
    "\n",
    "class SepChild(ColAssigner):\n",
    "    _col = SourceCols.x\n",
    "    \n",
    "    def neg(self, df):\n",
    "        return -df[self._col]\n",
    "    \n",
    "    def double(self, df):\n",
    "        return 2 * df[self._col]\n",
    "\n",
    "class Cols(ColAssigner):\n",
    "    def col_one(self, df):\n",
    "        return 1\n",
    "\n",
    "    class SubCol(ColAssigner):\n",
    "        def fing(self, df):\n",
    "            return df.sum(axis=1)\n",
    "\n",
    "        class SubSubCol(ColAssigner):\n",
    "            _prefix = \"pref_\"\n",
    "\n",
    "            def sub_x(self, df):\n",
    "                return 0\n",
    "\n",
    "            def sub_y(self, df):\n",
    "                return self._prefix + df[Cols.col_one].astype(str)\n",
    "\n",
    "        class SubSubCol2(SubSubCol):\n",
    "            _prefix = \"pref2_\"\n",
    "\n",
    "    sep_child = SepChild\n",
    "    \n",
    "    class SepChildB(SepChild):\n",
    "        _col = SourceCols.b"
   ]
  },
  {
   "cell_type": "code",
   "execution_count": 7,
   "id": "better-marketing",
   "metadata": {},
   "outputs": [],
   "source": [
    "df = pd.DataFrame({\n",
    "    SourceCols.x: [1.5, 3.4, 9.1], SourceCols.b: [False, True, True]\n",
    "}).pipe(Cols())"
   ]
  },
  {
   "cell_type": "code",
   "execution_count": 8,
   "id": "grateful-kernel",
   "metadata": {},
   "outputs": [
    {
     "data": {
      "text/html": [
       "<div>\n",
       "<style scoped>\n",
       "    .dataframe tbody tr th:only-of-type {\n",
       "        vertical-align: middle;\n",
       "    }\n",
       "\n",
       "    .dataframe tbody tr th {\n",
       "        vertical-align: top;\n",
       "    }\n",
       "\n",
       "    .dataframe thead th {\n",
       "        text-align: right;\n",
       "    }\n",
       "</style>\n",
       "<table border=\"1\" class=\"dataframe\">\n",
       "  <thead>\n",
       "    <tr style=\"text-align: right;\">\n",
       "      <th></th>\n",
       "      <th>0</th>\n",
       "      <th>1</th>\n",
       "      <th>2</th>\n",
       "    </tr>\n",
       "  </thead>\n",
       "  <tbody>\n",
       "    <tr>\n",
       "      <th>x</th>\n",
       "      <td>1.5</td>\n",
       "      <td>3.4</td>\n",
       "      <td>9.1</td>\n",
       "    </tr>\n",
       "    <tr>\n",
       "      <th>b</th>\n",
       "      <td>False</td>\n",
       "      <td>True</td>\n",
       "      <td>True</td>\n",
       "    </tr>\n",
       "    <tr>\n",
       "      <th>col_one</th>\n",
       "      <td>1</td>\n",
       "      <td>1</td>\n",
       "      <td>1</td>\n",
       "    </tr>\n",
       "    <tr>\n",
       "      <th>sub_col__fing</th>\n",
       "      <td>2.5</td>\n",
       "      <td>5.4</td>\n",
       "      <td>11.1</td>\n",
       "    </tr>\n",
       "    <tr>\n",
       "      <th>sub_col__sub_sub_col__sub_x</th>\n",
       "      <td>0</td>\n",
       "      <td>0</td>\n",
       "      <td>0</td>\n",
       "    </tr>\n",
       "    <tr>\n",
       "      <th>sub_col__sub_sub_col__sub_y</th>\n",
       "      <td>pref_1</td>\n",
       "      <td>pref_1</td>\n",
       "      <td>pref_1</td>\n",
       "    </tr>\n",
       "    <tr>\n",
       "      <th>sub_col__sub_sub_col_2__sub_x</th>\n",
       "      <td>0</td>\n",
       "      <td>0</td>\n",
       "      <td>0</td>\n",
       "    </tr>\n",
       "    <tr>\n",
       "      <th>sub_col__sub_sub_col_2__sub_y</th>\n",
       "      <td>pref2_1</td>\n",
       "      <td>pref2_1</td>\n",
       "      <td>pref2_1</td>\n",
       "    </tr>\n",
       "    <tr>\n",
       "      <th>sep_child__neg</th>\n",
       "      <td>-1.5</td>\n",
       "      <td>-3.4</td>\n",
       "      <td>-9.1</td>\n",
       "    </tr>\n",
       "    <tr>\n",
       "      <th>sep_child__double</th>\n",
       "      <td>3.0</td>\n",
       "      <td>6.8</td>\n",
       "      <td>18.2</td>\n",
       "    </tr>\n",
       "    <tr>\n",
       "      <th>sep_child_b__neg</th>\n",
       "      <td>True</td>\n",
       "      <td>False</td>\n",
       "      <td>False</td>\n",
       "    </tr>\n",
       "    <tr>\n",
       "      <th>sep_child_b__double</th>\n",
       "      <td>0</td>\n",
       "      <td>2</td>\n",
       "      <td>2</td>\n",
       "    </tr>\n",
       "  </tbody>\n",
       "</table>\n",
       "</div>"
      ],
      "text/plain": [
       "                                     0        1        2\n",
       "x                                  1.5      3.4      9.1\n",
       "b                                False     True     True\n",
       "col_one                              1        1        1\n",
       "sub_col__fing                      2.5      5.4     11.1\n",
       "sub_col__sub_sub_col__sub_x          0        0        0\n",
       "sub_col__sub_sub_col__sub_y     pref_1   pref_1   pref_1\n",
       "sub_col__sub_sub_col_2__sub_x        0        0        0\n",
       "sub_col__sub_sub_col_2__sub_y  pref2_1  pref2_1  pref2_1\n",
       "sep_child__neg                    -1.5     -3.4     -9.1\n",
       "sep_child__double                  3.0      6.8     18.2\n",
       "sep_child_b__neg                  True    False    False\n",
       "sep_child_b__double                  0        2        2"
      ]
     },
     "execution_count": 8,
     "metadata": {},
     "output_type": "execute_result"
    }
   ],
   "source": [
    "df.T"
   ]
  },
  {
   "cell_type": "code",
   "execution_count": 9,
   "id": "separated-productivity",
   "metadata": {},
   "outputs": [
    {
     "data": {
      "text/html": [
       "<div>\n",
       "<style scoped>\n",
       "    .dataframe tbody tr th:only-of-type {\n",
       "        vertical-align: middle;\n",
       "    }\n",
       "\n",
       "    .dataframe tbody tr th {\n",
       "        vertical-align: top;\n",
       "    }\n",
       "\n",
       "    .dataframe thead th {\n",
       "        text-align: right;\n",
       "    }\n",
       "</style>\n",
       "<table border=\"1\" class=\"dataframe\">\n",
       "  <thead>\n",
       "    <tr style=\"text-align: right;\">\n",
       "      <th></th>\n",
       "      <th>sep_child__double</th>\n",
       "      <th>sub_col__sub_sub_col_2__sub_x</th>\n",
       "    </tr>\n",
       "  </thead>\n",
       "  <tbody>\n",
       "    <tr>\n",
       "      <th>0</th>\n",
       "      <td>3.0</td>\n",
       "      <td>0</td>\n",
       "    </tr>\n",
       "    <tr>\n",
       "      <th>1</th>\n",
       "      <td>6.8</td>\n",
       "      <td>0</td>\n",
       "    </tr>\n",
       "    <tr>\n",
       "      <th>2</th>\n",
       "      <td>18.2</td>\n",
       "      <td>0</td>\n",
       "    </tr>\n",
       "  </tbody>\n",
       "</table>\n",
       "</div>"
      ],
      "text/plain": [
       "   sep_child__double  sub_col__sub_sub_col_2__sub_x\n",
       "0                3.0                              0\n",
       "1                6.8                              0\n",
       "2               18.2                              0"
      ]
     },
     "execution_count": 9,
     "metadata": {},
     "output_type": "execute_result"
    }
   ],
   "source": [
    "df.loc[:, [Cols.sep_child.double, Cols.SubCol.SubSubCol2.sub_x]]"
   ]
  },
  {
   "cell_type": "markdown",
   "id": "dental-aquarium",
   "metadata": {},
   "source": [
    "## Designated Child Assigner"
   ]
  },
  {
   "cell_type": "markdown",
   "id": "selected-travel",
   "metadata": {},
   "source": [
    "> These are designed for information sharing among assigners and **do not** take the dataframe as arguments for their methods but, take both the df and their parent assigner as parameters for their `__init__`"
   ]
  },
  {
   "cell_type": "code",
   "execution_count": 10,
   "id": "fatty-python",
   "metadata": {},
   "outputs": [],
   "source": [
    "import numpy as np\n",
    "\n",
    "from colassigner import ChildColAssigner"
   ]
  },
  {
   "cell_type": "code",
   "execution_count": 11,
   "id": "appreciated-bishop",
   "metadata": {},
   "outputs": [],
   "source": [
    "class RawCols(ColAccessor):\n",
    "    \n",
    "    cat = str\n",
    "    num = int\n",
    "\n",
    "class RawCols2(ColAccessor):\n",
    "    b = str\n",
    "    c = str\n",
    "\n",
    "class IntSides(ChildColAssigner):\n",
    "    \n",
    "    # note the type and order of the parameters:\n",
    "    def __init__(self, df, parent_assigner: \"GbReindex\") -> None:\n",
    "        self.arr = parent_assigner.arr\n",
    "\n",
    "    # note the absence of parameters\n",
    "    def lower(self):\n",
    "        return np.floor(self.arr).astype(int)\n",
    "\n",
    "    def upper(self):\n",
    "        return np.ceil(self.arr).astype(int)\n",
    "\n",
    "class GbReindex(ChildColAssigner):\n",
    "    main_col = ...\n",
    "\n",
    "    def __init__(self, df, bc: \"BaseCols\"):\n",
    "        # note that this reindex needs to be done only once\n",
    "        # and can be used in many child assigners\n",
    "        self.arr = bc.base_gb.reindex(df[self.main_col]).values\n",
    "\n",
    "    def values(self):\n",
    "        return self.arr\n",
    "\n",
    "    sides = IntSides\n",
    "\n",
    "class BaseCols(ColAssigner):\n",
    "    def __init__(self, base_df):\n",
    "        self.base_gb = base_df.groupby(RawCols.cat)[RawCols.num].mean()\n",
    "\n",
    "    class GbB(GbReindex):\n",
    "        main_col = RawCols2.b\n",
    "\n",
    "    class GbC(GbReindex):\n",
    "        main_col = RawCols2.c\n",
    "\n",
    "    def prod(self, df):\n",
    "        return df.loc[\n",
    "            :, [BaseCols.GbB.sides.lower, BaseCols.GbC.values]\n",
    "        ].prod(axis=1)"
   ]
  },
  {
   "cell_type": "code",
   "execution_count": 12,
   "id": "stuck-event",
   "metadata": {},
   "outputs": [],
   "source": [
    "df1 = pd.DataFrame({RawCols.cat: [\"x\", \"y\", \"y\"], RawCols.num: [2, 3, 4]})"
   ]
  },
  {
   "cell_type": "code",
   "execution_count": 13,
   "id": "elect-malawi",
   "metadata": {},
   "outputs": [],
   "source": [
    "assigner = BaseCols(df1)"
   ]
  },
  {
   "cell_type": "code",
   "execution_count": 14,
   "id": "middle-playlist",
   "metadata": {},
   "outputs": [],
   "source": [
    "df2 = pd.DataFrame({\"b\": [\"x\", \"y\", \"x\"], \"c\": [\"y\", \"y\", \"x\"]}).pipe(assigner)"
   ]
  },
  {
   "cell_type": "code",
   "execution_count": 15,
   "id": "relative-flight",
   "metadata": {},
   "outputs": [
    {
     "data": {
      "text/html": [
       "<div>\n",
       "<style scoped>\n",
       "    .dataframe tbody tr th:only-of-type {\n",
       "        vertical-align: middle;\n",
       "    }\n",
       "\n",
       "    .dataframe tbody tr th {\n",
       "        vertical-align: top;\n",
       "    }\n",
       "\n",
       "    .dataframe thead th {\n",
       "        text-align: right;\n",
       "    }\n",
       "</style>\n",
       "<table border=\"1\" class=\"dataframe\">\n",
       "  <thead>\n",
       "    <tr style=\"text-align: right;\">\n",
       "      <th></th>\n",
       "      <th>b</th>\n",
       "      <th>c</th>\n",
       "      <th>gb_b__values</th>\n",
       "      <th>gb_b__sides__lower</th>\n",
       "      <th>gb_b__sides__upper</th>\n",
       "      <th>gb_c__values</th>\n",
       "      <th>gb_c__sides__lower</th>\n",
       "      <th>gb_c__sides__upper</th>\n",
       "      <th>prod</th>\n",
       "    </tr>\n",
       "  </thead>\n",
       "  <tbody>\n",
       "    <tr>\n",
       "      <th>0</th>\n",
       "      <td>x</td>\n",
       "      <td>y</td>\n",
       "      <td>2.0</td>\n",
       "      <td>2</td>\n",
       "      <td>2</td>\n",
       "      <td>3.5</td>\n",
       "      <td>3</td>\n",
       "      <td>4</td>\n",
       "      <td>7.0</td>\n",
       "    </tr>\n",
       "    <tr>\n",
       "      <th>1</th>\n",
       "      <td>y</td>\n",
       "      <td>y</td>\n",
       "      <td>3.5</td>\n",
       "      <td>3</td>\n",
       "      <td>4</td>\n",
       "      <td>3.5</td>\n",
       "      <td>3</td>\n",
       "      <td>4</td>\n",
       "      <td>10.5</td>\n",
       "    </tr>\n",
       "    <tr>\n",
       "      <th>2</th>\n",
       "      <td>x</td>\n",
       "      <td>x</td>\n",
       "      <td>2.0</td>\n",
       "      <td>2</td>\n",
       "      <td>2</td>\n",
       "      <td>2.0</td>\n",
       "      <td>2</td>\n",
       "      <td>2</td>\n",
       "      <td>4.0</td>\n",
       "    </tr>\n",
       "  </tbody>\n",
       "</table>\n",
       "</div>"
      ],
      "text/plain": [
       "   b  c  gb_b__values  gb_b__sides__lower  gb_b__sides__upper  gb_c__values  \\\n",
       "0  x  y           2.0                   2                   2           3.5   \n",
       "1  y  y           3.5                   3                   4           3.5   \n",
       "2  x  x           2.0                   2                   2           2.0   \n",
       "\n",
       "   gb_c__sides__lower  gb_c__sides__upper  prod  \n",
       "0                   3                   4   7.0  \n",
       "1                   3                   4  10.5  \n",
       "2                   2                   2   4.0  "
      ]
     },
     "execution_count": 15,
     "metadata": {},
     "output_type": "execute_result"
    }
   ],
   "source": [
    "df2"
   ]
  }
 ],
 "metadata": {
  "kernelspec": {
   "display_name": "Python 3",
   "language": "python",
   "name": "python3"
  },
  "language_info": {
   "codemirror_mode": {
    "name": "ipython",
    "version": 3
   },
   "file_extension": ".py",
   "mimetype": "text/x-python",
   "name": "python",
   "nbconvert_exporter": "python",
   "pygments_lexer": "ipython3",
   "version": "3.8.10"
  }
 },
 "nbformat": 4,
 "nbformat_minor": 5
}

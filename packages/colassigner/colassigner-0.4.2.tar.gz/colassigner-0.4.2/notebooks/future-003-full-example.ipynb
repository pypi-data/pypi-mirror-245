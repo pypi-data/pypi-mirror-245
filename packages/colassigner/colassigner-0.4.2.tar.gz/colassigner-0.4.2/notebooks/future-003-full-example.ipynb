{
 "cells": [
  {
   "cell_type": "markdown",
   "id": "printable-surveillance",
   "metadata": {},
   "source": [
    "# Complete Example\n",
    "\n",
    "This example is inteded to show off all features and uses of the package"
   ]
  },
  {
   "cell_type": "code",
   "execution_count": 1,
   "id": "closing-deviation",
   "metadata": {},
   "outputs": [],
   "source": [
    "from colassigner import ColAccessor\n",
    "from colassigner.meta_base import ColMeta"
   ]
  },
  {
   "cell_type": "code",
   "execution_count": 2,
   "id": "spiritual-julian",
   "metadata": {},
   "outputs": [],
   "source": [
    "\n",
    "class LocationCols(ColAccessor):\n",
    "    lon = float\n",
    "    lat = float\n",
    "\n",
    "class TableCols(ColAccessor):\n",
    "    col1 = int\n",
    "    col2 = str\n",
    "    foreign_key1 = \"name_of_key\"\n",
    "\n",
    "    class NestedCols(ColAccessor):\n",
    "        s = str\n",
    "        x = float\n",
    "\n",
    "    start_loc = LocationCols\n",
    "    end_loc = LocationCols\n"
   ]
  },
  {
   "cell_type": "code",
   "execution_count": 3,
   "id": "approximate-membrane",
   "metadata": {},
   "outputs": [
    {
     "data": {
      "text/plain": [
       "<class '__main__.TableCols'> (NestedCols, col1, col2, end_loc, foreign_key1, start_loc)"
      ]
     },
     "execution_count": 3,
     "metadata": {},
     "output_type": "execute_result"
    }
   ],
   "source": [
    "TableCols"
   ]
  }
 ],
 "metadata": {
  "kernelspec": {
   "display_name": "Python 3",
   "language": "python",
   "name": "python3"
  },
  "language_info": {
   "codemirror_mode": {
    "name": "ipython",
    "version": 3
   },
   "file_extension": ".py",
   "mimetype": "text/x-python",
   "name": "python",
   "nbconvert_exporter": "python",
   "pygments_lexer": "ipython3",
   "version": "3.8.10"
  }
 },
 "nbformat": 4,
 "nbformat_minor": 5
}

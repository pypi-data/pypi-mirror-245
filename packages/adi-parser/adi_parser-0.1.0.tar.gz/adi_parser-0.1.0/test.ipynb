{
 "cells": [
  {
   "cell_type": "code",
   "execution_count": 1,
   "metadata": {},
   "outputs": [],
   "source": [
    "from src.adi_parser import parse_adi\n"
   ]
  },
  {
   "cell_type": "code",
   "execution_count": 2,
   "metadata": {},
   "outputs": [
    {
     "name": "stdout",
     "output_type": "stream",
     "text": [
      "is dict\n"
     ]
    }
   ],
   "source": [
    "result = parse_adi(r\"C:\\Users\\39008\\Documents\\python envs\\adi_parser\\tests\\lotwreport_madeup.adi\", return_type=dict)"
   ]
  },
  {
   "cell_type": "code",
   "execution_count": 3,
   "metadata": {},
   "outputs": [
    {
     "data": {
      "text/plain": [
       "{'full_text': '<APP_LoTW_OWNCALL:4>WV8O\\n<STATION_CALLSIGN:4>WV8O\\n<CALL:5>9A4ZM\\n<BAND:3>12M\\n<FREQ:8>24.91679\\n<MODE:3>FT8\\n<APP_LoTW_MODEGROUP:4>DATA\\n<QSO_DATE:8>20231113\\n<APP_LoTW_RXQSO:19>2023-11-14 03:15:12 // QSO record inserted/modified at LoTW\\n<TIME_ON:6>163415\\n<APP_LoTW_QSO_TIMESTAMP:20>2023-11-13T16:34:15Z // QSO Date & Time; ISO-8601\\n<QSL_RCVD:1>Y\\n<MY_CUSTOM_FIELD:1:T>Y\\n<QSLRDATE:8>20231204\\n<APP_LoTW_RXQSL:19>2023-12-04 08:46:20 // QSL record matched/modified at LoTW\\n',\n",
       " 'APP_LoTW_OWNCALL': {'value': 'WV8O',\n",
       "  'length': '4',\n",
       "  'type': None,\n",
       "  'comment': None},\n",
       " 'STATION_CALLSIGN': {'value': 'WV8O',\n",
       "  'length': '4',\n",
       "  'type': None,\n",
       "  'comment': None},\n",
       " 'CALL': {'value': '9A4ZM', 'length': '5', 'type': None, 'comment': None},\n",
       " 'BAND': {'value': '12M', 'length': '3', 'type': None, 'comment': None},\n",
       " 'FREQ': {'value': '24.91679', 'length': '8', 'type': None, 'comment': None},\n",
       " 'MODE': {'value': 'FT8', 'length': '3', 'type': None, 'comment': None},\n",
       " 'APP_LoTW_MODEGROUP': {'value': 'DATA',\n",
       "  'length': '4',\n",
       "  'type': None,\n",
       "  'comment': None},\n",
       " 'QSO_DATE': {'value': '20231113',\n",
       "  'length': '8',\n",
       "  'type': None,\n",
       "  'comment': None},\n",
       " 'APP_LoTW_RXQSO': {'value': '2023-11-14 03:15:12',\n",
       "  'length': '19',\n",
       "  'type': None,\n",
       "  'comment': 'QSO record inserted/modified at LoTW'},\n",
       " 'TIME_ON': {'value': '163415', 'length': '6', 'type': None, 'comment': None},\n",
       " 'APP_LoTW_QSO_TIMESTAMP': {'value': '2023-11-13T16:34:15Z',\n",
       "  'length': '20',\n",
       "  'type': None,\n",
       "  'comment': 'QSO Date & Time; ISO-8601'},\n",
       " 'QSL_RCVD': {'value': 'Y', 'length': '1', 'type': None, 'comment': None},\n",
       " 'MY_CUSTOM_FIELD': {'value': 'Y',\n",
       "  'length': '1',\n",
       "  'type': 'T',\n",
       "  'comment': None},\n",
       " 'QSLRDATE': {'value': '20231204',\n",
       "  'length': '8',\n",
       "  'type': None,\n",
       "  'comment': None},\n",
       " 'APP_LoTW_RXQSL': {'value': '2023-12-04 08:46:20',\n",
       "  'length': '19',\n",
       "  'type': None,\n",
       "  'comment': 'QSL record matched/modified at LoTW'}}"
      ]
     },
     "execution_count": 3,
     "metadata": {},
     "output_type": "execute_result"
    }
   ],
   "source": [
    "result.get(\"qso_reports\")[0]\n"
   ]
  },
  {
   "cell_type": "code",
   "execution_count": 3,
   "metadata": {},
   "outputs": [],
   "source": [
    "from timeit import timeit\n",
    "\n",
    "result = timeit(stmt=f'parse_adi(\"C:\\\\\\\\Users\\\\\\\\39008\\\\\\\\Documents\\\\\\\\python envs\\\\\\\\adi_parser\\\\\\\\tests\\\\\\\\lotwreport.adi\")',setup='from src.adi_parser import parse_adi', number=100)"
   ]
  },
  {
   "cell_type": "code",
   "execution_count": 5,
   "metadata": {},
   "outputs": [
    {
     "data": {
      "text/plain": [
       "39.94345456974183"
      ]
     },
     "execution_count": 5,
     "metadata": {},
     "output_type": "execute_result"
    }
   ],
   "source": [
    "100 - (100 * (24.510297500004526 / 40.81203360001382))"
   ]
  },
  {
   "cell_type": "code",
   "execution_count": 6,
   "metadata": {},
   "outputs": [
    {
     "data": {
      "text/plain": [
       "0.4081203360001382"
      ]
     },
     "execution_count": 6,
     "metadata": {},
     "output_type": "execute_result"
    }
   ],
   "source": [
    "40.81203360001382 / 100"
   ]
  },
  {
   "cell_type": "code",
   "execution_count": 7,
   "metadata": {},
   "outputs": [
    {
     "data": {
      "text/plain": [
       "0.24510297500004527"
      ]
     },
     "execution_count": 7,
     "metadata": {},
     "output_type": "execute_result"
    }
   ],
   "source": [
    "24.510297500004526 / 100"
   ]
  },
  {
   "cell_type": "code",
   "execution_count": 4,
   "metadata": {},
   "outputs": [
    {
     "data": {
      "text/plain": [
       "24.510297500004526"
      ]
     },
     "execution_count": 4,
     "metadata": {},
     "output_type": "execute_result"
    }
   ],
   "source": [
    "result"
   ]
  },
  {
   "cell_type": "code",
   "execution_count": 17,
   "metadata": {},
   "outputs": [],
   "source": [
    "from src.adi_parser.dataclasses import QSOReport\n",
    "from typing import get_type_hints, get_args\n",
    "\n",
    "result = get_type_hints(QSOReport)"
   ]
  },
  {
   "cell_type": "code",
   "execution_count": 18,
   "metadata": {},
   "outputs": [
    {
     "data": {
      "text/plain": [
       "True"
      ]
     },
     "execution_count": 18,
     "metadata": {},
     "output_type": "execute_result"
    }
   ],
   "source": []
  },
  {
   "cell_type": "code",
   "execution_count": null,
   "metadata": {},
   "outputs": [],
   "source": []
  }
 ],
 "metadata": {
  "kernelspec": {
   "display_name": ".venv",
   "language": "python",
   "name": "python3"
  },
  "language_info": {
   "codemirror_mode": {
    "name": "ipython",
    "version": 3
   },
   "file_extension": ".py",
   "mimetype": "text/x-python",
   "name": "python",
   "nbconvert_exporter": "python",
   "pygments_lexer": "ipython3",
   "version": "3.12.0"
  }
 },
 "nbformat": 4,
 "nbformat_minor": 2
}

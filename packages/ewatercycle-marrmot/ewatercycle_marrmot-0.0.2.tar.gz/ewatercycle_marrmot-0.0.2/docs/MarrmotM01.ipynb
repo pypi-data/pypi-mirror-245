{
 "cells": [
  {
   "cell_type": "markdown",
   "id": "4e0f7807-0fa6-42a9-ad41-2fefbd65811e",
   "metadata": {},
   "source": [
    "![image](https://github.com/eWaterCycle/ewatercycle/raw/main/docs/examples/logo.png)"
   ]
  },
  {
   "cell_type": "markdown",
   "id": "89b88b4b-33e3-4718-a569-2cfd98ff7671",
   "metadata": {},
   "source": [
    "# Running MARRMoT M01 model using eWaterCycle package\n",
    "\n",
    "This notebooks shows how to run [MARRMoT](https://github.com/wknoben/MARRMoT) M01 model using an example use-case. More information about data, configuration and installation instructions can be found in the [System setup](https://ewatercycle.readthedocs.io/en/latest/system_setup.html) in the eWaterCycle documentation."
   ]
  },
  {
   "cell_type": "code",
   "execution_count": 1,
   "id": "de23e838-d779-4dad-a2e8-8707ef64f17d",
   "metadata": {},
   "outputs": [],
   "source": [
    "import warnings\n",
    "\n",
    "warnings.filterwarnings(\"ignore\", category=UserWarning)"
   ]
  },
  {
   "cell_type": "code",
   "execution_count": 2,
   "id": "ec98d58f-b46f-48c3-a834-7232e4694747",
   "metadata": {},
   "outputs": [
    {
     "name": "stderr",
     "output_type": "stream",
     "text": [
      "hwloc/linux: Ignoring PCI device with non-16bit domain.\n",
      "Pass --enable-32bits-pci-domain to configure to support such devices\n",
      "(warning: it would break the library ABI, don't enable unless really needed).\n"
     ]
    }
   ],
   "source": [
    "import pandas as pd\n",
    "from rich import print\n",
    "\n",
    "import ewatercycle.forcing\n",
    "import ewatercycle.models"
   ]
  },
  {
   "cell_type": "markdown",
   "id": "dc3fc23b-7348-4653-9b13-b167d95de63b",
   "metadata": {},
   "source": [
    "## Load forcing data"
   ]
  },
  {
   "cell_type": "markdown",
   "id": "69e05c2a-7523-4430-8f59-8f3cda151126",
   "metadata": {},
   "source": [
    "To download the example forcing file `BMI_testcase_m01_BuffaloRiver_TN_USA.mat`, see this [instruction](https://ewatercycle.readthedocs.io/en/latest/system_setup.html#download-example-forcing)."
   ]
  },
  {
   "cell_type": "code",
   "execution_count": 3,
   "id": "13fa0a78",
   "metadata": {},
   "outputs": [
    {
     "data": {
      "text/html": [
       "<pre style=\"white-space:pre;overflow-x:auto;line-height:normal;font-family:Menlo,'DejaVu Sans Mono',consolas,'Courier New',monospace\"><span style=\"color: #800080; text-decoration-color: #800080; font-weight: bold\">MarrmotForcing</span><span style=\"font-weight: bold\">(</span>\n",
       "    <span style=\"color: #808000; text-decoration-color: #808000\">start_time</span>=<span style=\"color: #008000; text-decoration-color: #008000\">'1989-01-01T00:00:00Z'</span>,\n",
       "    <span style=\"color: #808000; text-decoration-color: #808000\">end_time</span>=<span style=\"color: #008000; text-decoration-color: #008000\">'1992-12-31T00:00:00Z'</span>,\n",
       "    <span style=\"color: #808000; text-decoration-color: #808000\">directory</span>=<span style=\"color: #800080; text-decoration-color: #800080; font-weight: bold\">PosixPath</span><span style=\"font-weight: bold\">(</span><span style=\"color: #008000; text-decoration-color: #008000\">'/home/bart/git/ewatercycle-marrmot/docs'</span><span style=\"font-weight: bold\">)</span>,\n",
       "    <span style=\"color: #808000; text-decoration-color: #808000\">shape</span>=<span style=\"color: #800080; text-decoration-color: #800080; font-style: italic\">None</span>,\n",
       "    <span style=\"color: #808000; text-decoration-color: #808000\">forcing_file</span>=<span style=\"color: #008000; text-decoration-color: #008000\">'BMI_testcase_m01_BuffaloRiver_TN_USA.mat'</span>\n",
       "<span style=\"font-weight: bold\">)</span>\n",
       "</pre>\n"
      ],
      "text/plain": [
       "\u001b[1;35mMarrmotForcing\u001b[0m\u001b[1m(\u001b[0m\n",
       "    \u001b[33mstart_time\u001b[0m=\u001b[32m'1989-01-01T00:00:00Z'\u001b[0m,\n",
       "    \u001b[33mend_time\u001b[0m=\u001b[32m'1992-12-31T00:00:00Z'\u001b[0m,\n",
       "    \u001b[33mdirectory\u001b[0m=\u001b[1;35mPosixPath\u001b[0m\u001b[1m(\u001b[0m\u001b[32m'/home/bart/git/ewatercycle-marrmot/docs'\u001b[0m\u001b[1m)\u001b[0m,\n",
       "    \u001b[33mshape\u001b[0m=\u001b[3;35mNone\u001b[0m,\n",
       "    \u001b[33mforcing_file\u001b[0m=\u001b[32m'BMI_testcase_m01_BuffaloRiver_TN_USA.mat'\u001b[0m\n",
       "\u001b[1m)\u001b[0m\n"
      ]
     },
     "metadata": {},
     "output_type": "display_data"
    }
   ],
   "source": [
    "forcing = ewatercycle.forcing.sources[\"MarrmotForcing\"](\n",
    "    directory=\".\",\n",
    "    start_time=\"1989-01-01T00:00:00Z\",\n",
    "    end_time=\"1992-12-31T00:00:00Z\",\n",
    "    forcing_file=\"BMI_testcase_m01_BuffaloRiver_TN_USA.mat\",\n",
    ")\n",
    "print(forcing)"
   ]
  },
  {
   "cell_type": "markdown",
   "id": "64ab0b47-8427-49b0-b538-880df355fe9a",
   "metadata": {},
   "source": [
    "## Set up the model"
   ]
  },
  {
   "cell_type": "markdown",
   "id": "d878032b-b5e9-4efd-8864-6cbaeb2283fa",
   "metadata": {},
   "source": [
    "To create the model object, we provide it with the forcing object:"
   ]
  },
  {
   "cell_type": "code",
   "execution_count": 4,
   "id": "a23331dc",
   "metadata": {},
   "outputs": [
    {
     "data": {
      "text/html": [
       "<pre style=\"white-space:pre;overflow-x:auto;line-height:normal;font-family:Menlo,'DejaVu Sans Mono',consolas,'Courier New',monospace\"><span style=\"color: #800080; text-decoration-color: #800080; font-weight: bold\">MarrmotM01</span><span style=\"font-weight: bold\">(</span>\n",
       "    <span style=\"color: #808000; text-decoration-color: #808000\">parameter_set</span>=<span style=\"color: #800080; text-decoration-color: #800080; font-style: italic\">None</span>,\n",
       "    <span style=\"color: #808000; text-decoration-color: #808000\">forcing</span>=<span style=\"color: #800080; text-decoration-color: #800080; font-weight: bold\">MarrmotForcing</span><span style=\"font-weight: bold\">(</span>\n",
       "        <span style=\"color: #808000; text-decoration-color: #808000\">start_time</span>=<span style=\"color: #008000; text-decoration-color: #008000\">'1989-01-01T00:00:00Z'</span>,\n",
       "        <span style=\"color: #808000; text-decoration-color: #808000\">end_time</span>=<span style=\"color: #008000; text-decoration-color: #008000\">'1992-12-31T00:00:00Z'</span>,\n",
       "        <span style=\"color: #808000; text-decoration-color: #808000\">directory</span>=<span style=\"color: #800080; text-decoration-color: #800080; font-weight: bold\">PosixPath</span><span style=\"font-weight: bold\">(</span><span style=\"color: #008000; text-decoration-color: #008000\">'/home/bart/git/ewatercycle-marrmot/docs'</span><span style=\"font-weight: bold\">)</span>,\n",
       "        <span style=\"color: #808000; text-decoration-color: #808000\">shape</span>=<span style=\"color: #800080; text-decoration-color: #800080; font-style: italic\">None</span>,\n",
       "        <span style=\"color: #808000; text-decoration-color: #808000\">forcing_file</span>=<span style=\"color: #008000; text-decoration-color: #008000\">'BMI_testcase_m01_BuffaloRiver_TN_USA.mat'</span>\n",
       "    <span style=\"font-weight: bold\">)</span>\n",
       "<span style=\"font-weight: bold\">)</span>\n",
       "</pre>\n"
      ],
      "text/plain": [
       "\u001b[1;35mMarrmotM01\u001b[0m\u001b[1m(\u001b[0m\n",
       "    \u001b[33mparameter_set\u001b[0m=\u001b[3;35mNone\u001b[0m,\n",
       "    \u001b[33mforcing\u001b[0m=\u001b[1;35mMarrmotForcing\u001b[0m\u001b[1m(\u001b[0m\n",
       "        \u001b[33mstart_time\u001b[0m=\u001b[32m'1989-01-01T00:00:00Z'\u001b[0m,\n",
       "        \u001b[33mend_time\u001b[0m=\u001b[32m'1992-12-31T00:00:00Z'\u001b[0m,\n",
       "        \u001b[33mdirectory\u001b[0m=\u001b[1;35mPosixPath\u001b[0m\u001b[1m(\u001b[0m\u001b[32m'/home/bart/git/ewatercycle-marrmot/docs'\u001b[0m\u001b[1m)\u001b[0m,\n",
       "        \u001b[33mshape\u001b[0m=\u001b[3;35mNone\u001b[0m,\n",
       "        \u001b[33mforcing_file\u001b[0m=\u001b[32m'BMI_testcase_m01_BuffaloRiver_TN_USA.mat'\u001b[0m\n",
       "    \u001b[1m)\u001b[0m\n",
       "\u001b[1m)\u001b[0m\n"
      ]
     },
     "metadata": {},
     "output_type": "display_data"
    }
   ],
   "source": [
    "model = ewatercycle.models.MarrmotM01(forcing=forcing)\n",
    "print(model)"
   ]
  },
  {
   "cell_type": "markdown",
   "metadata": {},
   "source": [
    "The model also has a version. This version is retrieved from the BMI container image.\n",
    "\n",
    "To run a different version of the model, you can specify the container image:\n",
    "```py\n",
    "from ewatercycle.container import ContainerImage\n",
    "\n",
    "ewatercycle.models.MarrmotM01(\n",
    "    forcing=forcing,\n",
    "    bmi_image=ContainerImage(\"ewatercycle/marrmot-grpc4bmi:2020.11\")\n",
    ")\n",
    "```\n",
    "\n",
    "To view the model's version, do:"
   ]
  },
  {
   "cell_type": "code",
   "execution_count": 5,
   "metadata": {},
   "outputs": [
    {
     "data": {
      "text/plain": [
       "'2020.11'"
      ]
     },
     "execution_count": 5,
     "metadata": {},
     "output_type": "execute_result"
    }
   ],
   "source": [
    "model.version"
   ]
  },
  {
   "cell_type": "markdown",
   "metadata": {},
   "source": [
    "The model's parameters can be accessed using the .parameters property:"
   ]
  },
  {
   "cell_type": "code",
   "execution_count": 6,
   "id": "1304fc91",
   "metadata": {},
   "outputs": [
    {
     "data": {
      "text/html": [
       "<pre style=\"white-space:pre;overflow-x:auto;line-height:normal;font-family:Menlo,'DejaVu Sans Mono',consolas,'Courier New',monospace\"><span style=\"color: #800080; text-decoration-color: #800080; font-weight: bold\">dict_items</span><span style=\"font-weight: bold\">([(</span><span style=\"color: #008000; text-decoration-color: #008000\">'maximum_soil_moisture_storage'</span>, <span style=\"color: #800080; text-decoration-color: #800080; font-weight: bold\">array</span><span style=\"font-weight: bold\">([</span><span style=\"color: #008080; text-decoration-color: #008080; font-weight: bold\">10</span>.<span style=\"font-weight: bold\">]))</span>, <span style=\"font-weight: bold\">(</span><span style=\"color: #008000; text-decoration-color: #008000\">'initial_soil_moisture_storage'</span>, <span style=\"color: #800080; text-decoration-color: #800080; font-weight: bold\">array</span><span style=\"font-weight: bold\">([</span><span style=\"color: #008080; text-decoration-color: #008080; font-weight: bold\">5</span>.<span style=\"font-weight: bold\">]))</span>, \n",
       "<span style=\"font-weight: bold\">(</span><span style=\"color: #008000; text-decoration-color: #008000\">'solver'</span>, <span style=\"color: #800080; text-decoration-color: #800080; font-weight: bold\">Solver</span><span style=\"font-weight: bold\">(</span><span style=\"color: #808000; text-decoration-color: #808000\">name</span>=<span style=\"color: #008000; text-decoration-color: #008000\">'createOdeApprox_IE'</span>, <span style=\"color: #808000; text-decoration-color: #808000\">resnorm_tolerance</span>=<span style=\"color: #800080; text-decoration-color: #800080; font-weight: bold\">array</span><span style=\"font-weight: bold\">([</span><span style=\"color: #008080; text-decoration-color: #008080; font-weight: bold\">0.1</span><span style=\"font-weight: bold\">])</span>, <span style=\"color: #808000; text-decoration-color: #808000\">resnorm_maxiter</span>=<span style=\"color: #800080; text-decoration-color: #800080; font-weight: bold\">array</span><span style=\"font-weight: bold\">([</span><span style=\"color: #008080; text-decoration-color: #008080; font-weight: bold\">6</span>.<span style=\"font-weight: bold\">])))</span>, <span style=\"font-weight: bold\">(</span><span style=\"color: #008000; text-decoration-color: #008000\">'start</span>\n",
       "<span style=\"color: #008000; text-decoration-color: #008000\">time'</span>, <span style=\"color: #008000; text-decoration-color: #008000\">'1989-01-01T00:00:00Z'</span><span style=\"font-weight: bold\">)</span>, <span style=\"font-weight: bold\">(</span><span style=\"color: #008000; text-decoration-color: #008000\">'end time'</span>, <span style=\"color: #008000; text-decoration-color: #008000\">'1992-12-31T00:00:00Z'</span><span style=\"font-weight: bold\">)])</span>\n",
       "</pre>\n"
      ],
      "text/plain": [
       "\u001b[1;35mdict_items\u001b[0m\u001b[1m(\u001b[0m\u001b[1m[\u001b[0m\u001b[1m(\u001b[0m\u001b[32m'maximum_soil_moisture_storage'\u001b[0m, \u001b[1;35marray\u001b[0m\u001b[1m(\u001b[0m\u001b[1m[\u001b[0m\u001b[1;36m10\u001b[0m.\u001b[1m]\u001b[0m\u001b[1m)\u001b[0m\u001b[1m)\u001b[0m, \u001b[1m(\u001b[0m\u001b[32m'initial_soil_moisture_storage'\u001b[0m, \u001b[1;35marray\u001b[0m\u001b[1m(\u001b[0m\u001b[1m[\u001b[0m\u001b[1;36m5\u001b[0m.\u001b[1m]\u001b[0m\u001b[1m)\u001b[0m\u001b[1m)\u001b[0m, \n",
       "\u001b[1m(\u001b[0m\u001b[32m'solver'\u001b[0m, \u001b[1;35mSolver\u001b[0m\u001b[1m(\u001b[0m\u001b[33mname\u001b[0m=\u001b[32m'createOdeApprox_IE'\u001b[0m, \u001b[33mresnorm_tolerance\u001b[0m=\u001b[1;35marray\u001b[0m\u001b[1m(\u001b[0m\u001b[1m[\u001b[0m\u001b[1;36m0.1\u001b[0m\u001b[1m]\u001b[0m\u001b[1m)\u001b[0m, \u001b[33mresnorm_maxiter\u001b[0m=\u001b[1;35marray\u001b[0m\u001b[1m(\u001b[0m\u001b[1m[\u001b[0m\u001b[1;36m6\u001b[0m.\u001b[1m]\u001b[0m\u001b[1m)\u001b[0m\u001b[1m)\u001b[0m\u001b[1m)\u001b[0m, \u001b[1m(\u001b[0m\u001b[32m'start\u001b[0m\n",
       "\u001b[32mtime'\u001b[0m, \u001b[32m'1989-01-01T00:00:00Z'\u001b[0m\u001b[1m)\u001b[0m, \u001b[1m(\u001b[0m\u001b[32m'end time'\u001b[0m, \u001b[32m'1992-12-31T00:00:00Z'\u001b[0m\u001b[1m)\u001b[0m\u001b[1m]\u001b[0m\u001b[1m)\u001b[0m\n"
      ]
     },
     "metadata": {},
     "output_type": "display_data"
    }
   ],
   "source": [
    "print(model.parameters)"
   ]
  },
  {
   "cell_type": "markdown",
   "id": "01074725-c35e-4c33-833a-c0c7b60b02de",
   "metadata": {},
   "source": [
    "Setup model with maximum soil moisture storage of 12.0 instead of 10.0 and an earlier end time, making total model time just 1 month."
   ]
  },
  {
   "cell_type": "code",
   "execution_count": 7,
   "id": "0203d607-b226-4e1a-91f0-9904ee20e80e",
   "metadata": {},
   "outputs": [
    {
     "data": {
      "text/html": [
       "<pre style=\"white-space:pre;overflow-x:auto;line-height:normal;font-family:Menlo,'DejaVu Sans Mono',consolas,'Courier New',monospace\"><span style=\"color: #800080; text-decoration-color: #800080\">/home/bart/git/ewatercycle-marrmot/docs/marrmotm01_20231129_093208/</span><span style=\"color: #ff00ff; text-decoration-color: #ff00ff\">marrmot-m01_config.mat</span>\n",
       "</pre>\n"
      ],
      "text/plain": [
       "\u001b[35m/home/bart/git/ewatercycle-marrmot/docs/marrmotm01_20231129_093208/\u001b[0m\u001b[95mmarrmot-m01_config.mat\u001b[0m\n"
      ]
     },
     "metadata": {},
     "output_type": "display_data"
    },
    {
     "data": {
      "text/html": [
       "<pre style=\"white-space:pre;overflow-x:auto;line-height:normal;font-family:Menlo,'DejaVu Sans Mono',consolas,'Courier New',monospace\"><span style=\"color: #800080; text-decoration-color: #800080\">/home/bart/git/ewatercycle-marrmot/docs/</span><span style=\"color: #ff00ff; text-decoration-color: #ff00ff\">marrmotm01_20231129_093208</span>\n",
       "</pre>\n"
      ],
      "text/plain": [
       "\u001b[35m/home/bart/git/ewatercycle-marrmot/docs/\u001b[0m\u001b[95mmarrmotm01_20231129_093208\u001b[0m\n"
      ]
     },
     "metadata": {},
     "output_type": "display_data"
    }
   ],
   "source": [
    "cfg_file, cfg_dir = model.setup(\n",
    "    maximum_soil_moisture_storage=12.0,\n",
    "    end_time=\"1989-02-01T00:00:00Z\",\n",
    ")\n",
    "print(cfg_file)\n",
    "print(cfg_dir)"
   ]
  },
  {
   "cell_type": "code",
   "execution_count": 8,
   "id": "3e0f3efc",
   "metadata": {},
   "outputs": [
    {
     "data": {
      "text/html": [
       "<pre style=\"white-space:pre;overflow-x:auto;line-height:normal;font-family:Menlo,'DejaVu Sans Mono',consolas,'Courier New',monospace\"><span style=\"color: #800080; text-decoration-color: #800080; font-weight: bold\">dict_items</span><span style=\"font-weight: bold\">([(</span><span style=\"color: #008000; text-decoration-color: #008000\">'maximum_soil_moisture_storage'</span>, <span style=\"color: #008080; text-decoration-color: #008080; font-weight: bold\">12.0</span><span style=\"font-weight: bold\">)</span>, <span style=\"font-weight: bold\">(</span><span style=\"color: #008000; text-decoration-color: #008000\">'initial_soil_moisture_storage'</span>, <span style=\"color: #800080; text-decoration-color: #800080; font-weight: bold\">array</span><span style=\"font-weight: bold\">([</span><span style=\"color: #008080; text-decoration-color: #008080; font-weight: bold\">5</span>.<span style=\"font-weight: bold\">]))</span>, <span style=\"font-weight: bold\">(</span><span style=\"color: #008000; text-decoration-color: #008000\">'solver'</span>, \n",
       "<span style=\"color: #800080; text-decoration-color: #800080; font-weight: bold\">Solver</span><span style=\"font-weight: bold\">(</span><span style=\"color: #808000; text-decoration-color: #808000\">name</span>=<span style=\"color: #008000; text-decoration-color: #008000\">'createOdeApprox_IE'</span>, <span style=\"color: #808000; text-decoration-color: #808000\">resnorm_tolerance</span>=<span style=\"color: #800080; text-decoration-color: #800080; font-weight: bold\">array</span><span style=\"font-weight: bold\">([</span><span style=\"color: #008080; text-decoration-color: #008080; font-weight: bold\">0.1</span><span style=\"font-weight: bold\">])</span>, <span style=\"color: #808000; text-decoration-color: #808000\">resnorm_maxiter</span>=<span style=\"color: #800080; text-decoration-color: #800080; font-weight: bold\">array</span><span style=\"font-weight: bold\">([</span><span style=\"color: #008080; text-decoration-color: #008080; font-weight: bold\">6</span>.<span style=\"font-weight: bold\">])))</span>, <span style=\"font-weight: bold\">(</span><span style=\"color: #008000; text-decoration-color: #008000\">'start time'</span>, \n",
       "<span style=\"color: #008000; text-decoration-color: #008000\">'1989-01-01T00:00:00Z'</span><span style=\"font-weight: bold\">)</span>, <span style=\"font-weight: bold\">(</span><span style=\"color: #008000; text-decoration-color: #008000\">'end time'</span>, <span style=\"color: #008000; text-decoration-color: #008000\">'1989-02-01T00:00:00Z'</span><span style=\"font-weight: bold\">)])</span>\n",
       "</pre>\n"
      ],
      "text/plain": [
       "\u001b[1;35mdict_items\u001b[0m\u001b[1m(\u001b[0m\u001b[1m[\u001b[0m\u001b[1m(\u001b[0m\u001b[32m'maximum_soil_moisture_storage'\u001b[0m, \u001b[1;36m12.0\u001b[0m\u001b[1m)\u001b[0m, \u001b[1m(\u001b[0m\u001b[32m'initial_soil_moisture_storage'\u001b[0m, \u001b[1;35marray\u001b[0m\u001b[1m(\u001b[0m\u001b[1m[\u001b[0m\u001b[1;36m5\u001b[0m.\u001b[1m]\u001b[0m\u001b[1m)\u001b[0m\u001b[1m)\u001b[0m, \u001b[1m(\u001b[0m\u001b[32m'solver'\u001b[0m, \n",
       "\u001b[1;35mSolver\u001b[0m\u001b[1m(\u001b[0m\u001b[33mname\u001b[0m=\u001b[32m'createOdeApprox_IE'\u001b[0m, \u001b[33mresnorm_tolerance\u001b[0m=\u001b[1;35marray\u001b[0m\u001b[1m(\u001b[0m\u001b[1m[\u001b[0m\u001b[1;36m0.1\u001b[0m\u001b[1m]\u001b[0m\u001b[1m)\u001b[0m, \u001b[33mresnorm_maxiter\u001b[0m=\u001b[1;35marray\u001b[0m\u001b[1m(\u001b[0m\u001b[1m[\u001b[0m\u001b[1;36m6\u001b[0m.\u001b[1m]\u001b[0m\u001b[1m)\u001b[0m\u001b[1m)\u001b[0m\u001b[1m)\u001b[0m, \u001b[1m(\u001b[0m\u001b[32m'start time'\u001b[0m, \n",
       "\u001b[32m'1989-01-01T00:00:00Z'\u001b[0m\u001b[1m)\u001b[0m, \u001b[1m(\u001b[0m\u001b[32m'end time'\u001b[0m, \u001b[32m'1989-02-01T00:00:00Z'\u001b[0m\u001b[1m)\u001b[0m\u001b[1m]\u001b[0m\u001b[1m)\u001b[0m\n"
      ]
     },
     "metadata": {},
     "output_type": "display_data"
    }
   ],
   "source": [
    "print(model.parameters)"
   ]
  },
  {
   "cell_type": "markdown",
   "id": "c97db27e-32c3-4168-9e1d-62b756955619",
   "metadata": {},
   "source": [
    "Initialize the model with the config file:"
   ]
  },
  {
   "cell_type": "code",
   "execution_count": 9,
   "id": "e7df84f4-2e21-46df-b4f9-5c8041f149bd",
   "metadata": {},
   "outputs": [],
   "source": [
    "model.initialize(cfg_file)"
   ]
  },
  {
   "cell_type": "markdown",
   "id": "22b46626-fce3-4e84-9dd0-0f464e842209",
   "metadata": {},
   "source": [
    "Get model variable names, only `flux_out_Q` is supported for now."
   ]
  },
  {
   "cell_type": "code",
   "execution_count": 10,
   "id": "85c9208b",
   "metadata": {},
   "outputs": [
    {
     "data": {
      "text/plain": [
       "('P',\n",
       " 'T',\n",
       " 'Ep',\n",
       " 'S(t)',\n",
       " 'par',\n",
       " 'sol_resnorm_tolerance',\n",
       " 'sol_resnorm_maxiter',\n",
       " 'flux_out_Q',\n",
       " 'flux_out_Ea',\n",
       " 'wb')"
      ]
     },
     "execution_count": 10,
     "metadata": {},
     "output_type": "execute_result"
    }
   ],
   "source": [
    "model.output_var_names"
   ]
  },
  {
   "cell_type": "markdown",
   "id": "6199e360-cfff-4938-872e-42153a1db726",
   "metadata": {},
   "source": [
    "## Run the model"
   ]
  },
  {
   "cell_type": "code",
   "execution_count": 11,
   "id": "5a4a1100-6525-4b40-b5e7-05704aa71183",
   "metadata": {},
   "outputs": [],
   "source": [
    "discharge = []\n",
    "time_range = []\n",
    "end_time = model.end_time\n",
    "\n",
    "while model.time < end_time:\n",
    "    model.update()\n",
    "    discharge.append(model.get_value(\"flux_out_Q\")[0])\n",
    "    time_range.append(model.time_as_datetime.date())"
   ]
  },
  {
   "cell_type": "markdown",
   "metadata": {},
   "source": [
    "When you are finished running the model, always do `.finalize()`. This will shut down the container, which otherwise keeps running:"
   ]
  },
  {
   "cell_type": "code",
   "execution_count": 12,
   "id": "4e1498cf",
   "metadata": {},
   "outputs": [],
   "source": [
    "model.finalize()"
   ]
  },
  {
   "cell_type": "markdown",
   "id": "daf1a497-d518-45a4-bbdb-13bba73e473d",
   "metadata": {},
   "source": [
    "## Inspect the results"
   ]
  },
  {
   "cell_type": "code",
   "execution_count": 13,
   "id": "54456afd-d988-4fd7-a35a-5b7272c55b3b",
   "metadata": {},
   "outputs": [],
   "source": [
    "simulated_discharge = pd.DataFrame(\n",
    "    {\"simulation\": discharge}, index=pd.to_datetime(time_range)\n",
    ")"
   ]
  },
  {
   "cell_type": "code",
   "execution_count": 14,
   "id": "f6981e3b-d323-4491-89a4-04503840182e",
   "metadata": {},
   "outputs": [
    {
     "data": {
      "text/plain": [
       "<Axes: >"
      ]
     },
     "execution_count": 14,
     "metadata": {},
     "output_type": "execute_result"
    },
    {
     "data": {
      "image/png": "[encoded data removed]",
      "text/plain": [
       "<Figure size 1200x800 with 1 Axes>"
      ]
     },
     "metadata": {},
     "output_type": "display_data"
    }
   ],
   "source": [
    "simulated_discharge.plot(figsize=(12, 8))"
   ]
  },
  {
   "cell_type": "code",
   "execution_count": null,
   "metadata": {},
   "outputs": [],
   "source": []
  }
 ],
 "metadata": {
  "kernelspec": {
   "display_name": "Python 3",
   "language": "python",
   "name": "python3"
  },
  "language_info": {
   "codemirror_mode": {
    "name": "ipython",
    "version": 3
   },
   "file_extension": ".py",
   "mimetype": "text/x-python",
   "name": "python",
   "nbconvert_exporter": "python",
   "pygments_lexer": "ipython3",
   "version": "3.10.0"
  }
 },
 "nbformat": 4,
 "nbformat_minor": 5
}

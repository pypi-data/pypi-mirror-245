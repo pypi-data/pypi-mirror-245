{
 "cells": [
  {
   "cell_type": "markdown",
   "id": "e147b561-54da-48dd-bce2-90da2f202391",
   "metadata": {},
   "source": [
    "![image](https://github.com/eWaterCycle/ewatercycle/raw/main/docs/examples/logo.png)"
   ]
  },
  {
   "cell_type": "markdown",
   "id": "f13bf080-845e-436c-b3fe-75ca37175a35",
   "metadata": {},
   "source": [
    "# Running MARRMoT M14 model using eWaterCycle package\n",
    "\n",
    "This notebooks shows how to run [MARRMoT](https://github.com/wknoben/MARRMoT) M14 model using an example use-case. More information about data, configuration and installation instructions can be found in the [System setup](https://ewatercycle.readthedocs.io/en/latest/system_setup.html) in the eWaterCycle documentation."
   ]
  },
  {
   "cell_type": "code",
   "execution_count": 1,
   "id": "eb98161f-337b-4db9-a174-74b47454da08",
   "metadata": {},
   "outputs": [],
   "source": [
    "import warnings\n",
    "\n",
    "warnings.filterwarnings(\"ignore\", category=UserWarning)"
   ]
  },
  {
   "cell_type": "code",
   "execution_count": 2,
   "id": "74e31edd-2caa-4c1c-bd93-779b2a353c2e",
   "metadata": {},
   "outputs": [
    {
     "name": "stderr",
     "output_type": "stream",
     "text": [
      "hwloc/linux: Ignoring PCI device with non-16bit domain.\n",
      "Pass --enable-32bits-pci-domain to configure to support such devices\n",
      "(warning: it would break the library ABI, don't enable unless really needed).\n"
     ]
    }
   ],
   "source": [
    "import pandas as pd\n",
    "from rich import print\n",
    "\n",
    "import ewatercycle.forcing\n",
    "import ewatercycle.models"
   ]
  },
  {
   "cell_type": "markdown",
   "id": "3cb657b3-595b-4147-941d-0ba1a724aeb0",
   "metadata": {},
   "source": [
    "## Load forcing data"
   ]
  },
  {
   "cell_type": "markdown",
   "id": "e00cbeef-d18f-42d5-9e9c-059c2fb65f08",
   "metadata": {},
   "source": [
    "To download the example forcing file `BMI_testcase_m01_BuffaloRiver_TN_USA.mat`, see this [instruction](https://ewatercycle.readthedocs.io/en/latest/system_setup.html#download-example-forcing)."
   ]
  },
  {
   "cell_type": "code",
   "execution_count": 3,
   "id": "c03cabb6-9cb3-4da3-ac96-732ba870d460",
   "metadata": {},
   "outputs": [
    {
     "data": {
      "text/html": [
       "<pre style=\"white-space:pre;overflow-x:auto;line-height:normal;font-family:Menlo,'DejaVu Sans Mono',consolas,'Courier New',monospace\"><span style=\"color: #800080; text-decoration-color: #800080; font-weight: bold\">MarrmotForcing</span><span style=\"font-weight: bold\">(</span>\n",
       "    <span style=\"color: #808000; text-decoration-color: #808000\">start_time</span>=<span style=\"color: #008000; text-decoration-color: #008000\">'1989-01-01T00:00:00Z'</span>,\n",
       "    <span style=\"color: #808000; text-decoration-color: #808000\">end_time</span>=<span style=\"color: #008000; text-decoration-color: #008000\">'1992-12-31T00:00:00Z'</span>,\n",
       "    <span style=\"color: #808000; text-decoration-color: #808000\">directory</span>=<span style=\"color: #800080; text-decoration-color: #800080; font-weight: bold\">PosixPath</span><span style=\"font-weight: bold\">(</span><span style=\"color: #008000; text-decoration-color: #008000\">'/home/bart/git/ewatercycle-marrmot/docs'</span><span style=\"font-weight: bold\">)</span>,\n",
       "    <span style=\"color: #808000; text-decoration-color: #808000\">shape</span>=<span style=\"color: #800080; text-decoration-color: #800080; font-style: italic\">None</span>,\n",
       "    <span style=\"color: #808000; text-decoration-color: #808000\">forcing_file</span>=<span style=\"color: #008000; text-decoration-color: #008000\">'BMI_testcase_m01_BuffaloRiver_TN_USA.mat'</span>\n",
       "<span style=\"font-weight: bold\">)</span>\n",
       "</pre>\n"
      ],
      "text/plain": [
       "\u001b[1;35mMarrmotForcing\u001b[0m\u001b[1m(\u001b[0m\n",
       "    \u001b[33mstart_time\u001b[0m=\u001b[32m'1989-01-01T00:00:00Z'\u001b[0m,\n",
       "    \u001b[33mend_time\u001b[0m=\u001b[32m'1992-12-31T00:00:00Z'\u001b[0m,\n",
       "    \u001b[33mdirectory\u001b[0m=\u001b[1;35mPosixPath\u001b[0m\u001b[1m(\u001b[0m\u001b[32m'/home/bart/git/ewatercycle-marrmot/docs'\u001b[0m\u001b[1m)\u001b[0m,\n",
       "    \u001b[33mshape\u001b[0m=\u001b[3;35mNone\u001b[0m,\n",
       "    \u001b[33mforcing_file\u001b[0m=\u001b[32m'BMI_testcase_m01_BuffaloRiver_TN_USA.mat'\u001b[0m\n",
       "\u001b[1m)\u001b[0m\n"
      ]
     },
     "metadata": {},
     "output_type": "display_data"
    }
   ],
   "source": [
    "forcing = ewatercycle.forcing.sources[\"MarrmotForcing\"](\n",
    "    directory=\".\",\n",
    "    start_time=\"1989-01-01T00:00:00Z\",\n",
    "    end_time=\"1992-12-31T00:00:00Z\",\n",
    "    forcing_file=\"BMI_testcase_m01_BuffaloRiver_TN_USA.mat\",\n",
    ")\n",
    "print(forcing)"
   ]
  },
  {
   "cell_type": "markdown",
   "id": "6c0ceb51-709f-4329-a08c-ece5d7793a4e",
   "metadata": {},
   "source": [
    "## Set up the model"
   ]
  },
  {
   "cell_type": "markdown",
   "id": "ced917f8-1366-46a8-b2ee-b1b0074aa0e2",
   "metadata": {},
   "source": [
    "To create the model object, we provide it with the forcing object:"
   ]
  },
  {
   "cell_type": "code",
   "execution_count": 4,
   "id": "a46d2892",
   "metadata": {},
   "outputs": [
    {
     "name": "stderr",
     "output_type": "stream",
     "text": [
      "WARNING:ewatercycle_marrmot.model:The length of parameters in forcing /home/bart/git/ewatercycle-marrmot/docs/BMI_testcase_m01_BuffaloRiver_TN_USA.mat does not match the length of M14 parameters that is seven.\n",
      "WARNING:ewatercycle_marrmot.model:The length of initial stores in forcing /home/bart/git/ewatercycle-marrmot/docs/BMI_testcase_m01_BuffaloRiver_TN_USA.mat does not match the length of M14 iniatial stores that is two.\n"
     ]
    },
    {
     "data": {
      "text/html": [
       "<pre style=\"white-space:pre;overflow-x:auto;line-height:normal;font-family:Menlo,'DejaVu Sans Mono',consolas,'Courier New',monospace\"><span style=\"color: #800080; text-decoration-color: #800080; font-weight: bold\">MarrmotM14</span><span style=\"font-weight: bold\">(</span>\n",
       "    <span style=\"color: #808000; text-decoration-color: #808000\">parameter_set</span>=<span style=\"color: #800080; text-decoration-color: #800080; font-style: italic\">None</span>,\n",
       "    <span style=\"color: #808000; text-decoration-color: #808000\">forcing</span>=<span style=\"color: #800080; text-decoration-color: #800080; font-weight: bold\">MarrmotForcing</span><span style=\"font-weight: bold\">(</span>\n",
       "        <span style=\"color: #808000; text-decoration-color: #808000\">start_time</span>=<span style=\"color: #008000; text-decoration-color: #008000\">'1989-01-01T00:00:00Z'</span>,\n",
       "        <span style=\"color: #808000; text-decoration-color: #808000\">end_time</span>=<span style=\"color: #008000; text-decoration-color: #008000\">'1992-12-31T00:00:00Z'</span>,\n",
       "        <span style=\"color: #808000; text-decoration-color: #808000\">directory</span>=<span style=\"color: #800080; text-decoration-color: #800080; font-weight: bold\">PosixPath</span><span style=\"font-weight: bold\">(</span><span style=\"color: #008000; text-decoration-color: #008000\">'/home/bart/git/ewatercycle-marrmot/docs'</span><span style=\"font-weight: bold\">)</span>,\n",
       "        <span style=\"color: #808000; text-decoration-color: #808000\">shape</span>=<span style=\"color: #800080; text-decoration-color: #800080; font-style: italic\">None</span>,\n",
       "        <span style=\"color: #808000; text-decoration-color: #808000\">forcing_file</span>=<span style=\"color: #008000; text-decoration-color: #008000\">'BMI_testcase_m01_BuffaloRiver_TN_USA.mat'</span>\n",
       "    <span style=\"font-weight: bold\">)</span>\n",
       "<span style=\"font-weight: bold\">)</span>\n",
       "</pre>\n"
      ],
      "text/plain": [
       "\u001b[1;35mMarrmotM14\u001b[0m\u001b[1m(\u001b[0m\n",
       "    \u001b[33mparameter_set\u001b[0m=\u001b[3;35mNone\u001b[0m,\n",
       "    \u001b[33mforcing\u001b[0m=\u001b[1;35mMarrmotForcing\u001b[0m\u001b[1m(\u001b[0m\n",
       "        \u001b[33mstart_time\u001b[0m=\u001b[32m'1989-01-01T00:00:00Z'\u001b[0m,\n",
       "        \u001b[33mend_time\u001b[0m=\u001b[32m'1992-12-31T00:00:00Z'\u001b[0m,\n",
       "        \u001b[33mdirectory\u001b[0m=\u001b[1;35mPosixPath\u001b[0m\u001b[1m(\u001b[0m\u001b[32m'/home/bart/git/ewatercycle-marrmot/docs'\u001b[0m\u001b[1m)\u001b[0m,\n",
       "        \u001b[33mshape\u001b[0m=\u001b[3;35mNone\u001b[0m,\n",
       "        \u001b[33mforcing_file\u001b[0m=\u001b[32m'BMI_testcase_m01_BuffaloRiver_TN_USA.mat'\u001b[0m\n",
       "    \u001b[1m)\u001b[0m\n",
       "\u001b[1m)\u001b[0m\n"
      ]
     },
     "metadata": {},
     "output_type": "display_data"
    }
   ],
   "source": [
    "model = ewatercycle.models.MarrmotM14(forcing=forcing)\n",
    "print(model)"
   ]
  },
  {
   "cell_type": "markdown",
   "metadata": {},
   "source": [
    "The model also has a version. This version is retrieved from the BMI container image.\n",
    "\n",
    "To run a different version of the model, you can specify the container image:\n",
    "```py\n",
    "from ewatercycle.container import ContainerImage\n",
    "\n",
    "ewatercycle.models.MarrmotM14(\n",
    "    forcing=forcing,\n",
    "    bmi_image=ContainerImage(\"ewatercycle/marrmot-grpc4bmi:2020.11\")\n",
    ")\n",
    "```\n",
    "\n",
    "To view the model's version, do:"
   ]
  },
  {
   "cell_type": "code",
   "execution_count": 5,
   "id": "c4bcdad8",
   "metadata": {},
   "outputs": [
    {
     "data": {
      "text/plain": [
       "'2020.11'"
      ]
     },
     "execution_count": 5,
     "metadata": {},
     "output_type": "execute_result"
    }
   ],
   "source": [
    "model.version"
   ]
  },
  {
   "cell_type": "markdown",
   "metadata": {},
   "source": [
    "The model's parameters can be accessed using the .parameters property:"
   ]
  },
  {
   "cell_type": "code",
   "execution_count": 6,
   "id": "4185acc3",
   "metadata": {},
   "outputs": [
    {
     "data": {
      "text/html": [
       "<pre style=\"white-space:pre;overflow-x:auto;line-height:normal;font-family:Menlo,'DejaVu Sans Mono',consolas,'Courier New',monospace\"><span style=\"color: #800080; text-decoration-color: #800080; font-weight: bold\">dict_items</span><span style=\"font-weight: bold\">([(</span><span style=\"color: #008000; text-decoration-color: #008000\">'maximum_soil_moisture_storage'</span>, <span style=\"color: #008080; text-decoration-color: #008080; font-weight: bold\">1000.0</span><span style=\"font-weight: bold\">)</span>, <span style=\"font-weight: bold\">(</span><span style=\"color: #008000; text-decoration-color: #008000\">'threshold_flow_generation_evap_change'</span>, <span style=\"color: #008080; text-decoration-color: #008080; font-weight: bold\">0.5</span><span style=\"font-weight: bold\">)</span>, \n",
       "<span style=\"font-weight: bold\">(</span><span style=\"color: #008000; text-decoration-color: #008000\">'leakage_saturated_zone_flow_coefficient'</span>, <span style=\"color: #008080; text-decoration-color: #008080; font-weight: bold\">0.5</span><span style=\"font-weight: bold\">)</span>, <span style=\"font-weight: bold\">(</span><span style=\"color: #008000; text-decoration-color: #008000\">'zero_deficit_base_flow_speed'</span>, <span style=\"color: #008080; text-decoration-color: #008080; font-weight: bold\">100.0</span><span style=\"font-weight: bold\">)</span>, <span style=\"font-weight: bold\">(</span><span style=\"color: #008000; text-decoration-color: #008000\">'baseflow_coefficient'</span>,\n",
       "<span style=\"color: #008080; text-decoration-color: #008080; font-weight: bold\">0.5</span><span style=\"font-weight: bold\">)</span>, <span style=\"font-weight: bold\">(</span><span style=\"color: #008000; text-decoration-color: #008000\">'gamma_distribution_chi_parameter'</span>, <span style=\"color: #008080; text-decoration-color: #008080; font-weight: bold\">4.25</span><span style=\"font-weight: bold\">)</span>, <span style=\"font-weight: bold\">(</span><span style=\"color: #008000; text-decoration-color: #008000\">'gamma_distribution_phi_parameter'</span>, <span style=\"color: #008080; text-decoration-color: #008080; font-weight: bold\">2.5</span><span style=\"font-weight: bold\">)</span>, \n",
       "<span style=\"font-weight: bold\">(</span><span style=\"color: #008000; text-decoration-color: #008000\">'initial_upper_zone_storage'</span>, <span style=\"color: #008080; text-decoration-color: #008080; font-weight: bold\">900.0</span><span style=\"font-weight: bold\">)</span>, <span style=\"font-weight: bold\">(</span><span style=\"color: #008000; text-decoration-color: #008000\">'initial_saturated_zone_storage'</span>, <span style=\"color: #008080; text-decoration-color: #008080; font-weight: bold\">900.0</span><span style=\"font-weight: bold\">)</span>, <span style=\"font-weight: bold\">(</span><span style=\"color: #008000; text-decoration-color: #008000\">'solver'</span>, \n",
       "<span style=\"color: #800080; text-decoration-color: #800080; font-weight: bold\">Solver</span><span style=\"font-weight: bold\">(</span><span style=\"color: #808000; text-decoration-color: #808000\">name</span>=<span style=\"color: #008000; text-decoration-color: #008000\">'createOdeApprox_IE'</span>, <span style=\"color: #808000; text-decoration-color: #808000\">resnorm_tolerance</span>=<span style=\"color: #800080; text-decoration-color: #800080; font-weight: bold\">array</span><span style=\"font-weight: bold\">([</span><span style=\"color: #008080; text-decoration-color: #008080; font-weight: bold\">0.1</span><span style=\"font-weight: bold\">])</span>, <span style=\"color: #808000; text-decoration-color: #808000\">resnorm_maxiter</span>=<span style=\"color: #800080; text-decoration-color: #800080; font-weight: bold\">array</span><span style=\"font-weight: bold\">([</span><span style=\"color: #008080; text-decoration-color: #008080; font-weight: bold\">6</span>.<span style=\"font-weight: bold\">])))</span>, <span style=\"font-weight: bold\">(</span><span style=\"color: #008000; text-decoration-color: #008000\">'start time'</span>, \n",
       "<span style=\"color: #008000; text-decoration-color: #008000\">'1989-01-01T00:00:00Z'</span><span style=\"font-weight: bold\">)</span>, <span style=\"font-weight: bold\">(</span><span style=\"color: #008000; text-decoration-color: #008000\">'end time'</span>, <span style=\"color: #008000; text-decoration-color: #008000\">'1992-12-31T00:00:00Z'</span><span style=\"font-weight: bold\">)])</span>\n",
       "</pre>\n"
      ],
      "text/plain": [
       "\u001b[1;35mdict_items\u001b[0m\u001b[1m(\u001b[0m\u001b[1m[\u001b[0m\u001b[1m(\u001b[0m\u001b[32m'maximum_soil_moisture_storage'\u001b[0m, \u001b[1;36m1000.0\u001b[0m\u001b[1m)\u001b[0m, \u001b[1m(\u001b[0m\u001b[32m'threshold_flow_generation_evap_change'\u001b[0m, \u001b[1;36m0.5\u001b[0m\u001b[1m)\u001b[0m, \n",
       "\u001b[1m(\u001b[0m\u001b[32m'leakage_saturated_zone_flow_coefficient'\u001b[0m, \u001b[1;36m0.5\u001b[0m\u001b[1m)\u001b[0m, \u001b[1m(\u001b[0m\u001b[32m'zero_deficit_base_flow_speed'\u001b[0m, \u001b[1;36m100.0\u001b[0m\u001b[1m)\u001b[0m, \u001b[1m(\u001b[0m\u001b[32m'baseflow_coefficient'\u001b[0m,\n",
       "\u001b[1;36m0.5\u001b[0m\u001b[1m)\u001b[0m, \u001b[1m(\u001b[0m\u001b[32m'gamma_distribution_chi_parameter'\u001b[0m, \u001b[1;36m4.25\u001b[0m\u001b[1m)\u001b[0m, \u001b[1m(\u001b[0m\u001b[32m'gamma_distribution_phi_parameter'\u001b[0m, \u001b[1;36m2.5\u001b[0m\u001b[1m)\u001b[0m, \n",
       "\u001b[1m(\u001b[0m\u001b[32m'initial_upper_zone_storage'\u001b[0m, \u001b[1;36m900.0\u001b[0m\u001b[1m)\u001b[0m, \u001b[1m(\u001b[0m\u001b[32m'initial_saturated_zone_storage'\u001b[0m, \u001b[1;36m900.0\u001b[0m\u001b[1m)\u001b[0m, \u001b[1m(\u001b[0m\u001b[32m'solver'\u001b[0m, \n",
       "\u001b[1;35mSolver\u001b[0m\u001b[1m(\u001b[0m\u001b[33mname\u001b[0m=\u001b[32m'createOdeApprox_IE'\u001b[0m, \u001b[33mresnorm_tolerance\u001b[0m=\u001b[1;35marray\u001b[0m\u001b[1m(\u001b[0m\u001b[1m[\u001b[0m\u001b[1;36m0.1\u001b[0m\u001b[1m]\u001b[0m\u001b[1m)\u001b[0m, \u001b[33mresnorm_maxiter\u001b[0m=\u001b[1;35marray\u001b[0m\u001b[1m(\u001b[0m\u001b[1m[\u001b[0m\u001b[1;36m6\u001b[0m.\u001b[1m]\u001b[0m\u001b[1m)\u001b[0m\u001b[1m)\u001b[0m\u001b[1m)\u001b[0m, \u001b[1m(\u001b[0m\u001b[32m'start time'\u001b[0m, \n",
       "\u001b[32m'1989-01-01T00:00:00Z'\u001b[0m\u001b[1m)\u001b[0m, \u001b[1m(\u001b[0m\u001b[32m'end time'\u001b[0m, \u001b[32m'1992-12-31T00:00:00Z'\u001b[0m\u001b[1m)\u001b[0m\u001b[1m]\u001b[0m\u001b[1m)\u001b[0m\n"
      ]
     },
     "metadata": {},
     "output_type": "display_data"
    }
   ],
   "source": [
    "print(model.parameters)"
   ]
  },
  {
   "cell_type": "markdown",
   "id": "52021da8-cf13-4bc4-8cfb-2d696aabb7db",
   "metadata": {},
   "source": [
    "Setup model with maximum soil moisture storage of 12.0 instead of 10.0 and an earlier end time, making total model time just 1 month."
   ]
  },
  {
   "cell_type": "code",
   "execution_count": 7,
   "id": "96106fc9-c0f2-4b36-ab91-f7d0475ed864",
   "metadata": {},
   "outputs": [
    {
     "data": {
      "text/html": [
       "<pre style=\"white-space:pre;overflow-x:auto;line-height:normal;font-family:Menlo,'DejaVu Sans Mono',consolas,'Courier New',monospace\"><span style=\"color: #800080; text-decoration-color: #800080\">/home/bart/git/ewatercycle-marrmot/docs/marrmotm14_20231129_093652/</span><span style=\"color: #ff00ff; text-decoration-color: #ff00ff\">marrmot-m14_config.mat</span>\n",
       "</pre>\n"
      ],
      "text/plain": [
       "\u001b[35m/home/bart/git/ewatercycle-marrmot/docs/marrmotm14_20231129_093652/\u001b[0m\u001b[95mmarrmot-m14_config.mat\u001b[0m\n"
      ]
     },
     "metadata": {},
     "output_type": "display_data"
    },
    {
     "data": {
      "text/html": [
       "<pre style=\"white-space:pre;overflow-x:auto;line-height:normal;font-family:Menlo,'DejaVu Sans Mono',consolas,'Courier New',monospace\"><span style=\"color: #800080; text-decoration-color: #800080\">/home/bart/git/ewatercycle-marrmot/docs/</span><span style=\"color: #ff00ff; text-decoration-color: #ff00ff\">marrmotm14_20231129_093652</span>\n",
       "</pre>\n"
      ],
      "text/plain": [
       "\u001b[35m/home/bart/git/ewatercycle-marrmot/docs/\u001b[0m\u001b[95mmarrmotm14_20231129_093652\u001b[0m\n"
      ]
     },
     "metadata": {},
     "output_type": "display_data"
    }
   ],
   "source": [
    "cfg_file, cfg_dir = model.setup(\n",
    "    maximum_soil_moisture_storage=12.0,\n",
    "    end_time=\"1989-02-01T00:00:00Z\",\n",
    ")\n",
    "print(cfg_file)\n",
    "print(cfg_dir)"
   ]
  },
  {
   "cell_type": "code",
   "execution_count": 8,
   "id": "925fd7bd",
   "metadata": {},
   "outputs": [
    {
     "data": {
      "text/html": [
       "<pre style=\"white-space:pre;overflow-x:auto;line-height:normal;font-family:Menlo,'DejaVu Sans Mono',consolas,'Courier New',monospace\"><span style=\"color: #800080; text-decoration-color: #800080; font-weight: bold\">dict_items</span><span style=\"font-weight: bold\">([(</span><span style=\"color: #008000; text-decoration-color: #008000\">'maximum_soil_moisture_storage'</span>, <span style=\"color: #008080; text-decoration-color: #008080; font-weight: bold\">12.0</span><span style=\"font-weight: bold\">)</span>, <span style=\"font-weight: bold\">(</span><span style=\"color: #008000; text-decoration-color: #008000\">'threshold_flow_generation_evap_change'</span>, <span style=\"color: #008080; text-decoration-color: #008080; font-weight: bold\">0.5</span><span style=\"font-weight: bold\">)</span>, \n",
       "<span style=\"font-weight: bold\">(</span><span style=\"color: #008000; text-decoration-color: #008000\">'leakage_saturated_zone_flow_coefficient'</span>, <span style=\"color: #008080; text-decoration-color: #008080; font-weight: bold\">0.5</span><span style=\"font-weight: bold\">)</span>, <span style=\"font-weight: bold\">(</span><span style=\"color: #008000; text-decoration-color: #008000\">'zero_deficit_base_flow_speed'</span>, <span style=\"color: #008080; text-decoration-color: #008080; font-weight: bold\">100.0</span><span style=\"font-weight: bold\">)</span>, <span style=\"font-weight: bold\">(</span><span style=\"color: #008000; text-decoration-color: #008000\">'baseflow_coefficient'</span>,\n",
       "<span style=\"color: #008080; text-decoration-color: #008080; font-weight: bold\">0.5</span><span style=\"font-weight: bold\">)</span>, <span style=\"font-weight: bold\">(</span><span style=\"color: #008000; text-decoration-color: #008000\">'gamma_distribution_chi_parameter'</span>, <span style=\"color: #008080; text-decoration-color: #008080; font-weight: bold\">4.25</span><span style=\"font-weight: bold\">)</span>, <span style=\"font-weight: bold\">(</span><span style=\"color: #008000; text-decoration-color: #008000\">'gamma_distribution_phi_parameter'</span>, <span style=\"color: #008080; text-decoration-color: #008080; font-weight: bold\">2.5</span><span style=\"font-weight: bold\">)</span>, \n",
       "<span style=\"font-weight: bold\">(</span><span style=\"color: #008000; text-decoration-color: #008000\">'initial_upper_zone_storage'</span>, <span style=\"color: #008080; text-decoration-color: #008080; font-weight: bold\">900.0</span><span style=\"font-weight: bold\">)</span>, <span style=\"font-weight: bold\">(</span><span style=\"color: #008000; text-decoration-color: #008000\">'initial_saturated_zone_storage'</span>, <span style=\"color: #008080; text-decoration-color: #008080; font-weight: bold\">900.0</span><span style=\"font-weight: bold\">)</span>, <span style=\"font-weight: bold\">(</span><span style=\"color: #008000; text-decoration-color: #008000\">'solver'</span>, \n",
       "<span style=\"color: #800080; text-decoration-color: #800080; font-weight: bold\">Solver</span><span style=\"font-weight: bold\">(</span><span style=\"color: #808000; text-decoration-color: #808000\">name</span>=<span style=\"color: #008000; text-decoration-color: #008000\">'createOdeApprox_IE'</span>, <span style=\"color: #808000; text-decoration-color: #808000\">resnorm_tolerance</span>=<span style=\"color: #800080; text-decoration-color: #800080; font-weight: bold\">array</span><span style=\"font-weight: bold\">([</span><span style=\"color: #008080; text-decoration-color: #008080; font-weight: bold\">0.1</span><span style=\"font-weight: bold\">])</span>, <span style=\"color: #808000; text-decoration-color: #808000\">resnorm_maxiter</span>=<span style=\"color: #800080; text-decoration-color: #800080; font-weight: bold\">array</span><span style=\"font-weight: bold\">([</span><span style=\"color: #008080; text-decoration-color: #008080; font-weight: bold\">6</span>.<span style=\"font-weight: bold\">])))</span>, <span style=\"font-weight: bold\">(</span><span style=\"color: #008000; text-decoration-color: #008000\">'start time'</span>, \n",
       "<span style=\"color: #008000; text-decoration-color: #008000\">'1989-01-01T00:00:00Z'</span><span style=\"font-weight: bold\">)</span>, <span style=\"font-weight: bold\">(</span><span style=\"color: #008000; text-decoration-color: #008000\">'end time'</span>, <span style=\"color: #008000; text-decoration-color: #008000\">'1989-02-01T00:00:00Z'</span><span style=\"font-weight: bold\">)])</span>\n",
       "</pre>\n"
      ],
      "text/plain": [
       "\u001b[1;35mdict_items\u001b[0m\u001b[1m(\u001b[0m\u001b[1m[\u001b[0m\u001b[1m(\u001b[0m\u001b[32m'maximum_soil_moisture_storage'\u001b[0m, \u001b[1;36m12.0\u001b[0m\u001b[1m)\u001b[0m, \u001b[1m(\u001b[0m\u001b[32m'threshold_flow_generation_evap_change'\u001b[0m, \u001b[1;36m0.5\u001b[0m\u001b[1m)\u001b[0m, \n",
       "\u001b[1m(\u001b[0m\u001b[32m'leakage_saturated_zone_flow_coefficient'\u001b[0m, \u001b[1;36m0.5\u001b[0m\u001b[1m)\u001b[0m, \u001b[1m(\u001b[0m\u001b[32m'zero_deficit_base_flow_speed'\u001b[0m, \u001b[1;36m100.0\u001b[0m\u001b[1m)\u001b[0m, \u001b[1m(\u001b[0m\u001b[32m'baseflow_coefficient'\u001b[0m,\n",
       "\u001b[1;36m0.5\u001b[0m\u001b[1m)\u001b[0m, \u001b[1m(\u001b[0m\u001b[32m'gamma_distribution_chi_parameter'\u001b[0m, \u001b[1;36m4.25\u001b[0m\u001b[1m)\u001b[0m, \u001b[1m(\u001b[0m\u001b[32m'gamma_distribution_phi_parameter'\u001b[0m, \u001b[1;36m2.5\u001b[0m\u001b[1m)\u001b[0m, \n",
       "\u001b[1m(\u001b[0m\u001b[32m'initial_upper_zone_storage'\u001b[0m, \u001b[1;36m900.0\u001b[0m\u001b[1m)\u001b[0m, \u001b[1m(\u001b[0m\u001b[32m'initial_saturated_zone_storage'\u001b[0m, \u001b[1;36m900.0\u001b[0m\u001b[1m)\u001b[0m, \u001b[1m(\u001b[0m\u001b[32m'solver'\u001b[0m, \n",
       "\u001b[1;35mSolver\u001b[0m\u001b[1m(\u001b[0m\u001b[33mname\u001b[0m=\u001b[32m'createOdeApprox_IE'\u001b[0m, \u001b[33mresnorm_tolerance\u001b[0m=\u001b[1;35marray\u001b[0m\u001b[1m(\u001b[0m\u001b[1m[\u001b[0m\u001b[1;36m0.1\u001b[0m\u001b[1m]\u001b[0m\u001b[1m)\u001b[0m, \u001b[33mresnorm_maxiter\u001b[0m=\u001b[1;35marray\u001b[0m\u001b[1m(\u001b[0m\u001b[1m[\u001b[0m\u001b[1;36m6\u001b[0m.\u001b[1m]\u001b[0m\u001b[1m)\u001b[0m\u001b[1m)\u001b[0m\u001b[1m)\u001b[0m, \u001b[1m(\u001b[0m\u001b[32m'start time'\u001b[0m, \n",
       "\u001b[32m'1989-01-01T00:00:00Z'\u001b[0m\u001b[1m)\u001b[0m, \u001b[1m(\u001b[0m\u001b[32m'end time'\u001b[0m, \u001b[32m'1989-02-01T00:00:00Z'\u001b[0m\u001b[1m)\u001b[0m\u001b[1m]\u001b[0m\u001b[1m)\u001b[0m\n"
      ]
     },
     "metadata": {},
     "output_type": "display_data"
    }
   ],
   "source": [
    "print(model.parameters)"
   ]
  },
  {
   "cell_type": "markdown",
   "id": "923536ae-b089-4b43-935b-71ecb074aa0d",
   "metadata": {},
   "source": [
    "Initialize the model with the config file:"
   ]
  },
  {
   "cell_type": "code",
   "execution_count": 9,
   "id": "f82a877b-e0b2-428a-a523-f04c560176de",
   "metadata": {},
   "outputs": [],
   "source": [
    "model.initialize(cfg_file)"
   ]
  },
  {
   "cell_type": "markdown",
   "id": "0fd020b6-816f-4a99-b969-2616ab41ef13",
   "metadata": {},
   "source": [
    "Get model variable names, only `flux_out_Q` is supported for now."
   ]
  },
  {
   "cell_type": "code",
   "execution_count": 10,
   "id": "516620d3",
   "metadata": {},
   "outputs": [
    {
     "data": {
      "text/plain": [
       "('P',\n",
       " 'T',\n",
       " 'Ep',\n",
       " 'S(t)',\n",
       " 'par',\n",
       " 'sol_resnorm_tolerance',\n",
       " 'sol_resnorm_maxiter',\n",
       " 'flux_out_Q',\n",
       " 'flux_out_Ea',\n",
       " 'wb')"
      ]
     },
     "execution_count": 10,
     "metadata": {},
     "output_type": "execute_result"
    }
   ],
   "source": [
    "model.output_var_names"
   ]
  },
  {
   "cell_type": "markdown",
   "id": "ddb3c093-d4d8-4847-95da-d3fa1334f337",
   "metadata": {},
   "source": [
    "## Run the model"
   ]
  },
  {
   "cell_type": "code",
   "execution_count": 11,
   "id": "aa4a2c1a-a0d4-4931-8c69-d856a11bb46b",
   "metadata": {},
   "outputs": [],
   "source": [
    "discharge = []\n",
    "time_range = []\n",
    "end_time = model.end_time\n",
    "\n",
    "while model.time < end_time:\n",
    "    model.update()\n",
    "    discharge.append(model.get_value(\"flux_out_Q\")[0])\n",
    "    time_range.append(model.time_as_datetime.date())"
   ]
  },
  {
   "cell_type": "code",
   "execution_count": 12,
   "id": "1227c78f",
   "metadata": {},
   "outputs": [],
   "source": [
    "model.finalize()"
   ]
  },
  {
   "cell_type": "markdown",
   "id": "f2fba8cb-57ff-4a18-91eb-191829391cc9",
   "metadata": {
    "tags": []
   },
   "source": [
    "## Inspect the results"
   ]
  },
  {
   "cell_type": "code",
   "execution_count": 13,
   "id": "628b5ab6-9d80-4fd0-acc1-9ff1a2c60a73",
   "metadata": {},
   "outputs": [],
   "source": [
    "simulated_discharge = pd.DataFrame(\n",
    "    {\"simulation\": discharge}, index=pd.to_datetime(time_range)\n",
    ")"
   ]
  },
  {
   "cell_type": "code",
   "execution_count": 14,
   "id": "1a3f33b0",
   "metadata": {},
   "outputs": [
    {
     "data": {
      "text/plain": [
       "<Axes: >"
      ]
     },
     "execution_count": 14,
     "metadata": {},
     "output_type": "execute_result"
    },
    {
     "data": {
      "image/png": "[encoded data removed]",
      "text/plain": [
       "<Figure size 1200x800 with 1 Axes>"
      ]
     },
     "metadata": {},
     "output_type": "display_data"
    }
   ],
   "source": [
    "simulated_discharge.plot(figsize=(12, 8))"
   ]
  }
 ],
 "metadata": {
  "kernelspec": {
   "display_name": "Python 3",
   "language": "python",
   "name": "python3"
  },
  "language_info": {
   "codemirror_mode": {
    "name": "ipython",
    "version": 3
   },
   "file_extension": ".py",
   "mimetype": "text/x-python",
   "name": "python",
   "nbconvert_exporter": "python",
   "pygments_lexer": "ipython3",
   "version": "3.10.0"
  }
 },
 "nbformat": 4,
 "nbformat_minor": 5
}

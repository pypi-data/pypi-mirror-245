{
 "cells": [
  {
   "cell_type": "markdown",
   "id": "029ab771-1196-408e-a57b-520e813bb764",
   "metadata": {},
   "source": [
    "# Example: Centroid Vetting.\n",
    "### How to look for centroid offset between in and out of transit\n",
    "In this example we show how to use the vetting module to visualize the transit and take the difference between the in transit and out of transit to determine if there is a centroid offset between the two."
   ]
  },
  {
   "cell_type": "code",
   "execution_count": 1,
   "id": "3c1ea491-efeb-4662-9f9f-84a5327229f3",
   "metadata": {},
   "outputs": [],
   "source": [
    "import numpy\n",
    "import matplotlib\n",
    "import exovetter as exo\n",
    "from exovetter import const\n",
    "from exovetter import utils\n",
    "import exovetter.vetters as vet\n",
    "import lightkurve as lk\n",
    "import astropy.units as u"
   ]
  },
  {
   "cell_type": "code",
   "execution_count": 2,
   "id": "e6212cc7-f877-40fb-9d61-618d751f4df6",
   "metadata": {},
   "outputs": [],
   "source": [
    "#Name of our first TOI Example\n",
    "candidate = \"TOI 1013.01\""
   ]
  },
  {
   "cell_type": "markdown",
   "id": "d69d0c9d-ed1b-4a6c-a8cb-a62cf09b1bc3",
   "metadata": {},
   "source": [
    "### Use a utility function get_mast_tce to get the properties of the candidate and put into a tce."
   ]
  },
  {
   "cell_type": "code",
   "execution_count": 3,
   "id": "9be9771e-7a96-4867-8df4-2b603e453ed3",
   "metadata": {},
   "outputs": [
    {
     "data": {
      "text/plain": [
       "[{'period': <Quantity 5.42555479 d>,\n",
       "  'epoch': <Quantity 58493.86798 d>,\n",
       "  'epoch_offset': <Quantity -2400000.5 d>,\n",
       "  'depth': <Quantity 0.01493963>,\n",
       "  'duration': <Quantity 0.15745833 d>,\n",
       "  'target': 'TOI 1013.01'}]"
      ]
     },
     "execution_count": 3,
     "metadata": {},
     "output_type": "execute_result"
    }
   ],
   "source": [
    "tce = utils.get_mast_tce(candidate)\n"
   ]
  },
  {
   "cell_type": "markdown",
   "id": "4ba5953d-50f5-40ac-9973-4bce4927f039",
   "metadata": {},
   "source": [
    "### Grab the light curve using lightkurve"
   ]
  },
  {
   "cell_type": "code",
   "execution_count": null,
   "id": "56e7d673-878b-4ebb-9d6d-71b442547a73",
   "metadata": {},
   "outputs": [],
   "source": [
    "lc = lk.search_lightcurve(candidate, sector=33, exptime=120).download()\n",
    "lc.plot()"
   ]
  },
  {
   "cell_type": "code",
   "execution_count": null,
   "id": "254d0d3f-c1b3-4663-a2c2-38713c6dcb86",
   "metadata": {},
   "outputs": [],
   "source": [
    "#Visualize the transits\n",
    "#Initiate the vetter\n",
    "viz = vet.VizTransits()\n",
    "\n",
    "#Run the vetter on the tce and lightcurve of your choice.\n",
    "viz.run(tce[0], lc, plot=True)"
   ]
  },
  {
   "cell_type": "markdown",
   "id": "cc645b95-4488-45a1-ab74-a5105f0039ea",
   "metadata": {},
   "source": [
    "## Run the Centroid Vetter\n",
    "The Centroid Vetter is run in the same way. It returns the average offset and significance that it is on the target.\n",
    "You get several plots showing the out of transits, in transit and difference image. The centroids of each are measured using a Gaussian.\n",
    "For the OOT and In-Transit, the centroid is constrained to the central +/-1pixel in box row and column direction.\n",
    "As input, the Centroid Vetter requires a Target Pixel File objects from lightkurve.\n",
    "\n",
    "This example shows no significant offset between the out of transit location and the difference image centroid."
   ]
  },
  {
   "cell_type": "code",
   "execution_count": null,
   "id": "85219b48-3ca3-42d2-a0c4-a6aabf2df99b",
   "metadata": {},
   "outputs": [],
   "source": [
    "\n",
    "tpf = lk.search_targetpixelfile(candidate, sector=33, exptime=120).download()\n",
    "cent = vet.Centroid()\n",
    "cent.run(tce[0],tpf, plot=True)"
   ]
  },
  {
   "cell_type": "markdown",
   "id": "d02f48c6-9c09-4d06-84cd-7f82ac711b64",
   "metadata": {},
   "source": [
    "## Example 2. An example with a small put possible offset.\n",
    "Here we will do the same thing on TOI 565.01"
   ]
  },
  {
   "cell_type": "code",
   "execution_count": null,
   "id": "26ac4dd8-600e-4eac-adf4-4536a8057dae",
   "metadata": {},
   "outputs": [],
   "source": [
    "candidate = \"TOI 565.01\"\n",
    "tce = utils.get_mast_tce(candidate)\n",
    "tce"
   ]
  },
  {
   "cell_type": "code",
   "execution_count": null,
   "id": "bb624aac-2c6f-4671-b879-766ab8e8e924",
   "metadata": {},
   "outputs": [],
   "source": [
    "lc = lk.search_lightcurve(candidate)[0].download()\n",
    "lc.plot()"
   ]
  },
  {
   "cell_type": "code",
   "execution_count": null,
   "id": "f9b699d3-22b4-4f0d-a7df-c64421a40445",
   "metadata": {},
   "outputs": [],
   "source": [
    "viz = vet.VizTransits(max_transits=8)\n",
    "viz.run(tce[0],lc, plot=True, )"
   ]
  },
  {
   "cell_type": "code",
   "execution_count": null,
   "id": "ce1e2dcc-2ec1-4e85-8278-38f40464541d",
   "metadata": {},
   "outputs": [],
   "source": [
    "#Examine difference images and measure centroids\n",
    "tpf = lk.search_targetpixelfile(candidate)[0].download()\n",
    "cent = vet.Centroid()\n",
    "cent.run(tce[0],tpf,plot=True)"
   ]
  },
  {
   "cell_type": "code",
   "execution_count": null,
   "id": "c1451eae",
   "metadata": {},
   "outputs": [],
   "source": []
  }
 ],
 "metadata": {
  "kernelspec": {
   "display_name": "Python 3 (ipykernel)",
   "language": "python",
   "name": "python3"
  },
  "language_info": {
   "codemirror_mode": {
    "name": "ipython",
    "version": 3
   },
   "file_extension": ".py",
   "mimetype": "text/x-python",
   "name": "python",
   "nbconvert_exporter": "python",
   "pygments_lexer": "ipython3",
   "version": "3.11.3"
  }
 },
 "nbformat": 4,
 "nbformat_minor": 5
}

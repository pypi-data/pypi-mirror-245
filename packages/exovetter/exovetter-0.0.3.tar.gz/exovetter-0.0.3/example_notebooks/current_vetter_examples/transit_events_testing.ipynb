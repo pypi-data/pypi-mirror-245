{
 "cells": [
  {
   "cell_type": "code",
   "execution_count": 1,
   "id": "37c77272",
   "metadata": {},
   "outputs": [],
   "source": [
    "import requests\n",
    "\n",
    "from astropy import units as u\n",
    "import lightkurve as lk\n",
    "from exovetter import const as exo_const\n",
    "from exovetter.tce import Tce\n",
    "from exovetter import vetters as vet\n",
    "import matplotlib.pyplot as plt\n",
    "from astroquery.mast import Catalogs\n",
    "import numpy as np\n",
    "\n",
    "%load_ext autoreload\n",
    "%autoreload 2\n",
    "%matplotlib inline"
   ]
  },
  {
   "cell_type": "markdown",
   "id": "81b2eac0",
   "metadata": {},
   "source": [
    "## Running the vetter on the same known exoplanet as Michelle\n",
    "\n",
    "## Our version of the TCE"
   ]
  },
  {
   "cell_type": "code",
   "execution_count": 2,
   "id": "76f2de71",
   "metadata": {},
   "outputs": [
    {
     "name": "stdout",
     "output_type": "stream",
     "text": [
      "All required parameters present: True\n"
     ]
    }
   ],
   "source": [
    "planeturl = \"https://exo.mast.stsci.edu/api/v0.1/exoplanets/\"\n",
    "planet_name = \"WASP-46 b\"\n",
    "header={} # Optional dictionary of HTTP headers to send to mast.\n",
    "\n",
    "url = planeturl + planet_name + \"/properties/\"\n",
    "\n",
    "r = requests.get(url = url, headers = header) # Returns a requests.Response object from exo.mast\n",
    "\n",
    "planet_prop = r.json() # Returns a JSON object of the result\n",
    "planet_prop\n",
    "nexsci_prop = planet_prop[1]  # Return the one from the nexsci catalog\n",
    "\n",
    "# Now we can use the Tce function to create a tce object\n",
    "tce = Tce(period = nexsci_prop['orbital_period'] * u.day,\n",
    "         epoch = nexsci_prop['transit_time'] * u.day,\n",
    "         epoch_offset =  -2_400_000.5 * u.day,\n",
    "         depth = nexsci_prop['transit_depth'] * exo_const.frac_amp,\n",
    "         duration = nexsci_prop['transit_duration'] * u.day,\n",
    "         snr = 50, #This value is only used by LPP and doesn't need to be very precise\n",
    "         event_name = \"WASP-46 b\",\n",
    "         target_name = \"WASP-46 b\")\n",
    "\n",
    "# We can validate that all required parameters are present with the validate method\n",
    "print(f\"All required parameters present: {tce.validate()}\")\n"
   ]
  },
  {
   "cell_type": "code",
   "execution_count": 3,
   "id": "5ae12f1e",
   "metadata": {},
   "outputs": [
    {
     "name": "stderr",
     "output_type": "stream",
     "text": [
      "/var/folders/qd/p48wml6j7313gsggzbjyyj000005fl/T/ipykernel_21482/3910586788.py:9: LightkurveDeprecationWarning: The SAP_FLUX function is deprecated and may be removed in a future version.\n",
      "  lc = lc.SAP_FLUX.remove_nans().remove_outliers()\n"
     ]
    }
   ],
   "source": [
    "# Download all SPOC FFI light curves\n",
    "tic = 231663901\n",
    "search_result = lk.search_lightcurve(f\"TIC {tic}\", mission=\"TESS\", author=\"TESS-SPOC\")\n",
    "lcs = search_result.download_all()\n",
    "\n",
    "# Stitch light curves together into a multi-sector light curve\n",
    "lc = lcs.stitch()\n",
    "\n",
    "lc = lc.SAP_FLUX.remove_nans().remove_outliers()\n",
    "\n",
    "lc_flat = lc.flatten(window_length=81)"
   ]
  },
  {
   "cell_type": "code",
   "execution_count": 4,
   "id": "a3a0b715",
   "metadata": {},
   "outputs": [
    {
     "data": {
      "text/plain": [
       "{'period': <Quantity 1.43036763 d>,\n",
       " 'epoch': <Quantity 56842.2141 d>,\n",
       " 'epoch_offset': <Quantity -2400000.5 d>,\n",
       " 'depth': <Quantity 0.01967932>,\n",
       " 'duration': <Quantity 0.0684947 d>,\n",
       " 'snr': 50,\n",
       " 'event_name': 'WASP-46 b',\n",
       " 'target_name': 'WASP-46 b'}"
      ]
     },
     "metadata": {},
     "output_type": "display_data"
    },
    {
     "data": {
      "text/html": [
       "<div><i>TessLightCurve length=4534 LABEL=&quot;TIC 231663901&quot; SECTOR=27 AUTHOR=SPOC FLUX_ORIGIN=pdcsap_flux</i>\n",
       "<table id=\"table4405251536\" class=\"table-striped table-bordered table-condensed\">\n",
       "<thead><tr><th>time</th><th>flux</th><th>flux_err</th><th>timecorr</th><th>cadenceno</th><th>centroid_col</th><th>centroid_row</th><th>sap_flux</th><th>sap_flux_err</th><th>sap_bkg</th><th>sap_bkg_err</th><th>pdcsap_flux</th><th>pdcsap_flux_err</th><th>quality</th><th>psf_centr1</th><th>psf_centr1_err</th><th>psf_centr2</th><th>psf_centr2_err</th><th>mom_centr1</th><th>mom_centr1_err</th><th>mom_centr2</th><th>mom_centr2_err</th><th>pos_corr1</th><th>pos_corr2</th></tr></thead>\n",
       "<thead><tr><th></th><th></th><th></th><th>d</th><th></th><th>pix</th><th>pix</th><th>electron / s</th><th>electron / s</th><th>electron / s</th><th>electron / s</th><th>electron / s</th><th>electron / s</th><th></th><th>pix</th><th>pix</th><th>pix</th><th>pix</th><th>pix</th><th>pix</th><th>pix</th><th>pix</th><th>pix</th><th>pix</th></tr></thead>\n",
       "<thead><tr><th>Time</th><th>float64</th><th>float64</th><th>float32</th><th>int32</th><th>float64</th><th>float64</th><th>float32</th><th>float32</th><th>float32</th><th>float32</th><th>float32</th><th>float32</th><th>int32</th><th>float64</th><th>float32</th><th>float64</th><th>float32</th><th>float64</th><th>float32</th><th>float64</th><th>float32</th><th>float32</th><th>float32</th></tr></thead>\n",
       "<tr><td>1325.3489580494802</td><td>1.0007050e+00</td><td>9.9424918e-04</td><td>4.6121906e-03</td><td>4698</td><td>1849.60736</td><td>1518.53888</td><td>1.2340039e+03</td><td>1.2260430e+00</td><td>3.7625027e+02</td><td>3.8314438e-01</td><td>1.7204354e+03</td><td>1.9063081e+00</td><td>0</td><td>———</td><td>———</td><td>———</td><td>———</td><td>1849.60736</td><td>4.7434622e-04</td><td>1518.53888</td><td>4.7798449e-04</td><td>-3.6651355e-03</td><td>1.0208008e-02</td></tr>\n",
       "<tr><td>1325.3697912859773</td><td>9.9994555e-01</td><td>9.9587462e-04</td><td>4.6121022e-03</td><td>4699</td><td>1849.60693</td><td>1518.53931</td><td>1.2330674e+03</td><td>1.2280474e+00</td><td>3.8164874e+02</td><td>3.8499820e-01</td><td>1.7189001e+03</td><td>1.9094245e+00</td><td>0</td><td>———</td><td>———</td><td>———</td><td>———</td><td>1849.60693</td><td>4.7540548e-04</td><td>1518.53931</td><td>4.7900656e-04</td><td>-2.9917483e-03</td><td>1.0379951e-02</td></tr>\n",
       "<tr><td>1325.3906245215426</td><td>1.0023605e+00</td><td>1.0009926e-03</td><td>4.6120128e-03</td><td>4700</td><td>1849.60632</td><td>1518.54030</td><td>1.2360453e+03</td><td>1.2343585e+00</td><td>3.8884091e+02</td><td>3.8767383e-01</td><td>1.7231960e+03</td><td>1.9192375e+00</td><td>0</td><td>———</td><td>———</td><td>———</td><td>———</td><td>1849.60632</td><td>4.7664720e-04</td><td>1518.54030</td><td>4.8023646e-04</td><td>-2.5253396e-03</td><td>1.0325528e-02</td></tr>\n",
       "<tr><td>1325.4114577571083</td><td>9.9968026e-01</td><td>1.0009948e-03</td><td>4.6119234e-03</td><td>4701</td><td>1849.60673</td><td>1518.53968</td><td>1.2327402e+03</td><td>1.2343613e+00</td><td>3.9517987e+02</td><td>3.8969690e-01</td><td>1.7180607e+03</td><td>1.9192418e+00</td><td>0</td><td>———</td><td>———</td><td>———</td><td>———</td><td>1849.60673</td><td>4.7805245e-04</td><td>1518.53968</td><td>4.8133664e-04</td><td>-3.4703899e-03</td><td>9.1413865e-03</td></tr>\n",
       "<tr><td>1325.432290991743</td><td>1.0002661e+00</td><td>1.0014541e-03</td><td>4.6118330e-03</td><td>4702</td><td>1849.60801</td><td>1518.53927</td><td>1.2334626e+03</td><td>1.2349277e+00</td><td>3.9888635e+02</td><td>3.9063656e-01</td><td>1.7191421e+03</td><td>1.9201224e+00</td><td>0</td><td>———</td><td>———</td><td>———</td><td>———</td><td>1849.60801</td><td>4.7763766e-04</td><td>1518.53927</td><td>4.8120916e-04</td><td>-1.9005135e-03</td><td>9.5898136e-03</td></tr>\n",
       "<tr><td>1325.4531242259125</td><td>1.0011186e+00</td><td>1.0037139e-03</td><td>4.6117422e-03</td><td>4703</td><td>1849.60771</td><td>1518.53949</td><td>1.2345139e+03</td><td>1.2377143e+00</td><td>4.0269522e+02</td><td>3.9194652e-01</td><td>1.7212830e+03</td><td>1.9244550e+00</td><td>0</td><td>———</td><td>———</td><td>———</td><td>———</td><td>1849.60771</td><td>4.7811525e-04</td><td>1518.53949</td><td>4.8184500e-04</td><td>-1.5328347e-03</td><td>9.7061461e-03</td></tr>\n",
       "<tr><td>...</td><td>...</td><td>...</td><td>...</td><td>...</td><td>...</td><td>...</td><td>...</td><td>...</td><td>...</td><td>...</td><td>...</td><td>...</td><td>...</td><td>...</td><td>...</td><td>...</td><td>...</td><td>...</td><td>...</td><td>...</td><td>...</td><td>...</td><td>...</td></tr>\n",
       "<tr><td>2060.6055531766415</td><td>1.0009953e+00</td><td>2.1247866e-03</td><td>4.5764837e-03</td><td>119972</td><td>1238.82380</td><td>1413.73333</td><td>1.4543925e+03</td><td>3.0872011e+00</td><td>1.6582976e+03</td><td>1.4205964e+00</td><td>———</td><td>———</td><td>1000000000000</td><td>———</td><td>———</td><td>———</td><td>———</td><td>1238.82380</td><td>1.2592931e-03</td><td>1413.73333</td><td>1.3914959e-03</td><td>6.8756742e-03</td><td>-6.0949259e-02</td></tr>\n",
       "<tr><td>2060.61249759462</td><td>1.0028817e+00</td><td>2.1263370e-03</td><td>4.5764605e-03</td><td>119973</td><td>1238.82549</td><td>1413.73569</td><td>1.4571219e+03</td><td>3.0894296e+00</td><td>1.6661085e+03</td><td>1.4232007e+00</td><td>———</td><td>———</td><td>1000000000000</td><td>———</td><td>———</td><td>———</td><td>———</td><td>1238.82549</td><td>1.2613744e-03</td><td>1413.73569</td><td>1.3879202e-03</td><td>7.0676650e-03</td><td>-6.1220240e-02</td></tr>\n",
       "<tr><td>2060.619442012598</td><td>1.0026608e+00</td><td>2.1315961e-03</td><td>4.5764372e-03</td><td>119974</td><td>1238.82364</td><td>1413.73288</td><td>1.4567886e+03</td><td>3.0970442e+00</td><td>1.6762338e+03</td><td>1.4268146e+00</td><td>———</td><td>———</td><td>1000000000000</td><td>———</td><td>———</td><td>———</td><td>———</td><td>1238.82364</td><td>1.2647015e-03</td><td>1413.73288</td><td>1.3942226e-03</td><td>5.8252630e-03</td><td>-6.2112171e-02</td></tr>\n",
       "<tr><td>2060.626386430577</td><td>1.0018263e+00</td><td>2.1356049e-03</td><td>4.5764139e-03</td><td>119975</td><td>1238.82764</td><td>1413.73924</td><td>1.4555625e+03</td><td>3.1028397e+00</td><td>1.6886917e+03</td><td>1.4317510e+00</td><td>———</td><td>———</td><td>1000000000000</td><td>———</td><td>———</td><td>———</td><td>———</td><td>1238.82764</td><td>1.2672796e-03</td><td>1413.73924</td><td>1.3940822e-03</td><td>9.0160733e-03</td><td>-5.7815060e-02</td></tr>\n",
       "<tr><td>2060.633330848556</td><td>9.9969216e-01</td><td>2.1368122e-03</td><td>4.5763906e-03</td><td>119976</td><td>1238.82885</td><td>1413.73559</td><td>1.4524470e+03</td><td>3.1045623e+00</td><td>1.6970153e+03</td><td>1.4370900e+00</td><td>———</td><td>———</td><td>1000000000000</td><td>———</td><td>———</td><td>———</td><td>———</td><td>1238.82885</td><td>1.2707437e-03</td><td>1413.73559</td><td>1.3985586e-03</td><td>9.3987631e-03</td><td>-5.6936029e-02</td></tr>\n",
       "<tr><td>2060.640275266535</td><td>1.0006016e+00</td><td>2.1413295e-03</td><td>4.5763673e-03</td><td>119977</td><td>1238.82716</td><td>1413.73522</td><td>1.4537523e+03</td><td>3.1110911e+00</td><td>1.7074928e+03</td><td>1.4398099e+00</td><td>———</td><td>———</td><td>1000000000000</td><td>———</td><td>———</td><td>———</td><td>———</td><td>1238.82716</td><td>1.2711098e-03</td><td>1413.73522</td><td>1.4012269e-03</td><td>9.1184992e-03</td><td>-5.8999743e-02</td></tr>\n",
       "</table></div>"
      ],
      "text/plain": [
       "<TessLightCurve length=4534 LABEL=\"TIC 231663901\" SECTOR=27 AUTHOR=SPOC FLUX_ORIGIN=pdcsap_flux>\n",
       "       time             flux      ...   pos_corr1      pos_corr2   \n",
       "                                  ...      pix            pix      \n",
       "       Time           float64     ...    float32        float32    \n",
       "------------------ -------------- ... -------------- --------------\n",
       "1325.3489580494802  1.0007050e+00 ... -3.6651355e-03  1.0208008e-02\n",
       "1325.3697912859773  9.9994555e-01 ... -2.9917483e-03  1.0379951e-02\n",
       "1325.3906245215426  1.0023605e+00 ... -2.5253396e-03  1.0325528e-02\n",
       "1325.4114577571083  9.9968026e-01 ... -3.4703899e-03  9.1413865e-03\n",
       " 1325.432290991743  1.0002661e+00 ... -1.9005135e-03  9.5898136e-03\n",
       "1325.4531242259125  1.0011186e+00 ... -1.5328347e-03  9.7061461e-03\n",
       "               ...            ... ...            ...            ...\n",
       "2060.6055531766415  1.0009953e+00 ...  6.8756742e-03 -6.0949259e-02\n",
       "  2060.61249759462  1.0028817e+00 ...  7.0676650e-03 -6.1220240e-02\n",
       " 2060.619442012598  1.0026608e+00 ...  5.8252630e-03 -6.2112171e-02\n",
       " 2060.626386430577  1.0018263e+00 ...  9.0160733e-03 -5.7815060e-02\n",
       " 2060.633330848556  9.9969216e-01 ...  9.3987631e-03 -5.6936029e-02\n",
       " 2060.640275266535  1.0006016e+00 ...  9.1184992e-03 -5.8999743e-02"
      ]
     },
     "metadata": {},
     "output_type": "display_data"
    },
    {
     "data": {
      "image/png": "[encoded data removed]",
      "text/plain": [
       "<Figure size 848.5x400 with 1 Axes>"
      ]
     },
     "metadata": {},
     "output_type": "display_data"
    }
   ],
   "source": [
    "# View the tce and flattened lightcurve we're vetting: \n",
    "display(tce)\n",
    "display(lc_flat)\n",
    "lc_flat.plot()\n",
    "plt.show()"
   ]
  },
  {
   "cell_type": "markdown",
   "id": "3691bf49",
   "metadata": {},
   "source": [
    "## Vetter"
   ]
  },
  {
   "cell_type": "code",
   "execution_count": 7,
   "id": "29d37b70",
   "metadata": {},
   "outputs": [
    {
     "name": "stdout",
     "output_type": "stream",
     "text": [
      "we make epo here: 1326.0053323099828\n",
      "alternatively: 2456842.7141 d\n"
     ]
    }
   ],
   "source": [
    "# Initialize the single_event object \n",
    "leo = vet.LeoVetter(lc_name=\"flux\", flux_err='flux_err', frac=0.7, max_chases_phase = 0.1)\n",
    "\n",
    "# We then run the vetter on the desired TCE and lightcurve which results in a dictionary of relevent metrics\n",
    "leo_results = leo.run(tce,lc_flat)\n",
    "\n",
    "\n",
    "#print(\"Results from single_event:\")\n",
    "#display(single_event_results)"
   ]
  },
  {
   "cell_type": "code",
   "execution_count": 12,
   "id": "7a33e0b5",
   "metadata": {},
   "outputs": [
    {
     "name": "stdout",
     "output_type": "stream",
     "text": [
      "OUR INPUT:\n",
      "time:  [1325.34895805 1325.36979129 1325.39062452 ... 2060.62638643 2060.63333085\n",
      " 2060.64027527]\n",
      "flux:  [1.00070502 0.99994555 1.00236046 ... 1.0018263  0.99969216 1.00060158]\n",
      "flux_err:  [0.00099425 0.00099587 0.00100099 ... 0.0021356  0.00213681 0.00214133]\n",
      "per:  1.43036763\n",
      "epo:  1326.0053323099828\n",
      "dur:  0.0684947\n"
     ]
    }
   ],
   "source": [
    "print('OUR INPUT:')\n",
    "print('time: ', leo.time)\n",
    "print('flux: ', leo.flux)\n",
    "print('flux_err: ', leo.flux_err)\n",
    "print('per: ', leo.period)\n",
    "print('epo: ', leo.epo)\n",
    "print('dur: ', leo.duration)"
   ]
  },
  {
   "cell_type": "code",
   "execution_count": 14,
   "id": "3645ead2",
   "metadata": {},
   "outputs": [
    {
     "name": "stdout",
     "output_type": "stream",
     "text": [
      "OUR RESULTS:\n",
      "sig_w: 0.0016403372760923096\n",
      "sig_r: 0.0005200076789826461\n",
      "err: 0.00014431690568781873\n",
      "MES: 89.21743457507013\n",
      "SHP: 0.05112466122092516\n",
      "CHI: 163.78534250184396\n",
      "med_chases: 1.0\n",
      "mean_chases: 1.0\n",
      "max_SES: 19.30969345740498\n",
      "DMM: 0.9874468450060117\n",
      "MES_series [ 1.1525803   0.41742141  0.08879909 ... -0.8614077  -0.7268431\n",
      " -0.96029378]\n",
      "N_transit 34\n",
      "SES [11.43025271 12.41320016 13.25677657  6.76693476 13.40531881 12.96942291\n",
      " 11.22212845 13.34412446 13.45725124 15.06910467 13.72565598 12.71366218\n",
      "  9.09640935 14.30413031 11.59180595 12.29016475 10.48575434  6.60634063\n",
      " 18.7333624  16.59538898 17.84175852 18.98959706 15.91048143 18.08853902\n",
      " 19.00452359 19.30969346 16.89967023 16.47905453 15.16012405 17.066227\n",
      " 16.92726059 18.4299186  16.46924032 17.57771614]\n",
      "SES_series [-0.26630293 -0.93604741 -0.6221983  ... -1.69365171 -1.72049042\n",
      " -1.72344884]\n",
      "chases [1. 1. 1. 1. 1. 1. 1. 1. 1. 1. 1. 1. 1. 1. 1. 1. 1. 1. 1. 1. 1. 1. 1. 1.\n",
      " 1. 1. 1. 1. 1. 1. 1. 1. 1. 1.]\n",
      "dep 0.012875584091279535\n",
      "dep_series [ 1.62635989e-04  5.84310282e-05  1.22920702e-05 ... -1.17839414e-04\n",
      " -9.91674658e-05 -1.31366897e-04]\n",
      "epochs [ -0.  -0.  -0. ... 514. 514. 514.]\n",
      "err_series [0.00014111 0.00013998 0.00013843 ... 0.0001368  0.00013644 0.0001368 ]\n",
      "fit_tran [False False False ... False False False]\n",
      "in_tran [False False False ... False False False]\n",
      "n_in 209\n",
      "near_tran [False False False ... False False False]\n",
      "phase [-0.45888501 -0.44432005 -0.4297551  ... -0.4110186  -0.40616361\n",
      " -0.40130862]\n",
      "qtran 0.04788608086719637\n",
      "rubble [1.06455381 0.98851365 0.98851266 0.9885115  0.98851017 0.9885088\n",
      " 1.06454645 0.98850603 0.91246568 0.98849588 0.91245709 0.98849429\n",
      " 0.76037938 0.98849198 0.79839635 0.98848823 0.91244942 0.45622313\n",
      " 0.9885402  0.98853874 0.98853735 0.98853595 0.98853456 0.9885333\n",
      " 0.98853224 0.98853178 0.98852396 0.9885223  0.98852084 0.98851938\n",
      " 0.98851793 0.9885166  1.01386209 1.01386155]\n",
      "tran_epochs [ -0.   1.   2.   3.   4.   5.   6.   7.   8.  10.  11.  12.  13.  14.\n",
      "  15.  17.  18.  19. 497. 498. 499. 500. 501. 502. 503. 504. 506. 507.\n",
      " 508. 509. 510. 511. 512. 513.]\n",
      "zpt 0.9999874030755801\n"
     ]
    }
   ],
   "source": [
    "print('OUR RESULTS:')\n",
    "print('sig_w:', leo.metrics[\"sig_w\"])\n",
    "print('sig_r:', leo.metrics[\"sig_r\"])\n",
    "print('err:', leo.metrics[\"err\"])\n",
    "print('MES:', leo.metrics[\"MES\"])\n",
    "print('SHP:', leo.metrics[\"SHP\"])\n",
    "print('CHI:', leo.metrics[\"CHI\"])\n",
    "print('med_chases:', leo.metrics[\"med_chases\"])\n",
    "print('mean_chases:', leo.metrics[\"mean_chases\"])\n",
    "print('max_SES:', leo.metrics[\"max_SES\"])\n",
    "print('DMM:', leo.metrics[\"DMM\"])\n",
    "\n",
    "\n",
    "print('MES_series', leo.MES_series)\n",
    "print('N_transit', leo.N_transit )\n",
    "print('SES', leo.SES)\n",
    "print('SES_series', leo.SES_series)\n",
    "print('chases', leo.chases)\n",
    "print('dep', leo.dep)\n",
    "print('dep_series', leo.dep_series)\n",
    "print('epochs', leo.epochs)\n",
    "print('err_series', leo.err_series)\n",
    "print('fit_tran', leo.fit_tran)\n",
    "print('in_tran', leo.in_tran)\n",
    "print('n_in', leo.n_in)\n",
    "print('near_tran', leo.near_tran)\n",
    "print('phase', leo.phase)\n",
    "print('qtran', leo.qtran)\n",
    "print('rubble', leo.rubble)\n",
    "print('tran_epochs', leo.tran_epochs)\n",
    "print('zpt', leo.zpt)"
   ]
  },
  {
   "cell_type": "code",
   "execution_count": null,
   "id": "7027fdc9",
   "metadata": {},
   "outputs": [],
   "source": []
  }
 ],
 "metadata": {
  "kernelspec": {
   "display_name": "Python 3 (ipykernel)",
   "language": "python",
   "name": "python3"
  },
  "language_info": {
   "codemirror_mode": {
    "name": "ipython",
    "version": 3
   },
   "file_extension": ".py",
   "mimetype": "text/x-python",
   "name": "python",
   "nbconvert_exporter": "python",
   "pygments_lexer": "ipython3",
   "version": "3.11.3"
  }
 },
 "nbformat": 4,
 "nbformat_minor": 5
}

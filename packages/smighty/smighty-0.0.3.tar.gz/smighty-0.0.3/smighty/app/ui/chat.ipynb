{
  "cells": [
    {
      "cell_type": "markdown",
      "metadata": {
        "id": "view-in-github",
        "colab_type": "text"
      },
      "source": [
        "<a href=\"https://colab.research.google.com/github/alywonder/smighty/blob/master/smighty/app/ui/chat.ipynb\" target=\"_parent\"><img src=\"https://colab.research.google.com/assets/colab-badge.svg\" alt=\"Open In Colab\"/></a>"
      ]
    },
    {
      "cell_type": "markdown",
      "metadata": {
        "id": "RmwKdn0fgB4Q"
      },
      "source": [
        "# Smighty Chat Client\n",
        "\n",
        "Install Smighty from git repository and run UI clients."
      ]
    },
    {
      "cell_type": "markdown",
      "source": [
        "## Clone the repository\n",
        "\n",
        "Since smighty is a private repository, we have to jump through some hoops to connect to it."
      ],
      "metadata": {
        "id": "aWFOLJfugNmM"
      }
    },
    {
      "cell_type": "code",
      "source": [
        "# @title Mount Google drive.\n",
        "from google.colab import drive\n",
        "drive.mount('/content/drive')"
      ],
      "metadata": {
        "cellView": "form",
        "id": "1Y77GPPngcgG"
      },
      "execution_count": null,
      "outputs": []
    },
    {
      "cell_type": "code",
      "source": [
        "# @title Copy ssh keys from the drive to .ssh directory\n",
        "!mkdir -p /root/.ssh\n",
        "!cp /content/drive/My\\ Drive/keys/id_ed25519* /root/.ssh/\n",
        "!chmod +r /root/.ssh/id_ed25519.pub"
      ],
      "metadata": {
        "cellView": "form",
        "id": "mGW-G_W0gt0d"
      },
      "execution_count": null,
      "outputs": []
    },
    {
      "cell_type": "code",
      "source": [
        "# @title Run keyscan for github.com\n",
        "!ssh-keyscan github.com >> /root/.ssh/known_hosts"
      ],
      "metadata": {
        "cellView": "form",
        "id": "jZBWBjKYhxuA"
      },
      "execution_count": null,
      "outputs": []
    },
    {
      "cell_type": "code",
      "source": [
        "# @title Ssh authenticate\n",
        "!ssh -T git@github.com"
      ],
      "metadata": {
        "cellView": "form",
        "id": "8x2q0XJxiHkd"
      },
      "execution_count": null,
      "outputs": []
    },
    {
      "cell_type": "code",
      "execution_count": null,
      "metadata": {
        "cellView": "form",
        "id": "aYaW6C28gB4U"
      },
      "outputs": [],
      "source": [
        "# @title Clone the repository\n",
        "!git clone git@github.com:alywonder/smighty.git\n",
        "%cd smighty"
      ]
    },
    {
      "cell_type": "markdown",
      "source": [
        "## Install and run Smighty"
      ],
      "metadata": {
        "id": "ryFl-uorlr3S"
      }
    },
    {
      "cell_type": "code",
      "source": [
        "# @title Install Smighty package\n",
        "\n",
        "!pip install -q -e '.[all]'"
      ],
      "metadata": {
        "cellView": "form",
        "id": "95EPtzaEmZVi"
      },
      "execution_count": null,
      "outputs": []
    },
    {
      "cell_type": "code",
      "source": [
        "# @title Run test CLI client\n",
        "\n",
        "from typer.testing import CliRunner\n",
        "\n",
        "from smighty.app.cli.__main__ import app\n",
        "\n",
        "runner = CliRunner()\n",
        "result = runner.invoke(app, ['hello', 'sam', '--city', 'sfo'])\n"
      ],
      "metadata": {
        "id": "Csc1nkD-2wy6",
        "cellView": "form"
      },
      "execution_count": null,
      "outputs": []
    },
    {
      "cell_type": "code",
      "source": [
        "# @title Run test Chat client\n",
        "\n",
        "from smighty.app.ui import chat\n",
        "\n",
        "chat.launch()"
      ],
      "metadata": {
        "id": "8Oc_9gqm4PJF",
        "cellView": "form"
      },
      "execution_count": null,
      "outputs": []
    },
    {
      "cell_type": "code",
      "source": [
        "# @title Run test LLM Chat client\n",
        "\n",
        "from smighty.app.ui import llmchat\n",
        "\n",
        "llmchat.launch()"
      ],
      "metadata": {
        "cellView": "form",
        "id": "X7K_l7TXBKBm"
      },
      "execution_count": null,
      "outputs": []
    },
    {
      "cell_type": "code",
      "source": [],
      "metadata": {
        "id": "UbshcThT3Spv"
      },
      "execution_count": null,
      "outputs": []
    },
    {
      "cell_type": "code",
      "source": [],
      "metadata": {
        "id": "tVuFUlf17zpu"
      },
      "execution_count": null,
      "outputs": []
    }
  ],
  "metadata": {
    "language_info": {
      "name": "python"
    },
    "colab": {
      "provenance": [],
      "toc_visible": true,
      "include_colab_link": true
    },
    "kernelspec": {
      "name": "python3",
      "display_name": "Python 3"
    }
  },
  "nbformat": 4,
  "nbformat_minor": 0
}
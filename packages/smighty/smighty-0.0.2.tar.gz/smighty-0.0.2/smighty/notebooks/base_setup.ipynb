{
  "cells": [
    {
      "cell_type": "markdown",
      "metadata": {
        "colab_type": "text",
        "id": "view-in-github"
      },
      "source": [
        "<a href=\"https://colab.research.google.com/github/alywonder/smighty/blob/master/smighty/notebooks/base_setup.ipynb\" target=\"_parent\"><img src=\"https://colab.research.google.com/assets/colab-badge.svg\" alt=\"Open In Colab\"/></a>"
      ]
    },
    {
      "cell_type": "markdown",
      "metadata": {
        "id": "jMdyj-fzBz5n"
      },
      "source": [
        "# The template notebook with base configurations and setup\n",
        "\n",
        "## Base setup"
      ]
    },
    {
      "cell_type": "markdown",
      "metadata": {
        "id": "BPJglKliD4Na"
      },
      "source": [
        "### Setup and configuration"
      ]
    },
    {
      "cell_type": "code",
      "execution_count": null,
      "metadata": {
        "cellView": "form",
        "id": "3Oq8v2qM-2Lr"
      },
      "outputs": [],
      "source": [
        "# @title Notebook configuration setup and starting imports\n",
        "import torch\n",
        "import pydantic\n",
        "\n",
        "from pydantic import dataclasses\n",
        "\n",
        "@dataclasses.dataclass\n",
        "class NotebookConfig:\n",
        "  \"\"\"Configuration for the notebook\"\"\"\n",
        "  in_colab: bool = False\n",
        "  gpu_available: bool = False\n",
        "  gpu_count: int = 0\n",
        "  device: str = 'cpu'\n",
        "  use_dot_env: bool = False\n",
        "\n",
        "notebook_config = NotebookConfig()"
      ]
    },
    {
      "cell_type": "code",
      "execution_count": null,
      "metadata": {
        "cellView": "form",
        "id": "ek9-jGtW9QTW"
      },
      "outputs": [],
      "source": [
        "# @title Check and verify colab environment and GPU availability\n",
        "try:\n",
        "  import google.colab\n",
        "  notebook_config.in_colab = True\n",
        "except:\n",
        "  notebook_config.in_colab = False\n",
        "\n",
        "if not torch.cuda.is_available():\n",
        "  print(\"No GPU available, using the CPU instead.\")\n",
        "  notebook_config.gpu_available = False\n",
        "  notebook_config.device = 'cpu'\n",
        "else:\n",
        "  notebook_config.gpu_available = True\n",
        "  notebook_config.device = 'cuda:0'\n",
        "  notebook_config.gpu_count = torch.cuda.device_count()\n",
        "  !nvidia-smi"
      ]
    },
    {
      "cell_type": "code",
      "execution_count": null,
      "metadata": {
        "cellView": "form",
        "id": "eGj8aqcR8IWU"
      },
      "outputs": [],
      "source": [
        "# @title Install libraries\n",
        "!pip install -q python-dotenv\n",
        "\n",
        "# Install other libraries as necessary\n",
        "#!pip install -q openai\n"
      ]
    },
    {
      "cell_type": "code",
      "execution_count": null,
      "metadata": {
        "cellView": "form",
        "id": "Ca-aEkvF-b2h"
      },
      "outputs": [],
      "source": [
        "# @title Check for local .env file\n",
        "import os\n",
        "from dotenv import load_dotenv, find_dotenv\n",
        "from pprint import pprint\n",
        "\n",
        "local_dotenv = find_dotenv()\n",
        "if local_dotenv:\n",
        "  notebook_config.use_dot_env = True\n",
        "  _ = load_dotenv(local_dotenv) # read local .env file\n",
        "\n",
        "pprint(notebook_config, width=1)\n",
        "# pprint(notebook_config.__pydantic_model__.schema(), width=1)"
      ]
    },
    {
      "cell_type": "code",
      "execution_count": null,
      "metadata": {
        "cellView": "form",
        "id": "LTjuaWv9By3L"
      },
      "outputs": [],
      "source": [
        "# @title Setup model config\n",
        "from enum import Enum\n",
        "\n",
        "# Model class\n",
        "class ModelFamily(str, Enum):\n",
        "  openai = 'openai'\n",
        "  llama = 'llama'\n",
        "  anthropic = 'anthropic'\n",
        "  cohere = 'cohere'\n",
        "\n",
        "# Model names\n",
        "class OpenAIModels(str, Enum):\n",
        "  gpt_3_5 = 'gpt-3.5-turbo-0613'\n",
        "  gpt_4 = 'gpt-4-0613'\n",
        "\n",
        "class LlamaModels(str, Enum):\n",
        "  llama_7b = 'meta-llama/Llama-2-7b-hf'\n",
        "  llama_7b_chat = 'meta-llama/Llama-2-7b-chat'\n",
        "  codellama_7b = 'codellama/CodeLlama-7b-Python-hf'\n",
        "  codellama_7b_chat = 'codellama/CodeLlama-7b-Instruct-hf'\n",
        "\n",
        "class AnthropicModels(str, Enum):\n",
        "  claude2 = 'claude2'\n",
        "\n",
        "class CohereModels(str, Enum):\n",
        "  cohere_small = 'cohere-small'\n",
        "  cohere_medium = 'cohere-medium'\n",
        "  cohere_large = 'cohere-large'\n",
        "\n",
        "\n",
        "@dataclasses.dataclass\n",
        "class ModelConfig:\n",
        "  \"\"\"Configuration for the model\"\"\"\n",
        "  model_family: ModelFamily = ModelFamily.openai\n",
        "  model_name: OpenAIModels | LlamaModels | AnthropicModels | CohereModels = OpenAIModels.gpt_3_5\n",
        "\n",
        "model_config = ModelConfig()\n",
        "pprint(model_config, width=1)\n"
      ]
    },
    {
      "cell_type": "code",
      "execution_count": null,
      "metadata": {
        "cellView": "form",
        "id": "N_ESVydhRmdv"
      },
      "outputs": [],
      "source": [
        "# @title Setup generation config\n",
        "\n",
        "@dataclasses.dataclass\n",
        "class GenerationConfig:\n",
        "  \"\"\"Configuration for the generation\"\"\"\n",
        "  max_new_tokens: int = 200\n",
        "  top_k: int = 10\n",
        "  temperature: float = 0.01\n",
        "  top_p: float = 0.95\n",
        "  num_return_sequences: int = 1\n",
        "  add_special_tokens: bool = False\n",
        "  do_sample: bool = True\n",
        "\n",
        "generation_config = GenerationConfig()\n",
        "pprint(generation_config, width=1)"
      ]
    },
    {
      "cell_type": "code",
      "execution_count": null,
      "metadata": {
        "id": "O_kxSM_ASnAZ"
      },
      "outputs": [],
      "source": []
    }
  ],
  "metadata": {
    "colab": {
      "authorship_tag": "ABX9TyOfAH7tNvs1W1VNcC1fPqY9",
      "include_colab_link": true,
      "provenance": [],
      "toc_visible": true
    },
    "kernelspec": {
      "display_name": "Python 3",
      "name": "python3"
    },
    "language_info": {
      "name": "python"
    }
  },
  "nbformat": 4,
  "nbformat_minor": 0
}

{
  "cells": [
    {
      "cell_type": "markdown",
      "metadata": {
        "id": "view-in-github",
        "colab_type": "text"
      },
      "source": [
        "<a href=\"https://colab.research.google.com/github/alywonder/smighty/blob/master/smighty/notebooks/base_setup.ipynb\" target=\"_parent\"><img src=\"https://colab.research.google.com/assets/colab-badge.svg\" alt=\"Open In Colab\"/></a>"
      ]
    },
    {
      "cell_type": "markdown",
      "metadata": {
        "id": "jMdyj-fzBz5n"
      },
      "source": [
        "# The template notebook with base configurations and setup\n",
        "\n",
        "## Base setup"
      ]
    },
    {
      "cell_type": "markdown",
      "metadata": {
        "id": "BPJglKliD4Na"
      },
      "source": [
        "### Setup and configuration"
      ]
    },
    {
      "cell_type": "code",
      "source": [
        "# @title Basic installs\n",
        "!pip install -q torch\n",
        "!pip install -q pydantic\n",
        "!pip install -q typer[all]\n",
        "!pip install -q python-dotenv"
      ],
      "metadata": {
        "cellView": "form",
        "id": "QeBXnrXwjBwD"
      },
      "execution_count": null,
      "outputs": []
    },
    {
      "cell_type": "code",
      "source": [
        "# @title Basic imports\n",
        "\n",
        "# @markdown Absolutely run this. We don't repeat these imports in\n",
        "# other cells, but are used heavily throughout\n",
        "\n",
        "import torch\n",
        "import pydantic\n",
        "import typer\n",
        "from pydantic import BaseModel, dataclasses\n",
        "from rich import print\n",
        "from rich.pretty import pprint, Pretty\n",
        "from rich.panel import Panel\n",
        "\n",
        "eprint = lambda obj: pprint(obj, expand_all=True)"
      ],
      "metadata": {
        "cellView": "form",
        "id": "g_wSvT6UlZhH"
      },
      "execution_count": null,
      "outputs": []
    },
    {
      "cell_type": "code",
      "execution_count": null,
      "metadata": {
        "cellView": "form",
        "id": "3Oq8v2qM-2Lr"
      },
      "outputs": [],
      "source": [
        "# @title Notebook configuration setup and starting imports\n",
        "@dataclasses.dataclass\n",
        "class NotebookConfig:\n",
        "  \"\"\"Configuration for the notebook\"\"\"\n",
        "  in_colab: bool = False\n",
        "  gpu_available: bool = False\n",
        "  gpu_count: int = 0\n",
        "  device: str = 'cpu'\n",
        "  use_dot_env: bool = False\n",
        "\n",
        "notebook_config = NotebookConfig()\n",
        "\n",
        "eprint(notebook_config)\n",
        "# pprint(notebook_config, expand_all=True)\n",
        "# pprint(notebook_config)\n",
        "# print(Panel(Pretty(notebook_config)))\n",
        "# print(Panel(Pretty(notebook_config, expand_all=True)))"
      ]
    },
    {
      "cell_type": "code",
      "execution_count": null,
      "metadata": {
        "cellView": "form",
        "id": "ek9-jGtW9QTW"
      },
      "outputs": [],
      "source": [
        "# @title Check and verify colab environment and GPU availability\n",
        "try:\n",
        "  import google.colab\n",
        "  notebook_config.in_colab = True\n",
        "except:\n",
        "  notebook_config.in_colab = False\n",
        "\n",
        "if not torch.cuda.is_available():\n",
        "  print(\"[bold red]No GPU available, using the CPU instead.[/]\")\n",
        "  notebook_config.gpu_available = False\n",
        "  notebook_config.device = 'cpu'\n",
        "else:\n",
        "  notebook_config.gpu_available = True\n",
        "  notebook_config.device = 'cuda:0'\n",
        "  notebook_config.gpu_count = torch.cuda.device_count()\n",
        "  !nvidia-smi"
      ]
    },
    {
      "cell_type": "code",
      "execution_count": null,
      "metadata": {
        "cellView": "form",
        "id": "Ca-aEkvF-b2h"
      },
      "outputs": [],
      "source": [
        "# @title Check for local .env file\n",
        "import os\n",
        "from dotenv import load_dotenv, find_dotenv\n",
        "\n",
        "local_dotenv = find_dotenv()\n",
        "if local_dotenv:\n",
        "  notebook_config.use_dot_env = True\n",
        "  _ = load_dotenv(local_dotenv) # read local .env file\n",
        "\n",
        "eprint(notebook_config)"
      ]
    },
    {
      "cell_type": "code",
      "execution_count": null,
      "metadata": {
        "cellView": "form",
        "id": "LTjuaWv9By3L"
      },
      "outputs": [],
      "source": [
        "# @title Setup model config\n",
        "from enum import Enum\n",
        "\n",
        "# Model class\n",
        "class ModelFamily(str, Enum):\n",
        "  openai = 'openai'\n",
        "  llama = 'llama'\n",
        "  anthropic = 'anthropic'\n",
        "  cohere = 'cohere'\n",
        "\n",
        "# Model names\n",
        "class OpenAIModels(str, Enum):\n",
        "  gpt_3_5 = 'gpt-3.5-turbo-1106'\n",
        "  gpt_4 = 'gpt-4'\n",
        "\n",
        "class LlamaModels(str, Enum):\n",
        "  llama_7b = 'meta-llama/Llama-2-7b-hf'\n",
        "  llama_7b_chat = 'meta-llama/Llama-2-7b-chat'\n",
        "  codellama_7b = 'codellama/CodeLlama-7b-Python-hf'\n",
        "  codellama_7b_chat = 'codellama/CodeLlama-7b-Instruct-hf'\n",
        "\n",
        "class AnthropicModels(str, Enum):\n",
        "  claude2 = 'claude2'\n",
        "\n",
        "class CohereModels(str, Enum):\n",
        "  cohere_small = 'cohere-small'\n",
        "  cohere_medium = 'cohere-medium'\n",
        "  cohere_large = 'cohere-large'\n",
        "\n",
        "\n",
        "@dataclasses.dataclass\n",
        "class ModelConfig:\n",
        "  \"\"\"Configuration for the model\"\"\"\n",
        "  model_family: ModelFamily = ModelFamily.openai\n",
        "  model_name: OpenAIModels | LlamaModels | AnthropicModels | CohereModels = OpenAIModels.gpt_3_5\n",
        "\n",
        "model_config = ModelConfig()\n",
        "eprint(model_config)\n"
      ]
    },
    {
      "cell_type": "code",
      "execution_count": null,
      "metadata": {
        "cellView": "form",
        "id": "N_ESVydhRmdv"
      },
      "outputs": [],
      "source": [
        "# @title Setup generation config\n",
        "\n",
        "@dataclasses.dataclass\n",
        "class GenerationConfig:\n",
        "  \"\"\"Configuration for the generation\"\"\"\n",
        "  add_special_tokens: bool = False\n",
        "  do_sample: bool = True\n",
        "  max_tokens: int = 1000\n",
        "  max_new_tokens: int = 200\n",
        "  num_return_sequences: int = 1\n",
        "  temperature: float = 0.0\n",
        "  top_k: int = 10\n",
        "  top_p: float = 0.95\n",
        "\n",
        "generation_config = GenerationConfig()\n",
        "eprint(generation_config)"
      ]
    },
    {
      "cell_type": "code",
      "execution_count": null,
      "metadata": {
        "id": "O_kxSM_ASnAZ",
        "cellView": "form"
      },
      "outputs": [],
      "source": [
        "# @title Load appropriate keys\n",
        "# @title Load keys from environment or ask user input\n",
        "\n",
        "\n",
        "@dataclasses.dataclass\n",
        "class KeyChain:\n",
        "  \"\"\"Store keys\"\"\"\n",
        "  openai_api_key: str = ''\n",
        "  anthropic_api_key: str = ''\n",
        "  cohere_api_key: str = ''\n",
        "\n",
        "key_chain = KeyChain()\n",
        "\n",
        "\n",
        "if notebook_config.use_dot_env:\n",
        "  match model_config.model_family:\n",
        "    case ModelFamily.openai:\n",
        "      key_chain.openai_api_key = os.environ.get('OPENAI_API_KEY')\n",
        "    case ModelFamily.anthropic:\n",
        "      key_chain.anthropic_api_key = os.environ.get('ANTHROPIC_API_KEY')\n",
        "    case ModelFamily.cohere:\n",
        "      key_chain.cohere_api_key = os.environ.get('COHERE_API_KEY')\n",
        "\n",
        "else:\n",
        "  match model_config.model_family:\n",
        "    case ModelFamily.openai:\n",
        "      key_chain.openai_api_key = \"Enter OpenAI Key Here\" #@param {type:\"string\"}\n",
        "    case ModelFamily.anthropic:\n",
        "      key_chain.anthropic_api_key = \"Enter Anthropic Key Here\" #@param {type:\"string\"\n",
        "    case ModelFamily.cohere:\n",
        "      key_chain.cohere_api_key = \"Enter Cohere Key Here\" #@param {type:\"string\"\n",
        "\n",
        "eprint(key_chain)"
      ]
    },
    {
      "cell_type": "code",
      "source": [],
      "metadata": {
        "id": "ZN8IACkYxpsM"
      },
      "execution_count": null,
      "outputs": []
    }
  ],
  "metadata": {
    "colab": {
      "provenance": [],
      "toc_visible": true,
      "include_colab_link": true
    },
    "kernelspec": {
      "display_name": "Python 3",
      "name": "python3"
    },
    "language_info": {
      "name": "python"
    }
  },
  "nbformat": 4,
  "nbformat_minor": 0
}
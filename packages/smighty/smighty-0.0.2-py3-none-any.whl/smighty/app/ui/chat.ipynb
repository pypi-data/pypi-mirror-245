{
  "cells": [
    {
      "cell_type": "markdown",
      "metadata": {
        "id": "view-in-github",
        "colab_type": "text"
      },
      "source": [
        "<a href=\"https://colab.research.google.com/github/alywonder/smighty/blob/master/smighty/app/chat.ipynb\" target=\"_parent\"><img src=\"https://colab.research.google.com/assets/colab-badge.svg\" alt=\"Open In Colab\"/></a>"
      ]
    },
    {
      "cell_type": "markdown",
      "metadata": {
        "id": "RmwKdn0fgB4Q"
      },
      "source": [
        "# Smighty Chat Client"
      ]
    },
    {
      "cell_type": "markdown",
      "source": [
        "## Clone the repository\n",
        "\n",
        "Since smighty is a private repository, we have to jump through some hoops to connect to it."
      ],
      "metadata": {
        "id": "aWFOLJfugNmM"
      }
    },
    {
      "cell_type": "code",
      "source": [
        "# @title Mount Google drive.\n",
        "from google.colab import drive\n",
        "drive.mount('/content/drive')"
      ],
      "metadata": {
        "cellView": "form",
        "id": "1Y77GPPngcgG"
      },
      "execution_count": null,
      "outputs": []
    },
    {
      "cell_type": "code",
      "source": [
        "# @title Copy ssh keys from the drive to .ssh directory\n",
        "!mkdir -p /root/.ssh\n",
        "!cp /content/drive/My\\ Drive/keys/id_ed25519* /root/.ssh/\n",
        "!chmod +r /root/.ssh/id_ed25519.pub"
      ],
      "metadata": {
        "cellView": "form",
        "id": "mGW-G_W0gt0d"
      },
      "execution_count": null,
      "outputs": []
    },
    {
      "cell_type": "code",
      "source": [
        "# @title Run keyscan for github.com\n",
        "!ssh-keyscan github.com >> /root/.ssh/known_hosts"
      ],
      "metadata": {
        "cellView": "form",
        "id": "jZBWBjKYhxuA"
      },
      "execution_count": null,
      "outputs": []
    },
    {
      "cell_type": "code",
      "source": [
        "# @title Ssh authenticate\n",
        "!ssh -T git@github.com"
      ],
      "metadata": {
        "cellView": "form",
        "id": "8x2q0XJxiHkd"
      },
      "execution_count": null,
      "outputs": []
    },
    {
      "cell_type": "code",
      "execution_count": null,
      "metadata": {
        "cellView": "form",
        "id": "aYaW6C28gB4U"
      },
      "outputs": [],
      "source": [
        "# @title Clone the repository\n",
        "!git clone git@github.com:alywonder/smighty.git\n",
        "%cd smighty"
      ]
    },
    {
      "cell_type": "markdown",
      "source": [
        "## Install and run Smighty"
      ],
      "metadata": {
        "id": "ryFl-uorlr3S"
      }
    },
    {
      "cell_type": "code",
      "source": [
        "# @title Install Smighty package\n",
        "!pip install ."
      ],
      "metadata": {
        "cellView": "form",
        "id": "95EPtzaEmZVi"
      },
      "execution_count": null,
      "outputs": []
    },
    {
      "cell_type": "code",
      "source": [
        "# @title Install and run chat interface\n",
        "from smighty.app import llmchat\n",
        "\n",
        "llmchat.launch()"
      ],
      "metadata": {
        "id": "Csc1nkD-2wy6"
      },
      "execution_count": null,
      "outputs": []
    },
    {
      "cell_type": "code",
      "source": [],
      "metadata": {
        "id": "8Oc_9gqm4PJF"
      },
      "execution_count": null,
      "outputs": []
    }
  ],
  "metadata": {
    "language_info": {
      "name": "python"
    },
    "colab": {
      "provenance": [],
      "toc_visible": true,
      "include_colab_link": true
    },
    "kernelspec": {
      "name": "python3",
      "display_name": "Python 3"
    }
  },
  "nbformat": 4,
  "nbformat_minor": 0
}
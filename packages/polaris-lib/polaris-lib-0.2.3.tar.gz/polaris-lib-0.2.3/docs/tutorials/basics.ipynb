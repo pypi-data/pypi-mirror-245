{
 "cells": [
  {
   "cell_type": "markdown",
   "id": "40f99374-b47e-4f84-bdb9-148a11f9c07d",
   "metadata": {},
   "source": [
    "# The Basics\n",
    "\n",
    "<div class=\"admonition abstract highlight\">\n",
    "    <p class=\"admonition-title\">In short</p>\n",
    "    <p>This tutorial walks you through the basic usage of Polaris. We will first login to the hub and will then see how easy it is to load a dataset or benchmark from it. Finally, we will train a simple baseline to submit a first set of results!</p>\n",
    "</div>\n",
    "\n",
    "Polaris is designed to standardize the process of constructing datasets, specifying benchmarks and evaluating novel machine learning techniques within the realms of biology, chemistry, and drug discovery.\n",
    "\n",
    "While the Polaris library can be used independently from the <a href=\"https://polarishub.io/\">Polaris Hub</a>, the two were designed to seamlessly work together. The hub provides various pre-made, high quality datasets and benchmarks to develop and evaluate novel ML methods. In this tutorial, we will see how easy it is to load and use these datasets and benchmarks."
   ]
  },
  {
   "cell_type": "code",
   "execution_count": 1,
   "id": "3d66f466",
   "metadata": {
    "tags": [
     "remove_cell"
    ]
   },
   "outputs": [],
   "source": [
    "# Note: Cell is tagged to not show up in the mkdocs build\n",
    "%load_ext autoreload\n",
    "%autoreload 2"
   ]
  },
  {
   "cell_type": "code",
   "execution_count": 2,
   "id": "9b465ea4-7c71-443b-9908-3f9e567ee4c4",
   "metadata": {},
   "outputs": [],
   "source": [
    "import polaris as po\n",
    "from polaris.hub.client import PolarisHubClient"
   ]
  },
  {
   "cell_type": "markdown",
   "id": "168c7f21-f9ec-43e2-b123-2bdcba2e8a71",
   "metadata": {},
   "source": [
    "### Login\n",
    "To be able to complete this step, you will require a Polaris Hub account. Go to [https://polarishub.io/](https://polarishub.io/) to create one. You only have to log in once at the start or when you haven't used your account in a while."
   ]
  },
  {
   "cell_type": "code",
   "execution_count": 3,
   "id": "de8bf4bf-4dbd-42eb-8f74-bf8aa0339469",
   "metadata": {},
   "outputs": [
    {
     "name": "stderr",
     "output_type": "stream",
     "text": [
      "\u001b[32m2023-11-27 14:54:08.788\u001b[0m | \u001b[1mINFO    \u001b[0m | \u001b[36mpolaris.hub.client\u001b[0m:\u001b[36mlogin\u001b[0m:\u001b[36m262\u001b[0m - \u001b[1mYou are already logged in to the Polaris Hub as cwognum (cas@valencediscovery.com). Set `overwrite=True` to force re-authentication.\u001b[0m\n"
     ]
    }
   ],
   "source": [
    "client = PolarisHubClient()\n",
    "client.login()"
   ]
  },
  {
   "cell_type": "markdown",
   "id": "0ea6d6c0",
   "metadata": {},
   "source": [
    "Instead of through the Python API, you could also use the Polaris CLI. See:\n",
    "```sh\n",
    "polaris login --help\n",
    "```"
   ]
  },
  {
   "cell_type": "markdown",
   "id": "5edee39f-ce29-4ae6-91ce-453d9190541b",
   "metadata": {},
   "source": [
    "### Load from the Hub\n",
    "Both datasets and benchmarks are identified by a `owner/name` id. You can easily find and copy these through the Hub. Once you have the id, loading a dataset or benchmark is incredibly easy. "
   ]
  },
  {
   "cell_type": "code",
   "execution_count": 4,
   "id": "4e004589-6c48-4232-b353-b1700536dde6",
   "metadata": {},
   "outputs": [],
   "source": [
    "dataset = po.load_dataset(\"polaris/hello_world_dataset\")\n",
    "benchmark = po.load_benchmark(\"polaris/hello_world_benchmark\")"
   ]
  },
  {
   "cell_type": "markdown",
   "id": "1ce8e0e5-88c8-4d3b-9292-e75c97315833",
   "metadata": {},
   "source": [
    "### Use the benchmark\n",
    "The polaris library is designed to make it easy to participate in a benchmark. In just a few lines of code, we can get the train and test partition, access the associated data in various ways and evaluate our predictions. There's two main API endpoints. \n",
    "\n",
    "- `get_train_test_split()`: For creating objects through which we can access the different dataset partitions.\n",
    "- `evaluate()`: For evaluating a set of predictions in accordance with the benchmark protocol."
   ]
  },
  {
   "cell_type": "code",
   "execution_count": 5,
   "id": "b55195cd-84da-4cd9-951b-c148265b303c",
   "metadata": {},
   "outputs": [],
   "source": [
    "train, test = benchmark.get_train_test_split()"
   ]
  },
  {
   "cell_type": "markdown",
   "id": "c14e189c",
   "metadata": {},
   "source": [
    "The created objects support various flavours to access the data.\n",
    "\n",
    "- The objects are iterable;\n",
    "- The objects can be indexed;\n",
    "- The objects have properties to access all data at once."
   ]
  },
  {
   "cell_type": "code",
   "execution_count": 6,
   "id": "43cbe460",
   "metadata": {},
   "outputs": [],
   "source": [
    "for x, y in train:\n",
    "    pass"
   ]
  },
  {
   "cell_type": "code",
   "execution_count": 7,
   "id": "2f317c10",
   "metadata": {},
   "outputs": [],
   "source": [
    "for i in range(len(train)):\n",
    "    x, y = train[i]"
   ]
  },
  {
   "cell_type": "code",
   "execution_count": 8,
   "id": "08ce24c7-992a-40a7-b8ef-c862fab99e6e",
   "metadata": {},
   "outputs": [],
   "source": [
    "x = train.inputs\n",
    "y = train.targets"
   ]
  },
  {
   "cell_type": "markdown",
   "id": "d5fa35c5-e2d0-4d75-a2cb-75b4749d91ef",
   "metadata": {},
   "source": [
    "To avoid accidental access to the test targets, the test object does not expose the labels and will throw an error if you try access them explicitly."
   ]
  },
  {
   "cell_type": "code",
   "execution_count": 9,
   "id": "8c33b7d4-fa82-4994-a7ab-5d0821ad5fd4",
   "metadata": {
    "scrolled": true
   },
   "outputs": [],
   "source": [
    "for x in test:\n",
    "    pass"
   ]
  },
  {
   "cell_type": "code",
   "execution_count": 10,
   "id": "8b4ac073",
   "metadata": {},
   "outputs": [],
   "source": [
    "for i in range(len(test)):\n",
    "    x = test[i]"
   ]
  },
  {
   "cell_type": "code",
   "execution_count": 11,
   "id": "5664eb87",
   "metadata": {},
   "outputs": [],
   "source": [
    "x = test.inputs\n",
    "\n",
    "# NOTE: The below will throw an error!\n",
    "# y = test.targets"
   ]
  },
  {
   "cell_type": "markdown",
   "id": "955ad9db-3468-4f34-b303-18e6d642be56",
   "metadata": {},
   "source": [
    "### Partake in the benchmark\n",
    "\n",
    "To complete our example, let's participate in the benchmark. We will train a simple random forest model on the ECFP representation through scikit-learn and datamol."
   ]
  },
  {
   "cell_type": "code",
   "execution_count": 12,
   "id": "748dd278-0fd0-4c5b-ac6a-8d974143c3b9",
   "metadata": {},
   "outputs": [
    {
     "data": {
      "text/html": [
       "<style>#sk-container-id-1 {color: black;}#sk-container-id-1 pre{padding: 0;}#sk-container-id-1 div.sk-toggleable {background-color: white;}#sk-container-id-1 label.sk-toggleable__label {cursor: pointer;display: block;width: 100%;margin-bottom: 0;padding: 0.3em;box-sizing: border-box;text-align: center;}#sk-container-id-1 label.sk-toggleable__label-arrow:before {content: \"▸\";float: left;margin-right: 0.25em;color: #696969;}#sk-container-id-1 label.sk-toggleable__label-arrow:hover:before {color: black;}#sk-container-id-1 div.sk-estimator:hover label.sk-toggleable__label-arrow:before {color: black;}#sk-container-id-1 div.sk-toggleable__content {max-height: 0;max-width: 0;overflow: hidden;text-align: left;background-color: #f0f8ff;}#sk-container-id-1 div.sk-toggleable__content pre {margin: 0.2em;color: black;border-radius: 0.25em;background-color: #f0f8ff;}#sk-container-id-1 input.sk-toggleable__control:checked~div.sk-toggleable__content {max-height: 200px;max-width: 100%;overflow: auto;}#sk-container-id-1 input.sk-toggleable__control:checked~label.sk-toggleable__label-arrow:before {content: \"▾\";}#sk-container-id-1 div.sk-estimator input.sk-toggleable__control:checked~label.sk-toggleable__label {background-color: #d4ebff;}#sk-container-id-1 div.sk-label input.sk-toggleable__control:checked~label.sk-toggleable__label {background-color: #d4ebff;}#sk-container-id-1 input.sk-hidden--visually {border: 0;clip: rect(1px 1px 1px 1px);clip: rect(1px, 1px, 1px, 1px);height: 1px;margin: -1px;overflow: hidden;padding: 0;position: absolute;width: 1px;}#sk-container-id-1 div.sk-estimator {font-family: monospace;background-color: #f0f8ff;border: 1px dotted black;border-radius: 0.25em;box-sizing: border-box;margin-bottom: 0.5em;}#sk-container-id-1 div.sk-estimator:hover {background-color: #d4ebff;}#sk-container-id-1 div.sk-parallel-item::after {content: \"\";width: 100%;border-bottom: 1px solid gray;flex-grow: 1;}#sk-container-id-1 div.sk-label:hover label.sk-toggleable__label {background-color: #d4ebff;}#sk-container-id-1 div.sk-serial::before {content: \"\";position: absolute;border-left: 1px solid gray;box-sizing: border-box;top: 0;bottom: 0;left: 50%;z-index: 0;}#sk-container-id-1 div.sk-serial {display: flex;flex-direction: column;align-items: center;background-color: white;padding-right: 0.2em;padding-left: 0.2em;position: relative;}#sk-container-id-1 div.sk-item {position: relative;z-index: 1;}#sk-container-id-1 div.sk-parallel {display: flex;align-items: stretch;justify-content: center;background-color: white;position: relative;}#sk-container-id-1 div.sk-item::before, #sk-container-id-1 div.sk-parallel-item::before {content: \"\";position: absolute;border-left: 1px solid gray;box-sizing: border-box;top: 0;bottom: 0;left: 50%;z-index: -1;}#sk-container-id-1 div.sk-parallel-item {display: flex;flex-direction: column;z-index: 1;position: relative;background-color: white;}#sk-container-id-1 div.sk-parallel-item:first-child::after {align-self: flex-end;width: 50%;}#sk-container-id-1 div.sk-parallel-item:last-child::after {align-self: flex-start;width: 50%;}#sk-container-id-1 div.sk-parallel-item:only-child::after {width: 0;}#sk-container-id-1 div.sk-dashed-wrapped {border: 1px dashed gray;margin: 0 0.4em 0.5em 0.4em;box-sizing: border-box;padding-bottom: 0.4em;background-color: white;}#sk-container-id-1 div.sk-label label {font-family: monospace;font-weight: bold;display: inline-block;line-height: 1.2em;}#sk-container-id-1 div.sk-label-container {text-align: center;}#sk-container-id-1 div.sk-container {/* jupyter's `normalize.less` sets `[hidden] { display: none; }` but bootstrap.min.css set `[hidden] { display: none !important; }` so we also need the `!important` here to be able to override the default hidden behavior on the sphinx rendered scikit-learn.org. See: https://github.com/scikit-learn/scikit-learn/issues/21755 */display: inline-block !important;position: relative;}#sk-container-id-1 div.sk-text-repr-fallback {display: none;}</style><div id=\"sk-container-id-1\" class=\"sk-top-container\"><div class=\"sk-text-repr-fallback\"><pre>RandomForestRegressor(max_depth=2, random_state=0)</pre><b>In a Jupyter environment, please rerun this cell to show the HTML representation or trust the notebook. <br />On GitHub, the HTML representation is unable to render, please try loading this page with nbviewer.org.</b></div><div class=\"sk-container\" hidden><div class=\"sk-item\"><div class=\"sk-estimator sk-toggleable\"><input class=\"sk-toggleable__control sk-hidden--visually\" id=\"sk-estimator-id-1\" type=\"checkbox\" checked><label for=\"sk-estimator-id-1\" class=\"sk-toggleable__label sk-toggleable__label-arrow\">RandomForestRegressor</label><div class=\"sk-toggleable__content\"><pre>RandomForestRegressor(max_depth=2, random_state=0)</pre></div></div></div></div></div>"
      ],
      "text/plain": [
       "RandomForestRegressor(max_depth=2, random_state=0)"
      ]
     },
     "execution_count": 12,
     "metadata": {},
     "output_type": "execute_result"
    }
   ],
   "source": [
    "import datamol as dm\n",
    "from sklearn.ensemble import RandomForestRegressor\n",
    "\n",
    "# Convert smiles to ECFP fingerprints\n",
    "train_fps = [dm.to_fp(smi) for smi in train.inputs]\n",
    "\n",
    "# Define a model and train\n",
    "model = RandomForestRegressor(max_depth=2, random_state=0)\n",
    "model.fit(train_fps, train.targets)"
   ]
  },
  {
   "cell_type": "markdown",
   "id": "a75a9f01",
   "metadata": {},
   "source": [
    "To evaluate a model within Polaris, you should use the `evaluate()` endpoint. This requires you to just provide the predictions. The targets of the test set are automatically extracted so that the chance of the user accessing the test labels is minimal"
   ]
  },
  {
   "cell_type": "code",
   "execution_count": 13,
   "id": "6633ec79-a6ff-4ce0-bc7d-cdb9e1042462",
   "metadata": {},
   "outputs": [],
   "source": [
    "test_fps = [dm.to_fp(smi) for smi in test.inputs]\n",
    "predictions = model.predict(test_fps)"
   ]
  },
  {
   "cell_type": "code",
   "execution_count": 14,
   "id": "79c072cf-683e-4257-b31e-59fdbcf5e979",
   "metadata": {},
   "outputs": [
    {
     "data": {
      "text/html": [
       "<table border=\"1\"><tr><th>name</th><td>None</td></tr><tr><th>description</th><td></td></tr><tr><th>tags</th><td></td></tr><tr><th>user_attributes</th><td></td></tr><tr><th>owner</th><td>None</td></tr><tr><th>benchmark_name</th><td>hello_world_benchmark</td></tr><tr><th>benchmark_owner</th><td><table border=\"1\"><tr><th>slug</th><td>polaris</td></tr><tr><th>external_id</th><td>org_2WG9hRFgKNIRtGw4orsMPcr1F4S</td></tr><tr><th>type</th><td>organization</td></tr></table></td></tr><tr><th>github_url</th><td>None</td></tr><tr><th>paper_url</th><td>None</td></tr><tr><th>contributors</th><td>None</td></tr><tr><th>artifact_id</th><td>None</td></tr><tr><th>benchmark_artifact_id</th><td>polaris/hello-world-benchmark</td></tr><tr><th>results</th><td><table border=\"1\"><thead><tr><th>Test set</th><th>Target label</th><th>Metric</th><th>Score</th></tr></thead><tbody><tr><td>test</td><td>SOL</td><td>mean_squared_error</td><td>2.6875139821</td></tr><tr><td>test</td><td>SOL</td><td>mean_absolute_error</td><td>1.2735690161</td></tr></tbody></table></td></tr></table>"
      ],
      "text/plain": [
       "{\n",
       "  \"name\": null,\n",
       "  \"description\": \"\",\n",
       "  \"tags\": [],\n",
       "  \"user_attributes\": {},\n",
       "  \"owner\": null,\n",
       "  \"benchmark_name\": \"hello_world_benchmark\",\n",
       "  \"benchmark_owner\": {\n",
       "    \"slug\": \"polaris\",\n",
       "    \"external_id\": \"org_2WG9hRFgKNIRtGw4orsMPcr1F4S\",\n",
       "    \"type\": \"organization\"\n",
       "  },\n",
       "  \"github_url\": null,\n",
       "  \"paper_url\": null,\n",
       "  \"contributors\": null,\n",
       "  \"artifact_id\": null,\n",
       "  \"benchmark_artifact_id\": \"polaris/hello-world-benchmark\",\n",
       "  \"results\": [\n",
       "    {\n",
       "      \"Test set\": \"test\",\n",
       "      \"Target label\": \"SOL\",\n",
       "      \"Metric\": \"mean_squared_error\",\n",
       "      \"Score\": 2.6875139821\n",
       "    },\n",
       "    {\n",
       "      \"Test set\": \"test\",\n",
       "      \"Target label\": \"SOL\",\n",
       "      \"Metric\": \"mean_absolute_error\",\n",
       "      \"Score\": 1.2735690161\n",
       "    }\n",
       "  ]\n",
       "}"
      ]
     },
     "execution_count": 14,
     "metadata": {},
     "output_type": "execute_result"
    }
   ],
   "source": [
    "results = benchmark.evaluate(predictions)\n",
    "results"
   ]
  },
  {
   "cell_type": "markdown",
   "id": "90114c20-4c01-432b-9f4d-b31863881cc6",
   "metadata": {},
   "source": [
    "Before uploading the results to the Hub, you can provide some additional information about the results that will be displayed on the Polaris Hub."
   ]
  },
  {
   "cell_type": "code",
   "execution_count": 15,
   "id": "a601f415-c563-4efe-94c3-0d44f3fd6576",
   "metadata": {},
   "outputs": [],
   "source": [
    "results.name = f\"hello-world-result\"\n",
    "results.github_url = \"https://github.com/polaris-hub/polaris-hub\"\n",
    "results.paper_url = \"https://polaris-hub.vercel.app\"\n",
    "results.description = \"Hello, World!\""
   ]
  },
  {
   "cell_type": "markdown",
   "id": "4e7cc06d",
   "metadata": {},
   "source": [
    "Finally, let's upload the results to the Hub! The result will be private, but visiting the link in the logs you can decide to make it public through the Hub."
   ]
  },
  {
   "cell_type": "code",
   "execution_count": 16,
   "id": "60cbf4b9-8514-480d-beda-8a50e5f7c9a6",
   "metadata": {
    "scrolled": true
   },
   "outputs": [
    {
     "name": "stderr",
     "output_type": "stream",
     "text": [
      "/home/cas/micromamba/envs/polaris/lib/python3.12/site-packages/pydantic/main.py:308: UserWarning: Pydantic serializer warnings:\n",
      "  Expected `url` but got `str` - serialized value may not be as expected\n",
      "  Expected `url` but got `str` - serialized value may not be as expected\n",
      "  return self.__pydantic_serializer__.to_python(\n",
      "\u001b[32m2023-11-27 14:54:46.649\u001b[0m | \u001b[32m\u001b[1mSUCCESS \u001b[0m | \u001b[36mpolaris.hub.client\u001b[0m:\u001b[36mupload_results\u001b[0m:\u001b[36m428\u001b[0m - \u001b[32m\u001b[1mYour result has been successfully uploaded to the Hub. View it here: https://polarishub.io/benchmarks/polaris/hello_world_benchmark/ns4JrC3hQNK9M1hbVPchy\u001b[0m\n"
     ]
    }
   ],
   "source": [
    "client.upload_results(results, owner=\"cwognum\")\n",
    "client.close()"
   ]
  },
  {
   "cell_type": "markdown",
   "id": "78fe8d63",
   "metadata": {},
   "source": [
    "That's it! Just like that you have partaken in your first Polaris benchmark. In next tutorials, we will consider more advanced use cases of Polaris, such as creating and uploading your own datasets and benchmarks. \n",
    "\n",
    "The End.\n",
    "\n",
    "---"
   ]
  }
 ],
 "metadata": {
  "kernelspec": {
   "display_name": "Python 3 (ipykernel)",
   "language": "python",
   "name": "python3"
  },
  "language_info": {
   "codemirror_mode": {
    "name": "ipython",
    "version": 3
   },
   "file_extension": ".py",
   "mimetype": "text/x-python",
   "name": "python",
   "nbconvert_exporter": "python",
   "pygments_lexer": "ipython3",
   "version": "3.12.0"
  }
 },
 "nbformat": 4,
 "nbformat_minor": 5
}
